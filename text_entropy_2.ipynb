{
 "cells": [
  {
   "cell_type": "code",
   "execution_count": 1,
   "metadata": {},
   "outputs": [],
   "source": [
    "import PreprocessText\n",
    "import EntropyCount"
   ]
  },
  {
   "cell_type": "code",
   "execution_count": 2,
   "metadata": {},
   "outputs": [],
   "source": [
    "import pandas as pd\n",
    "import matplotlib.pyplot as plt"
   ]
  },
  {
   "cell_type": "code",
   "execution_count": 3,
   "metadata": {},
   "outputs": [],
   "source": [
    "dir = \"teksty/nasz_dziennik/wirus/\""
   ]
  },
  {
   "cell_type": "code",
   "execution_count": 4,
   "metadata": {},
   "outputs": [],
   "source": [
    "file = \"1.txt\""
   ]
  },
  {
   "cell_type": "code",
   "execution_count": 5,
   "metadata": {},
   "outputs": [
    {
     "name": "stdout",
     "output_type": "stream",
     "text": [
      "Wielkopolskie: Piąte ognisko ptasiej grypy\n",
      "Czwartek, 23 stycznia 2020 (21:14)\n",
      "\n",
      "Piąte ognisko ptasiej grypy potwierdzono w Wielkopolsce w gospodarstwie\n",
      "['Piąte ognisko ptasiej grypy potwierdzono w Wielkopolsce w gospodarstwie w Radłowie, w powiecie ostrowskim - poinformował wojewódzki lekarz weterynarii w Poznaniu Andrzej Żarnecki.', 'Do tej pory – jak poinformował PAP wojewódzki lekarz weterynarii w Poznaniu Andrzej Żarnecki – potwierdzono pięć przypadków ptasiej grypy ptaków w Wielkopolsce.', 'Pierwszy przypadek pojawienia się ptasiej grypy – przypomniał Żarnecki – służby weterynaryjne ujawniły 31 grudnia ub.r. w Topoli Osiedlu w powiecie ostrowskim. Wirus H5N8 wystąpił na fermie, gdzie hodowano 65 tys. kur niosek.', 'Drugim razem obecność wirusa potwierdzono 13 stycznia na fermie w miejscowości Zalesie w powiecie kolskim, gdzie wybito 6 tys. gęsi.', 'Trzy dni później, 15 stycznia, w miejscowości Słaborowice w powiecie ostrowskim w gospodarstwie wybito 21 tys. zarażonych kaczek.', 'Następnego dnia wirus ptasiej grypy potwierdzono po raz czwarty w Ostrowie Wielkopolskim, gdzie wirus zaatakował stado 9 tys. kaczek.', 'Piąte ognisko występowania wirusa Wojewódzki Lekarz Weterynarii w Poznaniu potwierdził w czwartek. Tym razem ptasia grypa zaatakowała stado 140 kur w Radłowie w powiecie ostrowskim.', 'Wszystkie potwierdzające występowanie wirusa badania – jak przekazał Żarnecki – przeprowadzono w Państwowym Instytucie Weterynarii w Puławach.', 'Zarażone ptaki zutylizowano w zakładzie w Śmiłowie niedaleko Piły.', 'Ptasia grypa to choroba wirusowa stwarzająca zagrożenie przede wszystkim dla ptaków – zarówno dzikich, wolnożyjących, jak i dla drobiu hodowanego przez ludzi.']\n",
      " Piąte ognisko ptasiej grypy potwierdzono w Wielkopolsce w gospodarstwie w Radłowie, w powiecie ostrowskim - poinformował wojewódzki lekarz weterynarii w Poznaniu Andrzej Żarnecki. Do tej pory – jak p\n",
      " Piąte ognisko ptasiej grypy potwierdzono w Wielkopolsce w gospodarstwie w Radłowie w powiecie ostrowskim  poinformował wojewódzki lekarz weterynarii w Poznaniu Andrzej Żarnecki Do tej pory   jak poin\n",
      "1.txt\n",
      "1\n",
      "# newdoc id = teksty/nasz_dziennik/wirus/1_body_cleaned.txt\n",
      "# newpar\n",
      "# sent_id = 1\n",
      "1\tPiąte\tPiąty\tADJ\tadj:sg:nom:n:pos\tCase=Nom|Degree=Pos|Gender=Neut|Number=Sing\t_\t_\t_\t_\n",
      "2\tognisko\tognisko\tNOUN\tsubst:sg:nom:n\tCase=Nom|Gender=Neut|Number=Sing\t_\t_\t_\t_\n",
      "3\tptasiej\tptasi\tADJ\tadj:sg:gen:f:pos\tCase=Gen|Degree=Pos|Gender=Fem|Number=Sing\t_\t_\t_\t_\n",
      "4\tgrypy\tgrypa\tNOUN\tsubst:sg:gen:f\tCase=Gen|Gender=Fem|Number=Sing\t_\t_\t_\t_\n",
      "5\tpotwierdzono\tpotwierdzony\tADJ\timps:perf\tAspect=Perf|Case=Nom|Gender=Neut|Number=Sing|Po\n",
      "['Piąty', 'ognisko', 'ptasi', 'grypa', 'potwierdzony', 'w', 'Wielkopolska', 'w', 'gospodarstwo', 'w', 'Radłów', 'w', 'powiat', 'ostrowski', 'poinformować', 'wojewódzki', 'lekarz', 'weterynaria', 'w', 'Poznań']\n"
     ]
    }
   ],
   "source": [
    "process1 = PreprocessText.whole_proces_polish(dir, file, verbose=True)"
   ]
  },
  {
   "cell_type": "code",
   "execution_count": 6,
   "metadata": {},
   "outputs": [
    {
     "data": {
      "text/plain": [
       "['Piąty',\n",
       " 'ognisko',\n",
       " 'ptasi',\n",
       " 'grypa',\n",
       " 'potwierdzony',\n",
       " 'w',\n",
       " 'Wielkopolska',\n",
       " 'w',\n",
       " 'gospodarstwo',\n",
       " 'w',\n",
       " 'Radłów',\n",
       " 'w',\n",
       " 'powiat',\n",
       " 'ostrowski',\n",
       " 'poinformować',\n",
       " 'wojewódzki',\n",
       " 'lekarz',\n",
       " 'weterynaria',\n",
       " 'w',\n",
       " 'Poznań']"
      ]
     },
     "execution_count": 6,
     "metadata": {},
     "output_type": "execute_result"
    }
   ],
   "source": [
    "process1[:20]"
   ]
  },
  {
   "cell_type": "code",
   "execution_count": 7,
   "metadata": {},
   "outputs": [
    {
     "data": {
      "text/plain": [
       "(7.070629968236177, 341)"
      ]
     },
     "execution_count": 7,
     "metadata": {},
     "output_type": "execute_result"
    }
   ],
   "source": [
    "EntropyCount.calculate_entropy_for_all_words(process1)"
   ]
  },
  {
   "cell_type": "code",
   "execution_count": 8,
   "metadata": {},
   "outputs": [],
   "source": [
    "def preprocess_paper(dir_, range_limit, paper_name):\n",
    "    \n",
    "    list_articles = []\n",
    "    \n",
    "    for n in range(5):\n",
    "        file = str(n+1) + \".txt\"\n",
    "\n",
    "        prep = PreprocessText.whole_proces_polish(dir_, file)\n",
    "        entropy, amount_tokens = EntropyCount.calculate_entropy_for_all_words(prep)\n",
    "\n",
    "        list_this = []\n",
    "        list_this.append(n)\n",
    "        list_this.append(paper_name)\n",
    "        list_this.append(prep[:3])\n",
    "        list_this.append(amount_tokens)\n",
    "        list_this.append(entropy)\n",
    "        \n",
    "        list_articles.append(list_this)\n",
    "    \n",
    "    return list_articles\n",
    "    "
   ]
  },
  {
   "cell_type": "code",
   "execution_count": 9,
   "metadata": {},
   "outputs": [
    {
     "name": "stdout",
     "output_type": "stream",
     "text": [
      "1.txt\n",
      "1\n",
      "2.txt\n",
      "2\n",
      "3.txt\n",
      "3\n",
      "4.txt\n",
      "4\n",
      "5.txt\n",
      "5\n"
     ]
    }
   ],
   "source": [
    "dir_ = \"teksty/nasz_dziennik/wirus/\"\n",
    "paper_name = \"Nasz Dziennik\"\n",
    "articles_amount = 5\n",
    "\n",
    "list_nasz = preprocess_paper(dir_, articles_amount, paper_name)\n",
    "\n"
   ]
  },
  {
   "cell_type": "code",
   "execution_count": 10,
   "metadata": {},
   "outputs": [
    {
     "data": {
      "text/plain": [
       "[[0, 'Nasz Dziennik', ['Piąty', 'ognisko', 'ptasi'], 341, 7.070629968236177],\n",
       " [1,\n",
       "  'Nasz Dziennik',\n",
       "  ['mieć', 'dobrze', 'przygotowany'],\n",
       "  495,\n",
       "  7.460492771980687],\n",
       " [2,\n",
       "  'Nasz Dziennik',\n",
       "  ['Ukraina', 'zgłosić', 'pojawienie'],\n",
       "  180,\n",
       "  6.507227821789562],\n",
       " [3,\n",
       "  'Nasz Dziennik',\n",
       "  ['Czeski', 'służba', 'weterynaryjny'],\n",
       "  120,\n",
       "  6.284631975083053],\n",
       " [4, 'Nasz Dziennik', ['być', 'podejrzenie', 'ptasi'], 212, 6.726595662956001]]"
      ]
     },
     "execution_count": 10,
     "metadata": {},
     "output_type": "execute_result"
    }
   ],
   "source": [
    "list_nasz"
   ]
  },
  {
   "cell_type": "code",
   "execution_count": 11,
   "metadata": {},
   "outputs": [],
   "source": [
    "df_nasz = pd.DataFrame(list_nasz, columns = [\"Numer artykułu\", \"Nazwa gazety\", \"Pierwsze lematy\", \"Ilość tokenów\", \"Entropia\"])"
   ]
  },
  {
   "cell_type": "code",
   "execution_count": 12,
   "metadata": {},
   "outputs": [
    {
     "data": {
      "text/html": [
       "<div>\n",
       "<style scoped>\n",
       "    .dataframe tbody tr th:only-of-type {\n",
       "        vertical-align: middle;\n",
       "    }\n",
       "\n",
       "    .dataframe tbody tr th {\n",
       "        vertical-align: top;\n",
       "    }\n",
       "\n",
       "    .dataframe thead th {\n",
       "        text-align: right;\n",
       "    }\n",
       "</style>\n",
       "<table border=\"1\" class=\"dataframe\">\n",
       "  <thead>\n",
       "    <tr style=\"text-align: right;\">\n",
       "      <th></th>\n",
       "      <th>Numer artykułu</th>\n",
       "      <th>Nazwa gazety</th>\n",
       "      <th>Pierwsze lematy</th>\n",
       "      <th>Ilość tokenów</th>\n",
       "      <th>Entropia</th>\n",
       "    </tr>\n",
       "  </thead>\n",
       "  <tbody>\n",
       "    <tr>\n",
       "      <th>0</th>\n",
       "      <td>0</td>\n",
       "      <td>Nasz Dziennik</td>\n",
       "      <td>[Piąty, ognisko, ptasi]</td>\n",
       "      <td>341</td>\n",
       "      <td>7.070630</td>\n",
       "    </tr>\n",
       "    <tr>\n",
       "      <th>1</th>\n",
       "      <td>1</td>\n",
       "      <td>Nasz Dziennik</td>\n",
       "      <td>[mieć, dobrze, przygotowany]</td>\n",
       "      <td>495</td>\n",
       "      <td>7.460493</td>\n",
       "    </tr>\n",
       "    <tr>\n",
       "      <th>2</th>\n",
       "      <td>2</td>\n",
       "      <td>Nasz Dziennik</td>\n",
       "      <td>[Ukraina, zgłosić, pojawienie]</td>\n",
       "      <td>180</td>\n",
       "      <td>6.507228</td>\n",
       "    </tr>\n",
       "    <tr>\n",
       "      <th>3</th>\n",
       "      <td>3</td>\n",
       "      <td>Nasz Dziennik</td>\n",
       "      <td>[Czeski, służba, weterynaryjny]</td>\n",
       "      <td>120</td>\n",
       "      <td>6.284632</td>\n",
       "    </tr>\n",
       "    <tr>\n",
       "      <th>4</th>\n",
       "      <td>4</td>\n",
       "      <td>Nasz Dziennik</td>\n",
       "      <td>[być, podejrzenie, ptasi]</td>\n",
       "      <td>212</td>\n",
       "      <td>6.726596</td>\n",
       "    </tr>\n",
       "  </tbody>\n",
       "</table>\n",
       "</div>"
      ],
      "text/plain": [
       "   Numer artykułu   Nazwa gazety                  Pierwsze lematy  \\\n",
       "0               0  Nasz Dziennik          [Piąty, ognisko, ptasi]   \n",
       "1               1  Nasz Dziennik     [mieć, dobrze, przygotowany]   \n",
       "2               2  Nasz Dziennik   [Ukraina, zgłosić, pojawienie]   \n",
       "3               3  Nasz Dziennik  [Czeski, służba, weterynaryjny]   \n",
       "4               4  Nasz Dziennik        [być, podejrzenie, ptasi]   \n",
       "\n",
       "   Ilość tokenów  Entropia  \n",
       "0            341  7.070630  \n",
       "1            495  7.460493  \n",
       "2            180  6.507228  \n",
       "3            120  6.284632  \n",
       "4            212  6.726596  "
      ]
     },
     "execution_count": 12,
     "metadata": {},
     "output_type": "execute_result"
    }
   ],
   "source": [
    "df_nasz"
   ]
  },
  {
   "cell_type": "code",
   "execution_count": 13,
   "metadata": {},
   "outputs": [
    {
     "name": "stdout",
     "output_type": "stream",
     "text": [
      "1.txt\n",
      "1\n",
      "2.txt\n",
      "2\n",
      "3.txt\n",
      "3\n",
      "4.txt\n",
      "4\n",
      "5.txt\n",
      "5\n"
     ]
    }
   ],
   "source": [
    "dir_ = \"teksty/gazeta_wyborcza/wirus/\"\n",
    "paper_name = \"Gazeta Wyborcza\"\n",
    "articles_amount = 5\n",
    "\n",
    "list_gw = preprocess_paper(dir_, articles_amount, paper_name)\n",
    "\n"
   ]
  },
  {
   "cell_type": "code",
   "execution_count": 14,
   "metadata": {},
   "outputs": [],
   "source": [
    "df_gw = pd.DataFrame(list_gw, columns = [\"Numer artykułu\", \"Nazwa gazety\", \"Pierwsze lematy\", \"Ilość tokenów\", \"Entropia\"])"
   ]
  },
  {
   "cell_type": "code",
   "execution_count": 15,
   "metadata": {},
   "outputs": [
    {
     "data": {
      "text/html": [
       "<div>\n",
       "<style scoped>\n",
       "    .dataframe tbody tr th:only-of-type {\n",
       "        vertical-align: middle;\n",
       "    }\n",
       "\n",
       "    .dataframe tbody tr th {\n",
       "        vertical-align: top;\n",
       "    }\n",
       "\n",
       "    .dataframe thead th {\n",
       "        text-align: right;\n",
       "    }\n",
       "</style>\n",
       "<table border=\"1\" class=\"dataframe\">\n",
       "  <thead>\n",
       "    <tr style=\"text-align: right;\">\n",
       "      <th></th>\n",
       "      <th>Numer artykułu</th>\n",
       "      <th>Nazwa gazety</th>\n",
       "      <th>Pierwsze lematy</th>\n",
       "      <th>Ilość tokenów</th>\n",
       "      <th>Entropia</th>\n",
       "    </tr>\n",
       "  </thead>\n",
       "  <tbody>\n",
       "    <tr>\n",
       "      <th>0</th>\n",
       "      <td>0</td>\n",
       "      <td>Gazeta Wyborcza</td>\n",
       "      <td>[Szampański, zabawa, połączony]</td>\n",
       "      <td>243</td>\n",
       "      <td>7.305123</td>\n",
       "    </tr>\n",
       "    <tr>\n",
       "      <th>1</th>\n",
       "      <td>1</td>\n",
       "      <td>Gazeta Wyborcza</td>\n",
       "      <td>[grypa, dopaść, ja]</td>\n",
       "      <td>321</td>\n",
       "      <td>7.405729</td>\n",
       "    </tr>\n",
       "    <tr>\n",
       "      <th>2</th>\n",
       "      <td>2</td>\n",
       "      <td>Gazeta Wyborcza</td>\n",
       "      <td>[często, czytany, pierwszy]</td>\n",
       "      <td>1028</td>\n",
       "      <td>8.126686</td>\n",
       "    </tr>\n",
       "    <tr>\n",
       "      <th>3</th>\n",
       "      <td>3</td>\n",
       "      <td>Gazeta Wyborcza</td>\n",
       "      <td>[w, chiński, miasto]</td>\n",
       "      <td>340</td>\n",
       "      <td>7.333134</td>\n",
       "    </tr>\n",
       "    <tr>\n",
       "      <th>4</th>\n",
       "      <td>4</td>\n",
       "      <td>Gazeta Wyborcza</td>\n",
       "      <td>[Spełnie, się, ten]</td>\n",
       "      <td>129</td>\n",
       "      <td>6.264091</td>\n",
       "    </tr>\n",
       "  </tbody>\n",
       "</table>\n",
       "</div>"
      ],
      "text/plain": [
       "   Numer artykułu     Nazwa gazety                  Pierwsze lematy  \\\n",
       "0               0  Gazeta Wyborcza  [Szampański, zabawa, połączony]   \n",
       "1               1  Gazeta Wyborcza              [grypa, dopaść, ja]   \n",
       "2               2  Gazeta Wyborcza      [często, czytany, pierwszy]   \n",
       "3               3  Gazeta Wyborcza             [w, chiński, miasto]   \n",
       "4               4  Gazeta Wyborcza              [Spełnie, się, ten]   \n",
       "\n",
       "   Ilość tokenów  Entropia  \n",
       "0            243  7.305123  \n",
       "1            321  7.405729  \n",
       "2           1028  8.126686  \n",
       "3            340  7.333134  \n",
       "4            129  6.264091  "
      ]
     },
     "execution_count": 15,
     "metadata": {},
     "output_type": "execute_result"
    }
   ],
   "source": [
    "df_gw"
   ]
  },
  {
   "cell_type": "code",
   "execution_count": 16,
   "metadata": {},
   "outputs": [],
   "source": [
    "enntropy_mean_nd = df_nasz.loc[:,\"Entropia\"].mean()\n",
    "\n",
    "# list_en_mean_nd = pd.Series(\"\", \"\", \"\", \"\", enntropy_mean_nd)\n",
    "\n",
    "# df_nasz = df_nasz.append(list_en_mean_nd)"
   ]
  },
  {
   "cell_type": "code",
   "execution_count": 17,
   "metadata": {},
   "outputs": [
    {
     "data": {
      "text/html": [
       "<div>\n",
       "<style scoped>\n",
       "    .dataframe tbody tr th:only-of-type {\n",
       "        vertical-align: middle;\n",
       "    }\n",
       "\n",
       "    .dataframe tbody tr th {\n",
       "        vertical-align: top;\n",
       "    }\n",
       "\n",
       "    .dataframe thead th {\n",
       "        text-align: right;\n",
       "    }\n",
       "</style>\n",
       "<table border=\"1\" class=\"dataframe\">\n",
       "  <thead>\n",
       "    <tr style=\"text-align: right;\">\n",
       "      <th></th>\n",
       "      <th>Numer artykułu</th>\n",
       "      <th>Nazwa gazety</th>\n",
       "      <th>Pierwsze lematy</th>\n",
       "      <th>Ilość tokenów</th>\n",
       "      <th>Entropia</th>\n",
       "    </tr>\n",
       "  </thead>\n",
       "  <tbody>\n",
       "    <tr>\n",
       "      <th>0</th>\n",
       "      <td>0</td>\n",
       "      <td>Nasz Dziennik</td>\n",
       "      <td>[Piąty, ognisko, ptasi]</td>\n",
       "      <td>341</td>\n",
       "      <td>7.070630</td>\n",
       "    </tr>\n",
       "    <tr>\n",
       "      <th>1</th>\n",
       "      <td>1</td>\n",
       "      <td>Nasz Dziennik</td>\n",
       "      <td>[mieć, dobrze, przygotowany]</td>\n",
       "      <td>495</td>\n",
       "      <td>7.460493</td>\n",
       "    </tr>\n",
       "    <tr>\n",
       "      <th>2</th>\n",
       "      <td>2</td>\n",
       "      <td>Nasz Dziennik</td>\n",
       "      <td>[Ukraina, zgłosić, pojawienie]</td>\n",
       "      <td>180</td>\n",
       "      <td>6.507228</td>\n",
       "    </tr>\n",
       "    <tr>\n",
       "      <th>3</th>\n",
       "      <td>3</td>\n",
       "      <td>Nasz Dziennik</td>\n",
       "      <td>[Czeski, służba, weterynaryjny]</td>\n",
       "      <td>120</td>\n",
       "      <td>6.284632</td>\n",
       "    </tr>\n",
       "    <tr>\n",
       "      <th>4</th>\n",
       "      <td>4</td>\n",
       "      <td>Nasz Dziennik</td>\n",
       "      <td>[być, podejrzenie, ptasi]</td>\n",
       "      <td>212</td>\n",
       "      <td>6.726596</td>\n",
       "    </tr>\n",
       "  </tbody>\n",
       "</table>\n",
       "</div>"
      ],
      "text/plain": [
       "   Numer artykułu   Nazwa gazety                  Pierwsze lematy  \\\n",
       "0               0  Nasz Dziennik          [Piąty, ognisko, ptasi]   \n",
       "1               1  Nasz Dziennik     [mieć, dobrze, przygotowany]   \n",
       "2               2  Nasz Dziennik   [Ukraina, zgłosić, pojawienie]   \n",
       "3               3  Nasz Dziennik  [Czeski, służba, weterynaryjny]   \n",
       "4               4  Nasz Dziennik        [być, podejrzenie, ptasi]   \n",
       "\n",
       "   Ilość tokenów  Entropia  \n",
       "0            341  7.070630  \n",
       "1            495  7.460493  \n",
       "2            180  6.507228  \n",
       "3            120  6.284632  \n",
       "4            212  6.726596  "
      ]
     },
     "execution_count": 17,
     "metadata": {},
     "output_type": "execute_result"
    }
   ],
   "source": [
    "df_nasz"
   ]
  },
  {
   "cell_type": "code",
   "execution_count": null,
   "metadata": {},
   "outputs": [],
   "source": []
  },
  {
   "cell_type": "code",
   "execution_count": 18,
   "metadata": {},
   "outputs": [],
   "source": [
    "enntropy_mean_gw = df_gw.loc[:,\"Entropia\"].mean()"
   ]
  },
  {
   "cell_type": "code",
   "execution_count": 19,
   "metadata": {},
   "outputs": [],
   "source": [
    "l_ent_nd = [\"Nasz Dziennik\", enntropy_mean_nd]\n",
    "l_ent_gw = [\"Gazeta Wyborcza\", enntropy_mean_gw]\n",
    "l_ent_mean = [l_ent_nd, l_ent_gw]"
   ]
  },
  {
   "cell_type": "code",
   "execution_count": 20,
   "metadata": {},
   "outputs": [
    {
     "data": {
      "text/plain": [
       "[['Nasz Dziennik', 6.809915640009095], ['Gazeta Wyborcza', 7.286952841718576]]"
      ]
     },
     "execution_count": 20,
     "metadata": {},
     "output_type": "execute_result"
    }
   ],
   "source": [
    "l_ent_mean"
   ]
  },
  {
   "cell_type": "code",
   "execution_count": 21,
   "metadata": {},
   "outputs": [],
   "source": [
    "df_mean = pd.DataFrame(l_ent_mean, columns = [\"Nazwa Gazety\", \"Średnia\"])"
   ]
  },
  {
   "cell_type": "code",
   "execution_count": 22,
   "metadata": {},
   "outputs": [
    {
     "data": {
      "text/html": [
       "<div>\n",
       "<style scoped>\n",
       "    .dataframe tbody tr th:only-of-type {\n",
       "        vertical-align: middle;\n",
       "    }\n",
       "\n",
       "    .dataframe tbody tr th {\n",
       "        vertical-align: top;\n",
       "    }\n",
       "\n",
       "    .dataframe thead th {\n",
       "        text-align: right;\n",
       "    }\n",
       "</style>\n",
       "<table border=\"1\" class=\"dataframe\">\n",
       "  <thead>\n",
       "    <tr style=\"text-align: right;\">\n",
       "      <th></th>\n",
       "      <th>Nazwa Gazety</th>\n",
       "      <th>Średnia</th>\n",
       "    </tr>\n",
       "  </thead>\n",
       "  <tbody>\n",
       "    <tr>\n",
       "      <th>0</th>\n",
       "      <td>Nasz Dziennik</td>\n",
       "      <td>6.809916</td>\n",
       "    </tr>\n",
       "    <tr>\n",
       "      <th>1</th>\n",
       "      <td>Gazeta Wyborcza</td>\n",
       "      <td>7.286953</td>\n",
       "    </tr>\n",
       "  </tbody>\n",
       "</table>\n",
       "</div>"
      ],
      "text/plain": [
       "      Nazwa Gazety   Średnia\n",
       "0    Nasz Dziennik  6.809916\n",
       "1  Gazeta Wyborcza  7.286953"
      ]
     },
     "execution_count": 22,
     "metadata": {},
     "output_type": "execute_result"
    }
   ],
   "source": [
    "df_mean"
   ]
  },
  {
   "cell_type": "code",
   "execution_count": 23,
   "metadata": {},
   "outputs": [
    {
     "data": {
      "text/plain": [
       "[<matplotlib.lines.Line2D at 0x7f622221e130>]"
      ]
     },
     "execution_count": 23,
     "metadata": {},
     "output_type": "execute_result"
    },
    {
     "data": {
      "image/png": "[encoded data removed]",
      "text/plain": [
       "<Figure size 432x288 with 1 Axes>"
      ]
     },
     "metadata": {
      "needs_background": "light"
     },
     "output_type": "display_data"
    }
   ],
   "source": [
    "plt.plot(df_nasz.loc[:,\"Ilość tokenów\"], df_nasz.loc[:,\"Entropia\"])"
   ]
  },
  {
   "cell_type": "code",
   "execution_count": 24,
   "metadata": {},
   "outputs": [],
   "source": [
    "# p1, = host.plot(df_nasz.loc[:,\"Ilość tokenów\"], df_nasz.loc[:,\"Entropia\"], \"b-\", label=\"Nasz Dziennik\")\n",
    "# p2, = par1.plot(df_gw.loc[:,\"Ilość tokenów\"], df_gw.loc[:,\"Entropia\"], \"b-\", label=\"Gazeta Wyborcza\")"
   ]
  },
  {
   "cell_type": "code",
   "execution_count": 25,
   "metadata": {},
   "outputs": [],
   "source": [
    "# plt.plot(df_nasz.loc[:,\"Ilość tokenów\"].sort_values(by=['Ilość tokenów'], df_nasz.loc[:,\"Entropia\"], 'r--', df_gw.loc[:,\"Ilość tokenów\"], df_gw.loc[:,\"Entropia\"], 'bs-')\n",
    "# plt.show()"
   ]
  },
  {
   "cell_type": "code",
   "execution_count": 26,
   "metadata": {},
   "outputs": [
    {
     "data": {
      "text/plain": [
       "3    120\n",
       "2    180\n",
       "4    212\n",
       "0    341\n",
       "1    495\n",
       "Name: Ilość tokenów, dtype: int64"
      ]
     },
     "execution_count": 26,
     "metadata": {},
     "output_type": "execute_result"
    }
   ],
   "source": [
    "df_nasz.sort_values(by=['Ilość tokenów']).loc[:,\"Ilość tokenów\"]"
   ]
  },
  {
   "cell_type": "code",
   "execution_count": 27,
   "metadata": {},
   "outputs": [
    {
     "data": {
      "text/plain": [
       "3    6.284632\n",
       "2    6.507228\n",
       "4    6.726596\n",
       "0    7.070630\n",
       "1    7.460493\n",
       "Name: Entropia, dtype: float64"
      ]
     },
     "execution_count": 27,
     "metadata": {},
     "output_type": "execute_result"
    }
   ],
   "source": [
    "df_nasz.sort_values(by=['Ilość tokenów']).loc[:,\"Entropia\"]"
   ]
  },
  {
   "cell_type": "code",
   "execution_count": 28,
   "metadata": {},
   "outputs": [
    {
     "data": {
      "text/html": [
       "<div>\n",
       "<style scoped>\n",
       "    .dataframe tbody tr th:only-of-type {\n",
       "        vertical-align: middle;\n",
       "    }\n",
       "\n",
       "    .dataframe tbody tr th {\n",
       "        vertical-align: top;\n",
       "    }\n",
       "\n",
       "    .dataframe thead th {\n",
       "        text-align: right;\n",
       "    }\n",
       "</style>\n",
       "<table border=\"1\" class=\"dataframe\">\n",
       "  <thead>\n",
       "    <tr style=\"text-align: right;\">\n",
       "      <th></th>\n",
       "      <th>Numer artykułu</th>\n",
       "      <th>Nazwa gazety</th>\n",
       "      <th>Pierwsze lematy</th>\n",
       "      <th>Ilość tokenów</th>\n",
       "      <th>Entropia</th>\n",
       "    </tr>\n",
       "  </thead>\n",
       "  <tbody>\n",
       "    <tr>\n",
       "      <th>4</th>\n",
       "      <td>4</td>\n",
       "      <td>Gazeta Wyborcza</td>\n",
       "      <td>[Spełnie, się, ten]</td>\n",
       "      <td>129</td>\n",
       "      <td>6.264091</td>\n",
       "    </tr>\n",
       "    <tr>\n",
       "      <th>0</th>\n",
       "      <td>0</td>\n",
       "      <td>Gazeta Wyborcza</td>\n",
       "      <td>[Szampański, zabawa, połączony]</td>\n",
       "      <td>243</td>\n",
       "      <td>7.305123</td>\n",
       "    </tr>\n",
       "    <tr>\n",
       "      <th>1</th>\n",
       "      <td>1</td>\n",
       "      <td>Gazeta Wyborcza</td>\n",
       "      <td>[grypa, dopaść, ja]</td>\n",
       "      <td>321</td>\n",
       "      <td>7.405729</td>\n",
       "    </tr>\n",
       "    <tr>\n",
       "      <th>3</th>\n",
       "      <td>3</td>\n",
       "      <td>Gazeta Wyborcza</td>\n",
       "      <td>[w, chiński, miasto]</td>\n",
       "      <td>340</td>\n",
       "      <td>7.333134</td>\n",
       "    </tr>\n",
       "    <tr>\n",
       "      <th>2</th>\n",
       "      <td>2</td>\n",
       "      <td>Gazeta Wyborcza</td>\n",
       "      <td>[często, czytany, pierwszy]</td>\n",
       "      <td>1028</td>\n",
       "      <td>8.126686</td>\n",
       "    </tr>\n",
       "  </tbody>\n",
       "</table>\n",
       "</div>"
      ],
      "text/plain": [
       "   Numer artykułu     Nazwa gazety                  Pierwsze lematy  \\\n",
       "4               4  Gazeta Wyborcza              [Spełnie, się, ten]   \n",
       "0               0  Gazeta Wyborcza  [Szampański, zabawa, połączony]   \n",
       "1               1  Gazeta Wyborcza              [grypa, dopaść, ja]   \n",
       "3               3  Gazeta Wyborcza             [w, chiński, miasto]   \n",
       "2               2  Gazeta Wyborcza      [często, czytany, pierwszy]   \n",
       "\n",
       "   Ilość tokenów  Entropia  \n",
       "4            129  6.264091  \n",
       "0            243  7.305123  \n",
       "1            321  7.405729  \n",
       "3            340  7.333134  \n",
       "2           1028  8.126686  "
      ]
     },
     "execution_count": 28,
     "metadata": {},
     "output_type": "execute_result"
    }
   ],
   "source": [
    "df_gw_tokens = df_gw.sort_values(by=['Ilość tokenów'])\n",
    "df_gw_tokens"
   ]
  },
  {
   "cell_type": "code",
   "execution_count": 29,
   "metadata": {},
   "outputs": [
    {
     "data": {
      "text/html": [
       "<div>\n",
       "<style scoped>\n",
       "    .dataframe tbody tr th:only-of-type {\n",
       "        vertical-align: middle;\n",
       "    }\n",
       "\n",
       "    .dataframe tbody tr th {\n",
       "        vertical-align: top;\n",
       "    }\n",
       "\n",
       "    .dataframe thead th {\n",
       "        text-align: right;\n",
       "    }\n",
       "</style>\n",
       "<table border=\"1\" class=\"dataframe\">\n",
       "  <thead>\n",
       "    <tr style=\"text-align: right;\">\n",
       "      <th></th>\n",
       "      <th>Numer artykułu</th>\n",
       "      <th>Nazwa gazety</th>\n",
       "      <th>Pierwsze lematy</th>\n",
       "      <th>Ilość tokenów</th>\n",
       "      <th>Entropia</th>\n",
       "    </tr>\n",
       "  </thead>\n",
       "  <tbody>\n",
       "    <tr>\n",
       "      <th>3</th>\n",
       "      <td>3</td>\n",
       "      <td>Nasz Dziennik</td>\n",
       "      <td>[Czeski, służba, weterynaryjny]</td>\n",
       "      <td>120</td>\n",
       "      <td>6.284632</td>\n",
       "    </tr>\n",
       "    <tr>\n",
       "      <th>2</th>\n",
       "      <td>2</td>\n",
       "      <td>Nasz Dziennik</td>\n",
       "      <td>[Ukraina, zgłosić, pojawienie]</td>\n",
       "      <td>180</td>\n",
       "      <td>6.507228</td>\n",
       "    </tr>\n",
       "    <tr>\n",
       "      <th>4</th>\n",
       "      <td>4</td>\n",
       "      <td>Nasz Dziennik</td>\n",
       "      <td>[być, podejrzenie, ptasi]</td>\n",
       "      <td>212</td>\n",
       "      <td>6.726596</td>\n",
       "    </tr>\n",
       "    <tr>\n",
       "      <th>0</th>\n",
       "      <td>0</td>\n",
       "      <td>Nasz Dziennik</td>\n",
       "      <td>[Piąty, ognisko, ptasi]</td>\n",
       "      <td>341</td>\n",
       "      <td>7.070630</td>\n",
       "    </tr>\n",
       "    <tr>\n",
       "      <th>1</th>\n",
       "      <td>1</td>\n",
       "      <td>Nasz Dziennik</td>\n",
       "      <td>[mieć, dobrze, przygotowany]</td>\n",
       "      <td>495</td>\n",
       "      <td>7.460493</td>\n",
       "    </tr>\n",
       "  </tbody>\n",
       "</table>\n",
       "</div>"
      ],
      "text/plain": [
       "   Numer artykułu   Nazwa gazety                  Pierwsze lematy  \\\n",
       "3               3  Nasz Dziennik  [Czeski, służba, weterynaryjny]   \n",
       "2               2  Nasz Dziennik   [Ukraina, zgłosić, pojawienie]   \n",
       "4               4  Nasz Dziennik        [być, podejrzenie, ptasi]   \n",
       "0               0  Nasz Dziennik          [Piąty, ognisko, ptasi]   \n",
       "1               1  Nasz Dziennik     [mieć, dobrze, przygotowany]   \n",
       "\n",
       "   Ilość tokenów  Entropia  \n",
       "3            120  6.284632  \n",
       "2            180  6.507228  \n",
       "4            212  6.726596  \n",
       "0            341  7.070630  \n",
       "1            495  7.460493  "
      ]
     },
     "execution_count": 29,
     "metadata": {},
     "output_type": "execute_result"
    }
   ],
   "source": [
    "df_nd_tokens = df_nasz.sort_values(by=['Ilość tokenów'])\n",
    "df_nd_tokens"
   ]
  },
  {
   "cell_type": "code",
   "execution_count": 30,
   "metadata": {},
   "outputs": [
    {
     "data": {
      "text/plain": [
       "4    6.264091\n",
       "0    7.305123\n",
       "1    7.405729\n",
       "3    7.333134\n",
       "2    8.126686\n",
       "Name: Entropia, dtype: float64"
      ]
     },
     "execution_count": 30,
     "metadata": {},
     "output_type": "execute_result"
    }
   ],
   "source": [
    "df_gw_tokens[\"Entropia\"]"
   ]
  },
  {
   "cell_type": "code",
   "execution_count": 31,
   "metadata": {},
   "outputs": [
    {
     "data": {
      "image/png": "[encoded data removed]",
      "text/plain": [
       "<Figure size 432x288 with 1 Axes>"
      ]
     },
     "metadata": {
      "needs_background": "light"
     },
     "output_type": "display_data"
    }
   ],
   "source": [
    "plt.plot(df_nd_tokens.loc[:,\"Ilość tokenów\"], df_nd_tokens.loc[:,\"Entropia\"], 'r-', df_gw_tokens.loc[:,\"Ilość tokenów\"], df_gw_tokens.loc[:,\"Entropia\"], 'bs-')\n",
    "plt.xlabel('Ilość Tokenów')\n",
    "plt.ylabel('Entropia')\n",
    "plt.savefig('foo.png')\n",
    "plt.show()"
   ]
  },
  {
   "cell_type": "code",
   "execution_count": null,
   "metadata": {},
   "outputs": [],
   "source": []
  }
 ],
 "metadata": {
  "jupytext": {
   "formats": "ipynb,py:light"
  },
  "kernelspec": {
   "display_name": "Python 3",
   "language": "python",
   "name": "python3"
  },
  "language_info": {
   "codemirror_mode": {
    "name": "ipython",
    "version": 3
   },
   "file_extension": ".py",
   "mimetype": "text/x-python",
   "name": "python",
   "nbconvert_exporter": "python",
   "pygments_lexer": "ipython3",
   "version": "3.8.1"
  }
 },
 "nbformat": 4,
 "nbformat_minor": 4
}
