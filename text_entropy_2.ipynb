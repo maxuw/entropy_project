{
 "cells": [
  {
   "cell_type": "code",
   "execution_count": 6,
   "metadata": {},
   "outputs": [],
   "source": [
    "import PreporocessText"
   ]
  },
  {
   "cell_type": "code",
   "execution_count": 2,
   "metadata": {},
   "outputs": [],
   "source": [
    "dir = \"teksty/nasz_dziennik/wirus/\""
   ]
  },
  {
   "cell_type": "code",
   "execution_count": 3,
   "metadata": {},
   "outputs": [],
   "source": [
    "file = \"1.txt\""
   ]
  },
  {
   "cell_type": "code",
   "execution_count": 4,
   "metadata": {},
   "outputs": [
    {
     "name": "stdout",
     "output_type": "stream",
     "text": [
      "1.txt\n",
      "1\n"
     ]
    }
   ],
   "source": [
    "process1 = class_preporocess_text.whole_proces_polish(dir, file)"
   ]
  },
  {
   "cell_type": "code",
   "execution_count": 5,
   "metadata": {},
   "outputs": [
    {
     "data": {
      "text/plain": [
       "['Piąty',\n",
       " 'ognisko',\n",
       " 'ptasi',\n",
       " 'grypa',\n",
       " 'potwierdzony',\n",
       " 'w',\n",
       " 'Wielkopolska',\n",
       " 'w',\n",
       " 'gospodarstwo',\n",
       " 'w',\n",
       " 'radłowie,',\n",
       " 'w',\n",
       " 'powiat',\n",
       " 'ostrowski',\n",
       " '-',\n",
       " 'poinformować',\n",
       " 'wojewódzki',\n",
       " 'lekarz',\n",
       " 'weterynaria',\n",
       " 'w']"
      ]
     },
     "execution_count": 5,
     "metadata": {},
     "output_type": "execute_result"
    }
   ],
   "source": [
    "process1[:20]"
   ]
  },
  {
   "cell_type": "code",
   "execution_count": null,
   "metadata": {},
   "outputs": [],
   "source": []
  }
 ],
 "metadata": {
  "jupytext": {
   "formats": "ipynb,py:light"
  },
  "kernelspec": {
   "display_name": "Python 3",
   "language": "python",
   "name": "python3"
  },
  "language_info": {
   "codemirror_mode": {
    "name": "ipython",
    "version": 3
   },
   "file_extension": ".py",
   "mimetype": "text/x-python",
   "name": "python",
   "nbconvert_exporter": "python",
   "pygments_lexer": "ipython3",
   "version": "3.8.1"
  }
 },
 "nbformat": 4,
 "nbformat_minor": 4
}
