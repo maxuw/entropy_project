{
 "cells": [
  {
   "cell_type": "code",
   "execution_count": 1,
   "metadata": {},
   "outputs": [],
   "source": [
    "import PreprocessText"
   ]
  },
  {
   "cell_type": "code",
   "execution_count": 2,
   "metadata": {},
   "outputs": [],
   "source": [
    "dir = \"teksty/nasz_dziennik/wirus/\""
   ]
  },
  {
   "cell_type": "code",
   "execution_count": 3,
   "metadata": {},
   "outputs": [],
   "source": [
    "file = \"1.txt\""
   ]
  },
  {
   "cell_type": "code",
   "execution_count": 4,
   "metadata": {},
   "outputs": [],
   "source": [
    "file_1 = PreprocessText.read_files(file, dir)"
   ]
  },
  {
   "cell_type": "code",
   "execution_count": 5,
   "metadata": {},
   "outputs": [
    {
     "data": {
      "text/plain": [
       "'Wielkopolskie: Piąte ognisko ptasiej grypy\\nCzwartek, 23 stycznia 2020 (21:14)\\n\\nPiąte ognisko ptasiej'"
      ]
     },
     "execution_count": 5,
     "metadata": {},
     "output_type": "execute_result"
    }
   ],
   "source": [
    "file_1[:100]"
   ]
  },
  {
   "cell_type": "code",
   "execution_count": 6,
   "metadata": {},
   "outputs": [],
   "source": [
    "processed_inner_text = PreprocessText.remove_empty_linesc(file_1)[2]"
   ]
  },
  {
   "cell_type": "code",
   "execution_count": 7,
   "metadata": {},
   "outputs": [
    {
     "data": {
      "text/plain": [
       "['Piąte ognisko ptasiej grypy potwierdzono w Wielkopolsce w gospodarstwie w Radłowie, w powiecie ostrowskim - poinformował wojewódzki lekarz weterynarii w Poznaniu Andrzej Żarnecki.',\n",
       " 'Do tej pory – jak poinformował PAP wojewódzki lekarz weterynarii w Poznaniu Andrzej Żarnecki – potwierdzono pięć przypadków ptasiej grypy ptaków w Wielkopolsce.',\n",
       " 'Pierwszy przypadek pojawienia się ptasiej grypy – przypomniał Żarnecki – służby weterynaryjne ujawniły 31 grudnia ub.r. w Topoli Osiedlu w powiecie ostrowskim. Wirus H5N8 wystąpił na fermie, gdzie hodowano 65 tys. kur niosek.',\n",
       " 'Drugim razem obecność wirusa potwierdzono 13 stycznia na fermie w miejscowości Zalesie w powiecie kolskim, gdzie wybito 6 tys. gęsi.',\n",
       " 'Trzy dni później, 15 stycznia, w miejscowości Słaborowice w powiecie ostrowskim w gospodarstwie wybito 21 tys. zarażonych kaczek.',\n",
       " 'Następnego dnia wirus ptasiej grypy potwierdzono po raz czwarty w Ostrowie Wielkopolskim, gdzie wirus zaatakował stado 9 tys. kaczek.',\n",
       " 'Piąte ognisko występowania wirusa Wojewódzki Lekarz Weterynarii w Poznaniu potwierdził w czwartek. Tym razem ptasia grypa zaatakowała stado 140 kur w Radłowie w powiecie ostrowskim.',\n",
       " 'Wszystkie potwierdzające występowanie wirusa badania – jak przekazał Żarnecki – przeprowadzono w Państwowym Instytucie Weterynarii w Puławach.',\n",
       " 'Zarażone ptaki zutylizowano w zakładzie w Śmiłowie niedaleko Piły.',\n",
       " 'Ptasia grypa to choroba wirusowa stwarzająca zagrożenie przede wszystkim dla ptaków – zarówno dzikich, wolnożyjących, jak i dla drobiu hodowanego przez ludzi.',\n",
       " 'Hodowcom drobiu zaleca się zachowanie szczególnej ostrożności i stosowanie odpowiednich środków bioasekuracji, minimalizujących ryzyko przeniesienia wirusa grypy ptaków.',\n",
       " '„Chodzi m.in. o zabezpieczenie paszy przed dostępem dzikich zwierząt, niekarmienie drobiu na zewnątrz budynków, w których zwierzęta są utrzymywane oraz stosowanie odzieży i obuwia ochronnego w gospodarstwie” – poinformował Wojewódzki Lekarz Weterynarii w Poznaniu.',\n",
       " 'Żarnecki wyjaśnił, że wirusy grypy mutują, dlatego ludzi, którzy mają kontakt z ptakami obowiązuje szczególna higiena – mycie rąk i zmienianie odzieży. Wirus ten – jak dodał – jest wrażliwy na obróbkę termiczną (smażenie, gotowanie) i na środki dezynfekcyjne.',\n",
       " 'Hodowcy powinni informować odpowiednie osoby i instytucje: lekarza weterynarii prywatnej praktyki, urzędowego lekarza weterynarii, wójta, burmistrza lub prezydenta miasta o wszystkich podejrzeniach wystąpienia choroby zakaźnej drobiu w ich fermach.',\n",
       " 'W związku z wykryciem ptasiej grypy służby weterynaryjne prowadzą dochodzenie na obszarach zapowietrzonych i zagrożonych w promieniu 10 km od miejsca zarażenia. W powiecie ostrowskim działaniami objęto 31 ferm drobiu. ']"
      ]
     },
     "execution_count": 7,
     "metadata": {},
     "output_type": "execute_result"
    }
   ],
   "source": [
    "processed_inner_text"
   ]
  },
  {
   "cell_type": "code",
   "execution_count": 8,
   "metadata": {},
   "outputs": [],
   "source": [
    "body1 = PreprocessText.join_lines(processed_inner_text)"
   ]
  },
  {
   "cell_type": "code",
   "execution_count": 9,
   "metadata": {},
   "outputs": [
    {
     "data": {
      "text/plain": [
       "' Piąte ognisko ptasiej grypy potwierdzono w Wielkopolsce w gospodarstwie w Radłowie, w powiecie ostrowskim - poinformował wojewódzki lekarz weterynarii w Poznaniu Andrzej Żarnecki. Do tej pory – jak poinformował PAP wojewódzki lekarz weterynarii w Poznaniu Andrzej Żarnecki – potwierdzono pięć przypadków ptasiej grypy ptaków w Wielkopolsce. Pierwszy przypadek pojawienia się ptasiej grypy – przypomniał Żarnecki – służby weterynaryjne ujawniły 31 grudnia ub.r. w Topoli Osiedlu w powiecie ostrowskim. Wirus H5N8 wystąpił na fermie, gdzie hodowano 65 tys. kur niosek. Drugim razem obecność wirusa potwierdzono 13 stycznia na fermie w miejscowości Zalesie w powiecie kolskim, gdzie wybito 6 tys. gęsi. Trzy dni później, 15 stycznia, w miejscowości Słaborowice w powiecie ostrowskim w gospodarstwie wybito 21 tys. zarażonych kaczek. Następnego dnia wirus ptasiej grypy potwierdzono po raz czwarty w Ostrowie Wielkopolskim, gdzie wirus zaatakował stado 9 tys. kaczek. Piąte ognisko występowania wirusa Wojewódzki Lekarz Weterynarii w Poznaniu potwierdził w czwartek. Tym razem ptasia grypa zaatakowała stado 140 kur w Radłowie w powiecie ostrowskim. Wszystkie potwierdzające występowanie wirusa badania – jak przekazał Żarnecki – przeprowadzono w Państwowym Instytucie Weterynarii w Puławach. Zarażone ptaki zutylizowano w zakładzie w Śmiłowie niedaleko Piły. Ptasia grypa to choroba wirusowa stwarzająca zagrożenie przede wszystkim dla ptaków – zarówno dzikich, wolnożyjących, jak i dla drobiu hodowanego przez ludzi. Hodowcom drobiu zaleca się zachowanie szczególnej ostrożności i stosowanie odpowiednich środków bioasekuracji, minimalizujących ryzyko przeniesienia wirusa grypy ptaków. „Chodzi m.in. o zabezpieczenie paszy przed dostępem dzikich zwierząt, niekarmienie drobiu na zewnątrz budynków, w których zwierzęta są utrzymywane oraz stosowanie odzieży i obuwia ochronnego w gospodarstwie” – poinformował Wojewódzki Lekarz Weterynarii w Poznaniu. Żarnecki wyjaśnił, że wirusy grypy mutują, dlatego ludzi, którzy mają kontakt z ptakami obowiązuje szczególna higiena – mycie rąk i zmienianie odzieży. Wirus ten – jak dodał – jest wrażliwy na obróbkę termiczną (smażenie, gotowanie) i na środki dezynfekcyjne. Hodowcy powinni informować odpowiednie osoby i instytucje: lekarza weterynarii prywatnej praktyki, urzędowego lekarza weterynarii, wójta, burmistrza lub prezydenta miasta o wszystkich podejrzeniach wystąpienia choroby zakaźnej drobiu w ich fermach. W związku z wykryciem ptasiej grypy służby weterynaryjne prowadzą dochodzenie na obszarach zapowietrzonych i zagrożonych w promieniu 10 km od miejsca zarażenia. W powiecie ostrowskim działaniami objęto 31 ferm drobiu. '"
      ]
     },
     "execution_count": 9,
     "metadata": {},
     "output_type": "execute_result"
    }
   ],
   "source": [
    "body1"
   ]
  },
  {
   "cell_type": "code",
   "execution_count": 10,
   "metadata": {},
   "outputs": [],
   "source": [
    "import string"
   ]
  },
  {
   "cell_type": "code",
   "execution_count": 11,
   "metadata": {},
   "outputs": [
    {
     "data": {
      "text/plain": [
       "' Piąte ognisko ptasiej grypy potwierdzono w Wielkopolsce w gospodarstwie w Radłowie w powiecie ostrowskim  poinformował wojewódzki lekarz weterynarii w Poznaniu Andrzej Żarnecki Do tej pory – jak poinformował PAP wojewódzki lekarz weterynarii w Poznaniu Andrzej Żarnecki – potwierdzono pięć przypadków ptasiej grypy ptaków w Wielkopolsce Pierwszy przypadek pojawienia się ptasiej grypy – przypomniał Żarnecki – służby weterynaryjne ujawniły 31 grudnia ubr w Topoli Osiedlu w powiecie ostrowskim Wirus H5N8 wystąpił na fermie gdzie hodowano 65 tys kur niosek Drugim razem obecność wirusa potwierdzono 13 stycznia na fermie w miejscowości Zalesie w powiecie kolskim gdzie wybito 6 tys gęsi Trzy dni później 15 stycznia w miejscowości Słaborowice w powiecie ostrowskim w gospodarstwie wybito 21 tys zarażonych kaczek Następnego dnia wirus ptasiej grypy potwierdzono po raz czwarty w Ostrowie Wielkopolskim gdzie wirus zaatakował stado 9 tys kaczek Piąte ognisko występowania wirusa Wojewódzki Lekarz Weterynarii w Poznaniu potwierdził w czwartek Tym razem ptasia grypa zaatakowała stado 140 kur w Radłowie w powiecie ostrowskim Wszystkie potwierdzające występowanie wirusa badania – jak przekazał Żarnecki – przeprowadzono w Państwowym Instytucie Weterynarii w Puławach Zarażone ptaki zutylizowano w zakładzie w Śmiłowie niedaleko Piły Ptasia grypa to choroba wirusowa stwarzająca zagrożenie przede wszystkim dla ptaków – zarówno dzikich wolnożyjących jak i dla drobiu hodowanego przez ludzi Hodowcom drobiu zaleca się zachowanie szczególnej ostrożności i stosowanie odpowiednich środków bioasekuracji minimalizujących ryzyko przeniesienia wirusa grypy ptaków „Chodzi min o zabezpieczenie paszy przed dostępem dzikich zwierząt niekarmienie drobiu na zewnątrz budynków w których zwierzęta są utrzymywane oraz stosowanie odzieży i obuwia ochronnego w gospodarstwie” – poinformował Wojewódzki Lekarz Weterynarii w Poznaniu Żarnecki wyjaśnił że wirusy grypy mutują dlatego ludzi którzy mają kontakt z ptakami obowiązuje szczególna higiena – mycie rąk i zmienianie odzieży Wirus ten – jak dodał – jest wrażliwy na obróbkę termiczną smażenie gotowanie i na środki dezynfekcyjne Hodowcy powinni informować odpowiednie osoby i instytucje lekarza weterynarii prywatnej praktyki urzędowego lekarza weterynarii wójta burmistrza lub prezydenta miasta o wszystkich podejrzeniach wystąpienia choroby zakaźnej drobiu w ich fermach W związku z wykryciem ptasiej grypy służby weterynaryjne prowadzą dochodzenie na obszarach zapowietrzonych i zagrożonych w promieniu 10 km od miejsca zarażenia W powiecie ostrowskim działaniami objęto 31 ferm drobiu '"
      ]
     },
     "execution_count": 11,
     "metadata": {},
     "output_type": "execute_result"
    }
   ],
   "source": [
    "body1.translate(str.maketrans('', '', string.punctuation))"
   ]
  },
  {
   "cell_type": "code",
   "execution_count": null,
   "metadata": {},
   "outputs": [],
   "source": []
  },
  {
   "cell_type": "code",
   "execution_count": 12,
   "metadata": {},
   "outputs": [],
   "source": [
    "body_nopunct = PreprocessText.remove_punctuation(body1)"
   ]
  },
  {
   "cell_type": "code",
   "execution_count": 13,
   "metadata": {},
   "outputs": [
    {
     "data": {
      "text/plain": [
       "' Piąte ognisko ptasiej grypy potwierdzono w Wielkopolsce w gospodarstwie w Radłowie w powiecie ostrowskim  poinformował wojewódzki lekarz weterynarii w Poznaniu Andrzej Żarnecki Do tej pory   jak poinformował PAP wojewódzki lekarz weterynarii w Poznaniu Andrzej Żarnecki   potwierdzono pięć przypadków ptasiej grypy ptaków w Wielkopolsce Pierwszy przypadek pojawienia się ptasiej grypy   przypomniał Żarnecki   służby weterynaryjne ujawniły 31 grudnia ubr w Topoli Osiedlu w powiecie ostrowskim Wirus H5N8 wystąpił na fermie gdzie hodowano 65 tys kur niosek Drugim razem obecność wirusa potwierdzono 13 stycznia na fermie w miejscowości Zalesie w powiecie kolskim gdzie wybito 6 tys gęsi Trzy dni później 15 stycznia w miejscowości Słaborowice w powiecie ostrowskim w gospodarstwie wybito 21 tys zarażonych kaczek Następnego dnia wirus ptasiej grypy potwierdzono po raz czwarty w Ostrowie Wielkopolskim gdzie wirus zaatakował stado 9 tys kaczek Piąte ognisko występowania wirusa Wojewódzki Lekarz Weterynarii w Poznaniu potwierdził w czwartek Tym razem ptasia grypa zaatakowała stado 140 kur w Radłowie w powiecie ostrowskim Wszystkie potwierdzające występowanie wirusa badania   jak przekazał Żarnecki   przeprowadzono w Państwowym Instytucie Weterynarii w Puławach Zarażone ptaki zutylizowano w zakładzie w Śmiłowie niedaleko Piły Ptasia grypa to choroba wirusowa stwarzająca zagrożenie przede wszystkim dla ptaków   zarówno dzikich wolnożyjących jak i dla drobiu hodowanego przez ludzi Hodowcom drobiu zaleca się zachowanie szczególnej ostrożności i stosowanie odpowiednich środków bioasekuracji minimalizujących ryzyko przeniesienia wirusa grypy ptaków „Chodzi min o zabezpieczenie paszy przed dostępem dzikich zwierząt niekarmienie drobiu na zewnątrz budynków w których zwierzęta są utrzymywane oraz stosowanie odzieży i obuwia ochronnego w gospodarstwie”   poinformował Wojewódzki Lekarz Weterynarii w Poznaniu Żarnecki wyjaśnił że wirusy grypy mutują dlatego ludzi którzy mają kontakt z ptakami obowiązuje szczególna higiena   mycie rąk i zmienianie odzieży Wirus ten   jak dodał   jest wrażliwy na obróbkę termiczną smażenie gotowanie i na środki dezynfekcyjne Hodowcy powinni informować odpowiednie osoby i instytucje lekarza weterynarii prywatnej praktyki urzędowego lekarza weterynarii wójta burmistrza lub prezydenta miasta o wszystkich podejrzeniach wystąpienia choroby zakaźnej drobiu w ich fermach W związku z wykryciem ptasiej grypy służby weterynaryjne prowadzą dochodzenie na obszarach zapowietrzonych i zagrożonych w promieniu 10 km od miejsca zarażenia W powiecie ostrowskim działaniami objęto 31 ferm drobiu '"
      ]
     },
     "execution_count": 13,
     "metadata": {},
     "output_type": "execute_result"
    }
   ],
   "source": [
    "body_nopunct"
   ]
  },
  {
   "cell_type": "code",
   "execution_count": 14,
   "metadata": {},
   "outputs": [
    {
     "name": "stdout",
     "output_type": "stream",
     "text": [
      "1.txt\n",
      "1\n"
     ]
    },
    {
     "data": {
      "text/plain": [
       "'teksty/nasz_dziennik/wirus/1_body_cleaned.txt'"
      ]
     },
     "execution_count": 14,
     "metadata": {},
     "output_type": "execute_result"
    }
   ],
   "source": [
    "filename = PreprocessText.write_body_tofile(dir, file, body_nopunct)\n",
    "filename"
   ]
  },
  {
   "cell_type": "code",
   "execution_count": 15,
   "metadata": {},
   "outputs": [
    {
     "data": {
      "text/plain": [
       "'# newdoc id = teksty/nasz_dziennik/wirus/1_body_cleaned.txt\\n# newpar\\n# sent_id = 1\\n1\\tPiąte\\tPiąty\\tADJ\\tadj:sg:nom:n:pos\\tCase=Nom|Degree=Pos|Gender=Neut|Number=Sing\\t_\\t_\\t_\\t_\\n2\\tognisko\\tognisko\\tNOUN\\tsubst:s'"
      ]
     },
     "execution_count": 15,
     "metadata": {},
     "output_type": "execute_result"
    }
   ],
   "source": [
    "output = PreprocessText.run_udpipe(filename)\n",
    "output[:200]"
   ]
  },
  {
   "cell_type": "code",
   "execution_count": null,
   "metadata": {},
   "outputs": [],
   "source": []
  },
  {
   "cell_type": "code",
   "execution_count": null,
   "metadata": {},
   "outputs": [],
   "source": []
  },
  {
   "cell_type": "code",
   "execution_count": 16,
   "metadata": {},
   "outputs": [
    {
     "data": {
      "text/plain": [
       "['Piąty',\n",
       " 'ognisko',\n",
       " 'ptasi',\n",
       " 'grypa',\n",
       " 'potwierdzony',\n",
       " 'w',\n",
       " 'Wielkopolska',\n",
       " 'w',\n",
       " 'gospodarstwo',\n",
       " 'w']"
      ]
     },
     "execution_count": 16,
     "metadata": {},
     "output_type": "execute_result"
    }
   ],
   "source": [
    "lemmas = PreprocessText.find_lemmas(output)\n",
    "lemmas[:10]"
   ]
  },
  {
   "cell_type": "code",
   "execution_count": 22,
   "metadata": {},
   "outputs": [
    {
     "name": "stdout",
     "output_type": "stream",
     "text": [
      "1.txt\n",
      "1\n"
     ]
    }
   ],
   "source": [
    "process1 = PreprocessText.whole_proces_polish(\"teksty/gazeta_wyborcza/wirus/\", file)"
   ]
  },
  {
   "cell_type": "code",
   "execution_count": 23,
   "metadata": {},
   "outputs": [
    {
     "data": {
      "text/plain": [
       "['Szampański',\n",
       " 'zabawa',\n",
       " 'połączony',\n",
       " 'z',\n",
       " 'lekcja',\n",
       " 'biologia',\n",
       " 'teatr',\n",
       " 'nowy',\n",
       " 'Proxima',\n",
       " 'jak',\n",
       " 'zwykle',\n",
       " 'zaskakować',\n",
       " 'Gospodarz',\n",
       " 'wieczór',\n",
       " 'być',\n",
       " 'Wirus',\n",
       " 'Band',\n",
       " 'Oryginalny',\n",
       " 'pomysł',\n",
       " 'na',\n",
       " 'spędzenie',\n",
       " 'ostatni',\n",
       " 'dzień',\n",
       " 'rok',\n",
       " 'w',\n",
       " 'towarzystwo',\n",
       " 'Wirus',\n",
       " 'Krwinek',\n",
       " 'i',\n",
       " 'bakteria',\n",
       " 'być',\n",
       " 'pokłosiem',\n",
       " 'nowy',\n",
       " 'spektakl',\n",
       " 'powstały',\n",
       " 'na',\n",
       " 'deska',\n",
       " 'teatr',\n",
       " 'pt',\n",
       " '„Być',\n",
       " 'siebie',\n",
       " 'życie”',\n",
       " 'już',\n",
       " 'od',\n",
       " 'początek',\n",
       " 'grudzień',\n",
       " 'dziecko',\n",
       " 'bo',\n",
       " 'ten',\n",
       " 'kolejny',\n",
       " 'sztuka',\n",
       " 'teatr',\n",
       " 'nowy',\n",
       " 'Proxima',\n",
       " 'przygotowany',\n",
       " 'z',\n",
       " 'myśl',\n",
       " 'o',\n",
       " 'młody',\n",
       " 'poznawać',\n",
       " 'zakamarka',\n",
       " 'ludzki',\n",
       " 'ciało',\n",
       " 'pod',\n",
       " 'wodza',\n",
       " 'charyzmatyczny',\n",
       " 'i',\n",
       " 'nieprzewidywalny',\n",
       " 'profesor',\n",
       " 'pan',\n",
       " 'Kleks',\n",
       " 'w',\n",
       " 'rola',\n",
       " 'profesor',\n",
       " 'medycyna',\n",
       " 'jak',\n",
       " 'zainteresować',\n",
       " 'dziecko',\n",
       " 'anatomi',\n",
       " 'człowiek',\n",
       " 'Zaprosić',\n",
       " 'na',\n",
       " 'scena',\n",
       " 'pan',\n",
       " 'Kleks',\n",
       " 'Tomasz',\n",
       " 'Schimscheiner',\n",
       " 'tyle',\n",
       " 'że',\n",
       " 'w',\n",
       " 'rola',\n",
       " 'profesor',\n",
       " 'medycyna',\n",
       " 'Aktor',\n",
       " 'z',\n",
       " 'właściwy',\n",
       " 'siebie',\n",
       " 'wdzięk',\n",
       " 'odmóżdżać',\n",
       " 'mózg',\n",
       " 'wypruwo',\n",
       " 'żyć',\n",
       " 'rozbebeszy',\n",
       " 'jelito',\n",
       " 'sprzedawać',\n",
       " 'nerka',\n",
       " 'zamienia',\n",
       " 'ślepy',\n",
       " 'kiszka',\n",
       " 'w',\n",
       " 'woreczek',\n",
       " 'żółciowy',\n",
       " 'pozwal',\n",
       " 'płuca',\n",
       " 'wziąć',\n",
       " 'głęboki',\n",
       " 'wdech',\n",
       " 'byle',\n",
       " 'nie',\n",
       " 'krakowski',\n",
       " 'powietrze',\n",
       " 'grać',\n",
       " 'w',\n",
       " 'kość',\n",
       " 'umięśnie',\n",
       " 'swój',\n",
       " 'ciało',\n",
       " 'patrzeć',\n",
       " 'my',\n",
       " 'prosto',\n",
       " 'w',\n",
       " 'oko',\n",
       " 'i',\n",
       " 'zaczynać',\n",
       " 'lekcja',\n",
       " 'z',\n",
       " '„corpus',\n",
       " 'hominis”',\n",
       " 'w',\n",
       " 'rola',\n",
       " 'główny',\n",
       " 'jak',\n",
       " 'zachęcić',\n",
       " 'młody',\n",
       " 'do',\n",
       " 'zdrowy',\n",
       " 'odżywanie',\n",
       " 'Wpuścić',\n",
       " 'na',\n",
       " 'scena',\n",
       " 'wczorajszy',\n",
       " 'wątroba',\n",
       " 'który',\n",
       " 'prosić',\n",
       " 'mało',\n",
       " 'alkohol',\n",
       " 'tłuszcz',\n",
       " 'i',\n",
       " 'cukier',\n",
       " 'więcej',\n",
       " 'woda',\n",
       " 'warzywo',\n",
       " 'owoc',\n",
       " 'i',\n",
       " 'kiszonek',\n",
       " 'Jak',\n",
       " 'zobrazować',\n",
       " 'atak',\n",
       " 'patogen',\n",
       " 'na',\n",
       " 'nasz',\n",
       " 'organizm',\n",
       " 'dopuścić',\n",
       " 'do',\n",
       " 'głos',\n",
       " 'układ',\n",
       " 'immunologiczny',\n",
       " 'i',\n",
       " 'zorganizować',\n",
       " 'walka',\n",
       " 'MMA',\n",
       " 'między',\n",
       " 'temperamentny',\n",
       " 'wirus',\n",
       " 'grupa',\n",
       " 'a',\n",
       " 'znudzony',\n",
       " 'przeciwciał',\n",
       " 'który',\n",
       " 'właśnie',\n",
       " 'opalać',\n",
       " 'się',\n",
       " 'na',\n",
       " 'plaża',\n",
       " 'Jak',\n",
       " 'pokazać',\n",
       " 'buzujący',\n",
       " 'w',\n",
       " 'mózg',\n",
       " 'emocja',\n",
       " 'Przebrać',\n",
       " 'on',\n",
       " 'w',\n",
       " 'strój',\n",
       " 'emotikon',\n",
       " 'z',\n",
       " 'portal',\n",
       " 'społecznościowy',\n",
       " 'a',\n",
       " 'potem',\n",
       " 'dać',\n",
       " 'on',\n",
       " 'się',\n",
       " 'pośmiać',\n",
       " 'posmucić',\n",
       " 'popłakać',\n",
       " 'powstydzić',\n",
       " 'pokrzyczeć',\n",
       " 'czy',\n",
       " 'pogniewać',\n",
       " 'aż',\n",
       " 'wreszcie',\n",
       " 'jak',\n",
       " 'wytłumaczyć',\n",
       " 'dziecko',\n",
       " 'zapłodnienie',\n",
       " 'Włączyć',\n",
       " '„dżagę”',\n",
       " 'Doda',\n",
       " 'który',\n",
       " 'na',\n",
       " 'widok',\n",
       " 'rozzuchwalony',\n",
       " 'plemnik',\n",
       " 'śpiewać',\n",
       " 'inny',\n",
       " 'seksbomba',\n",
       " 'komórka',\n",
       " 'jajowy',\n",
       " 'lekcja',\n",
       " 'biologia',\n",
       " 'dla',\n",
       " 'dorosły',\n",
       " 'w',\n",
       " 'sylwester',\n",
       " 'własny',\n",
       " 'lekcja',\n",
       " 'biologia',\n",
       " 'być',\n",
       " 'mieć',\n",
       " 'dorośli',\n",
       " '31',\n",
       " 'grudzień',\n",
       " 'to',\n",
       " 'jedyny',\n",
       " 'okazja',\n",
       " 'być',\n",
       " 'zobaczyć',\n",
       " 'wersja',\n",
       " 'spektakl',\n",
       " '„Być',\n",
       " 'siebie',\n",
       " 'życie”',\n",
       " 'dla',\n",
       " 'dorosły',\n",
       " 'Zapraszama',\n",
       " 'na',\n",
       " 'koncert',\n",
       " 'Wirus',\n",
       " 'Band',\n",
       " 'w',\n",
       " 'skład',\n",
       " 'który',\n",
       " 'wejść',\n",
       " 'gaz',\n",
       " 'śmierdzący',\n",
       " 'Grzyby',\n",
       " 'zaraźliwy',\n",
       " 'Krwinka',\n",
       " 'pijaien',\n",
       " 'Bakteria',\n",
       " 'i',\n",
       " 'Wirus',\n",
       " 'przenoszony',\n",
       " 'droga',\n",
       " 'różny',\n",
       " 'oraz',\n",
       " 'ekscentryczny',\n",
       " 'głośny',\n",
       " 'i',\n",
       " 'niepoprawny',\n",
       " 'politycznie',\n",
       " 'podstarzać',\n",
       " 'rockandrollowiec',\n",
       " 'mówić',\n",
       " 'Piotr',\n",
       " 'Sieklucki',\n",
       " 'dyrektor',\n",
       " 'teatr',\n",
       " 'nowy',\n",
       " 'Proxima',\n",
       " 'Jak',\n",
       " 'zapowiadać',\n",
       " 'zespół',\n",
       " 'odp',\n",
       " 'na',\n",
       " 'pytanie',\n",
       " 'który',\n",
       " 'na',\n",
       " 'co',\n",
       " 'dzień',\n",
       " 'człowiek',\n",
       " 'bać',\n",
       " 'się',\n",
       " 'zadać',\n",
       " 'Przypomnima',\n",
       " 'ważny',\n",
       " 'element',\n",
       " 'z',\n",
       " 'anatomia',\n",
       " 'człowiek',\n",
       " 'Zrobima',\n",
       " 'to',\n",
       " 'oczywiście',\n",
       " 'w',\n",
       " 'właściwy',\n",
       " 'siebie',\n",
       " 'sposób',\n",
       " 'być',\n",
       " 'wulgarnie',\n",
       " 'bez',\n",
       " 'cenzura',\n",
       " 'z',\n",
       " 'duży',\n",
       " 'dawka',\n",
       " 'humór',\n",
       " 'i',\n",
       " 'głośna',\n",
       " 'muzyka',\n",
       " 'zdradzać',\n",
       " 'Sieklucki',\n",
       " 'Wystąpać',\n",
       " 'Marek',\n",
       " 'Bula',\n",
       " 'Michał',\n",
       " 'Misz',\n",
       " 'Czorny',\n",
       " 'Joanna',\n",
       " 'Falkowska',\n",
       " 'Marta',\n",
       " 'SaciukSędzielarz',\n",
       " 'Tomasz',\n",
       " 'Schimscheiner',\n",
       " 'Konrada',\n",
       " 'Stein',\n",
       " 'Piotr',\n",
       " 'Zwolski',\n",
       " 'start',\n",
       " 'zabawa',\n",
       " 'o',\n",
       " '20',\n",
       " 'w',\n",
       " 'teatr',\n",
       " 'nowy',\n",
       " 'Proxima',\n",
       " 'krakowsk',\n",
       " '41',\n",
       " 'Bileta',\n",
       " 'w',\n",
       " 'cena',\n",
       " '150',\n",
       " 'obejmować',\n",
       " 'spektakl',\n",
       " 'poczęstunek',\n",
       " 'i',\n",
       " 'lampka',\n",
       " 'szampan']"
      ]
     },
     "execution_count": 23,
     "metadata": {},
     "output_type": "execute_result"
    }
   ],
   "source": [
    "process1"
   ]
  },
  {
   "cell_type": "code",
   "execution_count": null,
   "metadata": {},
   "outputs": [],
   "source": []
  }
 ],
 "metadata": {
  "jupytext": {
   "formats": "ipynb,py:light"
  },
  "kernelspec": {
   "display_name": "Python 3",
   "language": "python",
   "name": "python3"
  },
  "language_info": {
   "codemirror_mode": {
    "name": "ipython",
    "version": 3
   },
   "file_extension": ".py",
   "mimetype": "text/x-python",
   "name": "python",
   "nbconvert_exporter": "python",
   "pygments_lexer": "ipython3",
   "version": "3.8.1"
  }
 },
 "nbformat": 4,
 "nbformat_minor": 4
}
