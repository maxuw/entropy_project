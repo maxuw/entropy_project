{
 "cells": [
  {
   "cell_type": "code",
   "execution_count": 1,
   "metadata": {},
   "outputs": [],
   "source": [
    "from class_preporocess_text import PreprocessText"
   ]
  },
  {
   "cell_type": "code",
   "execution_count": 5,
   "metadata": {},
   "outputs": [],
   "source": [
    "dir = \"teksty/nasz_dziennik/wirus/\""
   ]
  },
  {
   "cell_type": "code",
   "execution_count": 4,
   "metadata": {},
   "outputs": [],
   "source": [
    "file = \"1.txt\""
   ]
  },
  {
   "cell_type": "code",
   "execution_count": 4,
   "metadata": {},
   "outputs": [],
   "source": [
    "file_1 = PreprocessText.read_files(file, dir)"
   ]
  },
  {
   "cell_type": "code",
   "execution_count": 5,
   "metadata": {},
   "outputs": [
    {
     "data": {
      "text/plain": [
       "'Wielkopolskie: Piąte ognisko ptasiej grypy\\nCzwartek, 23 stycznia 2020 (21:14)\\n\\nPiąte ognisko ptasiej'"
      ]
     },
     "execution_count": 5,
     "metadata": {},
     "output_type": "execute_result"
    }
   ],
   "source": [
    "file_1[:100]"
   ]
  },
  {
   "cell_type": "code",
   "execution_count": 6,
   "metadata": {},
   "outputs": [],
   "source": [
    "processed_inner_text = PreprocessText.process(file_1)[2]"
   ]
  },
  {
   "cell_type": "code",
   "execution_count": 7,
   "metadata": {},
   "outputs": [
    {
     "data": {
      "text/plain": [
       "['Piąte ognisko ptasiej grypy potwierdzono w Wielkopolsce w gospodarstwie w Radłowie, w powiecie ostrowskim - poinformował wojewódzki lekarz weterynarii w Poznaniu Andrzej Żarnecki.',\n",
       " 'Do tej pory – jak poinformował PAP wojewódzki lekarz weterynarii w Poznaniu Andrzej Żarnecki – potwierdzono pięć przypadków ptasiej grypy ptaków w Wielkopolsce.',\n",
       " 'Pierwszy przypadek pojawienia się ptasiej grypy – przypomniał Żarnecki – służby weterynaryjne ujawniły 31 grudnia ub.r. w Topoli Osiedlu w powiecie ostrowskim. Wirus H5N8 wystąpił na fermie, gdzie hodowano 65 tys. kur niosek.',\n",
       " 'Drugim razem obecność wirusa potwierdzono 13 stycznia na fermie w miejscowości Zalesie w powiecie kolskim, gdzie wybito 6 tys. gęsi.',\n",
       " 'Trzy dni później, 15 stycznia, w miejscowości Słaborowice w powiecie ostrowskim w gospodarstwie wybito 21 tys. zarażonych kaczek.',\n",
       " 'Następnego dnia wirus ptasiej grypy potwierdzono po raz czwarty w Ostrowie Wielkopolskim, gdzie wirus zaatakował stado 9 tys. kaczek.',\n",
       " 'Piąte ognisko występowania wirusa Wojewódzki Lekarz Weterynarii w Poznaniu potwierdził w czwartek. Tym razem ptasia grypa zaatakowała stado 140 kur w Radłowie w powiecie ostrowskim.',\n",
       " 'Wszystkie potwierdzające występowanie wirusa badania – jak przekazał Żarnecki – przeprowadzono w Państwowym Instytucie Weterynarii w Puławach.',\n",
       " 'Zarażone ptaki zutylizowano w zakładzie w Śmiłowie niedaleko Piły.',\n",
       " 'Ptasia grypa to choroba wirusowa stwarzająca zagrożenie przede wszystkim dla ptaków – zarówno dzikich, wolnożyjących, jak i dla drobiu hodowanego przez ludzi.',\n",
       " 'Hodowcom drobiu zaleca się zachowanie szczególnej ostrożności i stosowanie odpowiednich środków bioasekuracji, minimalizujących ryzyko przeniesienia wirusa grypy ptaków.',\n",
       " '„Chodzi m.in. o zabezpieczenie paszy przed dostępem dzikich zwierząt, niekarmienie drobiu na zewnątrz budynków, w których zwierzęta są utrzymywane oraz stosowanie odzieży i obuwia ochronnego w gospodarstwie” – poinformował Wojewódzki Lekarz Weterynarii w Poznaniu.',\n",
       " 'Żarnecki wyjaśnił, że wirusy grypy mutują, dlatego ludzi, którzy mają kontakt z ptakami obowiązuje szczególna higiena – mycie rąk i zmienianie odzieży. Wirus ten – jak dodał – jest wrażliwy na obróbkę termiczną (smażenie, gotowanie) i na środki dezynfekcyjne.',\n",
       " 'Hodowcy powinni informować odpowiednie osoby i instytucje: lekarza weterynarii prywatnej praktyki, urzędowego lekarza weterynarii, wójta, burmistrza lub prezydenta miasta o wszystkich podejrzeniach wystąpienia choroby zakaźnej drobiu w ich fermach.',\n",
       " 'W związku z wykryciem ptasiej grypy służby weterynaryjne prowadzą dochodzenie na obszarach zapowietrzonych i zagrożonych w promieniu 10 km od miejsca zarażenia. W powiecie ostrowskim działaniami objęto 31 ferm drobiu. ']"
      ]
     },
     "execution_count": 7,
     "metadata": {},
     "output_type": "execute_result"
    }
   ],
   "source": [
    "processed_inner_text"
   ]
  },
  {
   "cell_type": "code",
   "execution_count": 8,
   "metadata": {},
   "outputs": [],
   "source": [
    "body1 = PreprocessText.join_lines(processed_inner_text)"
   ]
  },
  {
   "cell_type": "code",
   "execution_count": 9,
   "metadata": {},
   "outputs": [
    {
     "data": {
      "text/plain": [
       "' Piąte ognisko ptasiej grypy potwierdzono w Wielkopolsce w gospodarstwie w Radłowie, w powiecie ostrowskim - poinformował wojewódzki lekarz weterynarii w Poznaniu Andrzej Żarnecki. Do tej pory – jak poinformował PAP wojewódzki lekarz weterynarii w Poznaniu Andrzej Żarnecki – potwierdzono pięć przypadków ptasiej grypy ptaków w Wielkopolsce. Pierwszy przypadek pojawienia się ptasiej grypy – przypomniał Żarnecki – służby weterynaryjne ujawniły 31 grudnia ub.r. w Topoli Osiedlu w powiecie ostrowskim. Wirus H5N8 wystąpił na fermie, gdzie hodowano 65 tys. kur niosek. Drugim razem obecność wirusa potwierdzono 13 stycznia na fermie w miejscowości Zalesie w powiecie kolskim, gdzie wybito 6 tys. gęsi. Trzy dni później, 15 stycznia, w miejscowości Słaborowice w powiecie ostrowskim w gospodarstwie wybito 21 tys. zarażonych kaczek. Następnego dnia wirus ptasiej grypy potwierdzono po raz czwarty w Ostrowie Wielkopolskim, gdzie wirus zaatakował stado 9 tys. kaczek. Piąte ognisko występowania wirusa Wojewódzki Lekarz Weterynarii w Poznaniu potwierdził w czwartek. Tym razem ptasia grypa zaatakowała stado 140 kur w Radłowie w powiecie ostrowskim. Wszystkie potwierdzające występowanie wirusa badania – jak przekazał Żarnecki – przeprowadzono w Państwowym Instytucie Weterynarii w Puławach. Zarażone ptaki zutylizowano w zakładzie w Śmiłowie niedaleko Piły. Ptasia grypa to choroba wirusowa stwarzająca zagrożenie przede wszystkim dla ptaków – zarówno dzikich, wolnożyjących, jak i dla drobiu hodowanego przez ludzi. Hodowcom drobiu zaleca się zachowanie szczególnej ostrożności i stosowanie odpowiednich środków bioasekuracji, minimalizujących ryzyko przeniesienia wirusa grypy ptaków. „Chodzi m.in. o zabezpieczenie paszy przed dostępem dzikich zwierząt, niekarmienie drobiu na zewnątrz budynków, w których zwierzęta są utrzymywane oraz stosowanie odzieży i obuwia ochronnego w gospodarstwie” – poinformował Wojewódzki Lekarz Weterynarii w Poznaniu. Żarnecki wyjaśnił, że wirusy grypy mutują, dlatego ludzi, którzy mają kontakt z ptakami obowiązuje szczególna higiena – mycie rąk i zmienianie odzieży. Wirus ten – jak dodał – jest wrażliwy na obróbkę termiczną (smażenie, gotowanie) i na środki dezynfekcyjne. Hodowcy powinni informować odpowiednie osoby i instytucje: lekarza weterynarii prywatnej praktyki, urzędowego lekarza weterynarii, wójta, burmistrza lub prezydenta miasta o wszystkich podejrzeniach wystąpienia choroby zakaźnej drobiu w ich fermach. W związku z wykryciem ptasiej grypy służby weterynaryjne prowadzą dochodzenie na obszarach zapowietrzonych i zagrożonych w promieniu 10 km od miejsca zarażenia. W powiecie ostrowskim działaniami objęto 31 ferm drobiu. '"
      ]
     },
     "execution_count": 9,
     "metadata": {},
     "output_type": "execute_result"
    }
   ],
   "source": [
    "body1"
   ]
  },
  {
   "cell_type": "code",
   "execution_count": null,
   "metadata": {},
   "outputs": [],
   "source": []
  },
  {
   "cell_type": "code",
   "execution_count": 10,
   "metadata": {},
   "outputs": [
    {
     "name": "stdout",
     "output_type": "stream",
     "text": [
      "1.txt\n",
      "1\n"
     ]
    },
    {
     "data": {
      "text/plain": [
       "'teksty/nasz_dziennik/wirus/1_body_cleaned.txt'"
      ]
     },
     "execution_count": 10,
     "metadata": {},
     "output_type": "execute_result"
    }
   ],
   "source": [
    "filename = PreprocessText.write_body_tofile(dir, file, body1)\n",
    "filename"
   ]
  },
  {
   "cell_type": "code",
   "execution_count": 11,
   "metadata": {},
   "outputs": [
    {
     "data": {
      "text/plain": [
       "'# newdoc id = teksty/nasz_dziennik/wirus/1_body_cleaned.txt\\n# newpar\\n# sent_id = 1\\n1\\tPiąte\\tPiąty\\tADJ\\tadj:sg:acc:n:pos\\tCase=Acc|Degree=Pos|Gender=Neut|Number=Sing\\t_\\t_\\t_\\t_\\n2\\tognisko\\tognisko\\tNOUN\\tsubst:s'"
      ]
     },
     "execution_count": 11,
     "metadata": {},
     "output_type": "execute_result"
    }
   ],
   "source": [
    "output = PreprocessText.run_udpipe(filename)\n",
    "output[:200]"
   ]
  },
  {
   "cell_type": "code",
   "execution_count": null,
   "metadata": {},
   "outputs": [],
   "source": []
  },
  {
   "cell_type": "code",
   "execution_count": null,
   "metadata": {},
   "outputs": [],
   "source": []
  },
  {
   "cell_type": "code",
   "execution_count": 12,
   "metadata": {},
   "outputs": [
    {
     "data": {
      "text/plain": [
       "['Piąty',\n",
       " 'ognisko',\n",
       " 'ptasi',\n",
       " 'grypa',\n",
       " 'potwierdzony',\n",
       " 'w',\n",
       " 'Wielkopolska',\n",
       " 'w',\n",
       " 'gospodarstwo',\n",
       " 'w']"
      ]
     },
     "execution_count": 12,
     "metadata": {},
     "output_type": "execute_result"
    }
   ],
   "source": [
    "lemmas = PreprocessText.find_lemmas(output)\n",
    "lemmas[:10]"
   ]
  },
  {
   "cell_type": "code",
   "execution_count": 6,
   "metadata": {},
   "outputs": [
    {
     "name": "stdout",
     "output_type": "stream",
     "text": [
      "1.txt\n",
      "1\n"
     ]
    }
   ],
   "source": [
    "process1 = class_preporocess_text.whole_proces_polish(dir, file)"
   ]
  },
  {
   "cell_type": "code",
   "execution_count": 1,
   "metadata": {},
   "outputs": [],
   "source": [
    "import class_preporocess_text"
   ]
  },
  {
   "cell_type": "code",
   "execution_count": 2,
   "metadata": {},
   "outputs": [
    {
     "name": "stdout",
     "output_type": "stream",
     "text": [
      "bbb\n"
     ]
    }
   ],
   "source": [
    "class_preporocess_text.dupa(\"bbb\")"
   ]
  },
  {
   "cell_type": "code",
   "execution_count": null,
   "metadata": {},
   "outputs": [],
   "source": []
  }
 ],
 "metadata": {
  "jupytext": {
   "formats": "ipynb,py:light"
  },
  "kernelspec": {
   "display_name": "Python 3",
   "language": "python",
   "name": "python3"
  },
  "language_info": {
   "codemirror_mode": {
    "name": "ipython",
    "version": 3
   },
   "file_extension": ".py",
   "mimetype": "text/x-python",
   "name": "python",
   "nbconvert_exporter": "python",
   "pygments_lexer": "ipython3",
   "version": "3.8.1"
  }
 },
 "nbformat": 4,
 "nbformat_minor": 4
}
