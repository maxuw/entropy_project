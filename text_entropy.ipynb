{
 "cells": [
  {
   "cell_type": "code",
   "execution_count": 1,
   "metadata": {},
   "outputs": [],
   "source": [
    "import PreprocessText"
   ]
  },
  {
   "cell_type": "code",
   "execution_count": 2,
   "metadata": {},
   "outputs": [],
   "source": [
    "dir = \"teksty/nasz_dziennik/wirus/\""
   ]
  },
  {
   "cell_type": "code",
   "execution_count": 3,
   "metadata": {},
   "outputs": [],
   "source": [
    "file = \"1.txt\""
   ]
  },
  {
   "cell_type": "code",
   "execution_count": 4,
   "metadata": {},
   "outputs": [],
   "source": [
    "file_1 = PreprocessText.read_files(file, dir)"
   ]
  },
  {
   "cell_type": "code",
   "execution_count": 5,
   "metadata": {},
   "outputs": [
    {
     "data": {
      "text/plain": [
       "'Wielkopolskie: Piąte ognisko ptasiej grypy\\nCzwartek, 23 stycznia 2020 (21:14)\\n\\nPiąte ognisko ptasiej'"
      ]
     },
     "execution_count": 5,
     "metadata": {},
     "output_type": "execute_result"
    }
   ],
   "source": [
    "file_1[:100]"
   ]
  },
  {
   "cell_type": "code",
   "execution_count": 6,
   "metadata": {},
   "outputs": [],
   "source": [
    "processed_inner_text = PreprocessText.remove_empty_linesc(file_1)[2]"
   ]
  },
  {
   "cell_type": "code",
   "execution_count": 7,
   "metadata": {},
   "outputs": [
    {
     "data": {
      "text/plain": [
       "['Piąte ognisko ptasiej grypy potwierdzono w Wielkopolsce w gospodarstwie w Radłowie, w powiecie ostrowskim - poinformował wojewódzki lekarz weterynarii w Poznaniu Andrzej Żarnecki.',\n",
       " 'Do tej pory – jak poinformował PAP wojewódzki lekarz weterynarii w Poznaniu Andrzej Żarnecki – potwierdzono pięć przypadków ptasiej grypy ptaków w Wielkopolsce.',\n",
       " 'Pierwszy przypadek pojawienia się ptasiej grypy – przypomniał Żarnecki – służby weterynaryjne ujawniły 31 grudnia ub.r. w Topoli Osiedlu w powiecie ostrowskim. Wirus H5N8 wystąpił na fermie, gdzie hodowano 65 tys. kur niosek.',\n",
       " 'Drugim razem obecność wirusa potwierdzono 13 stycznia na fermie w miejscowości Zalesie w powiecie kolskim, gdzie wybito 6 tys. gęsi.',\n",
       " 'Trzy dni później, 15 stycznia, w miejscowości Słaborowice w powiecie ostrowskim w gospodarstwie wybito 21 tys. zarażonych kaczek.',\n",
       " 'Następnego dnia wirus ptasiej grypy potwierdzono po raz czwarty w Ostrowie Wielkopolskim, gdzie wirus zaatakował stado 9 tys. kaczek.',\n",
       " 'Piąte ognisko występowania wirusa Wojewódzki Lekarz Weterynarii w Poznaniu potwierdził w czwartek. Tym razem ptasia grypa zaatakowała stado 140 kur w Radłowie w powiecie ostrowskim.',\n",
       " 'Wszystkie potwierdzające występowanie wirusa badania – jak przekazał Żarnecki – przeprowadzono w Państwowym Instytucie Weterynarii w Puławach.',\n",
       " 'Zarażone ptaki zutylizowano w zakładzie w Śmiłowie niedaleko Piły.',\n",
       " 'Ptasia grypa to choroba wirusowa stwarzająca zagrożenie przede wszystkim dla ptaków – zarówno dzikich, wolnożyjących, jak i dla drobiu hodowanego przez ludzi.',\n",
       " 'Hodowcom drobiu zaleca się zachowanie szczególnej ostrożności i stosowanie odpowiednich środków bioasekuracji, minimalizujących ryzyko przeniesienia wirusa grypy ptaków.',\n",
       " '„Chodzi m.in. o zabezpieczenie paszy przed dostępem dzikich zwierząt, niekarmienie drobiu na zewnątrz budynków, w których zwierzęta są utrzymywane oraz stosowanie odzieży i obuwia ochronnego w gospodarstwie” – poinformował Wojewódzki Lekarz Weterynarii w Poznaniu.',\n",
       " 'Żarnecki wyjaśnił, że wirusy grypy mutują, dlatego ludzi, którzy mają kontakt z ptakami obowiązuje szczególna higiena – mycie rąk i zmienianie odzieży. Wirus ten – jak dodał – jest wrażliwy na obróbkę termiczną (smażenie, gotowanie) i na środki dezynfekcyjne.',\n",
       " 'Hodowcy powinni informować odpowiednie osoby i instytucje: lekarza weterynarii prywatnej praktyki, urzędowego lekarza weterynarii, wójta, burmistrza lub prezydenta miasta o wszystkich podejrzeniach wystąpienia choroby zakaźnej drobiu w ich fermach.',\n",
       " 'W związku z wykryciem ptasiej grypy służby weterynaryjne prowadzą dochodzenie na obszarach zapowietrzonych i zagrożonych w promieniu 10 km od miejsca zarażenia. W powiecie ostrowskim działaniami objęto 31 ferm drobiu. ']"
      ]
     },
     "execution_count": 7,
     "metadata": {},
     "output_type": "execute_result"
    }
   ],
   "source": [
    "processed_inner_text"
   ]
  },
  {
   "cell_type": "code",
   "execution_count": 8,
   "metadata": {},
   "outputs": [],
   "source": [
    "body1 = PreprocessText.join_lines(processed_inner_text)"
   ]
  },
  {
   "cell_type": "code",
   "execution_count": 9,
   "metadata": {},
   "outputs": [
    {
     "data": {
      "text/plain": [
       "' Piąte ognisko ptasiej grypy potwierdzono w Wielkopolsce w gospodarstwie w Radłowie, w powiecie ostrowskim - poinformował wojewódzki lekarz weterynarii w Poznaniu Andrzej Żarnecki. Do tej pory – jak poinformował PAP wojewódzki lekarz weterynarii w Poznaniu Andrzej Żarnecki – potwierdzono pięć przypadków ptasiej grypy ptaków w Wielkopolsce. Pierwszy przypadek pojawienia się ptasiej grypy – przypomniał Żarnecki – służby weterynaryjne ujawniły 31 grudnia ub.r. w Topoli Osiedlu w powiecie ostrowskim. Wirus H5N8 wystąpił na fermie, gdzie hodowano 65 tys. kur niosek. Drugim razem obecność wirusa potwierdzono 13 stycznia na fermie w miejscowości Zalesie w powiecie kolskim, gdzie wybito 6 tys. gęsi. Trzy dni później, 15 stycznia, w miejscowości Słaborowice w powiecie ostrowskim w gospodarstwie wybito 21 tys. zarażonych kaczek. Następnego dnia wirus ptasiej grypy potwierdzono po raz czwarty w Ostrowie Wielkopolskim, gdzie wirus zaatakował stado 9 tys. kaczek. Piąte ognisko występowania wirusa Wojewódzki Lekarz Weterynarii w Poznaniu potwierdził w czwartek. Tym razem ptasia grypa zaatakowała stado 140 kur w Radłowie w powiecie ostrowskim. Wszystkie potwierdzające występowanie wirusa badania – jak przekazał Żarnecki – przeprowadzono w Państwowym Instytucie Weterynarii w Puławach. Zarażone ptaki zutylizowano w zakładzie w Śmiłowie niedaleko Piły. Ptasia grypa to choroba wirusowa stwarzająca zagrożenie przede wszystkim dla ptaków – zarówno dzikich, wolnożyjących, jak i dla drobiu hodowanego przez ludzi. Hodowcom drobiu zaleca się zachowanie szczególnej ostrożności i stosowanie odpowiednich środków bioasekuracji, minimalizujących ryzyko przeniesienia wirusa grypy ptaków. „Chodzi m.in. o zabezpieczenie paszy przed dostępem dzikich zwierząt, niekarmienie drobiu na zewnątrz budynków, w których zwierzęta są utrzymywane oraz stosowanie odzieży i obuwia ochronnego w gospodarstwie” – poinformował Wojewódzki Lekarz Weterynarii w Poznaniu. Żarnecki wyjaśnił, że wirusy grypy mutują, dlatego ludzi, którzy mają kontakt z ptakami obowiązuje szczególna higiena – mycie rąk i zmienianie odzieży. Wirus ten – jak dodał – jest wrażliwy na obróbkę termiczną (smażenie, gotowanie) i na środki dezynfekcyjne. Hodowcy powinni informować odpowiednie osoby i instytucje: lekarza weterynarii prywatnej praktyki, urzędowego lekarza weterynarii, wójta, burmistrza lub prezydenta miasta o wszystkich podejrzeniach wystąpienia choroby zakaźnej drobiu w ich fermach. W związku z wykryciem ptasiej grypy służby weterynaryjne prowadzą dochodzenie na obszarach zapowietrzonych i zagrożonych w promieniu 10 km od miejsca zarażenia. W powiecie ostrowskim działaniami objęto 31 ferm drobiu. '"
      ]
     },
     "execution_count": 9,
     "metadata": {},
     "output_type": "execute_result"
    }
   ],
   "source": [
    "body1"
   ]
  },
  {
   "cell_type": "code",
   "execution_count": 10,
   "metadata": {},
   "outputs": [],
   "source": [
    "import string"
   ]
  },
  {
   "cell_type": "code",
   "execution_count": 11,
   "metadata": {},
   "outputs": [
    {
     "data": {
      "text/plain": [
       "' Piąte ognisko ptasiej grypy potwierdzono w Wielkopolsce w gospodarstwie w Radłowie w powiecie ostrowskim  poinformował wojewódzki lekarz weterynarii w Poznaniu Andrzej Żarnecki Do tej pory – jak poinformował PAP wojewódzki lekarz weterynarii w Poznaniu Andrzej Żarnecki – potwierdzono pięć przypadków ptasiej grypy ptaków w Wielkopolsce Pierwszy przypadek pojawienia się ptasiej grypy – przypomniał Żarnecki – służby weterynaryjne ujawniły 31 grudnia ubr w Topoli Osiedlu w powiecie ostrowskim Wirus H5N8 wystąpił na fermie gdzie hodowano 65 tys kur niosek Drugim razem obecność wirusa potwierdzono 13 stycznia na fermie w miejscowości Zalesie w powiecie kolskim gdzie wybito 6 tys gęsi Trzy dni później 15 stycznia w miejscowości Słaborowice w powiecie ostrowskim w gospodarstwie wybito 21 tys zarażonych kaczek Następnego dnia wirus ptasiej grypy potwierdzono po raz czwarty w Ostrowie Wielkopolskim gdzie wirus zaatakował stado 9 tys kaczek Piąte ognisko występowania wirusa Wojewódzki Lekarz Weterynarii w Poznaniu potwierdził w czwartek Tym razem ptasia grypa zaatakowała stado 140 kur w Radłowie w powiecie ostrowskim Wszystkie potwierdzające występowanie wirusa badania – jak przekazał Żarnecki – przeprowadzono w Państwowym Instytucie Weterynarii w Puławach Zarażone ptaki zutylizowano w zakładzie w Śmiłowie niedaleko Piły Ptasia grypa to choroba wirusowa stwarzająca zagrożenie przede wszystkim dla ptaków – zarówno dzikich wolnożyjących jak i dla drobiu hodowanego przez ludzi Hodowcom drobiu zaleca się zachowanie szczególnej ostrożności i stosowanie odpowiednich środków bioasekuracji minimalizujących ryzyko przeniesienia wirusa grypy ptaków „Chodzi min o zabezpieczenie paszy przed dostępem dzikich zwierząt niekarmienie drobiu na zewnątrz budynków w których zwierzęta są utrzymywane oraz stosowanie odzieży i obuwia ochronnego w gospodarstwie” – poinformował Wojewódzki Lekarz Weterynarii w Poznaniu Żarnecki wyjaśnił że wirusy grypy mutują dlatego ludzi którzy mają kontakt z ptakami obowiązuje szczególna higiena – mycie rąk i zmienianie odzieży Wirus ten – jak dodał – jest wrażliwy na obróbkę termiczną smażenie gotowanie i na środki dezynfekcyjne Hodowcy powinni informować odpowiednie osoby i instytucje lekarza weterynarii prywatnej praktyki urzędowego lekarza weterynarii wójta burmistrza lub prezydenta miasta o wszystkich podejrzeniach wystąpienia choroby zakaźnej drobiu w ich fermach W związku z wykryciem ptasiej grypy służby weterynaryjne prowadzą dochodzenie na obszarach zapowietrzonych i zagrożonych w promieniu 10 km od miejsca zarażenia W powiecie ostrowskim działaniami objęto 31 ferm drobiu '"
      ]
     },
     "execution_count": 11,
     "metadata": {},
     "output_type": "execute_result"
    }
   ],
   "source": [
    "body1.translate(str.maketrans('', '', string.punctuation))"
   ]
  },
  {
   "cell_type": "code",
   "execution_count": null,
   "metadata": {},
   "outputs": [],
   "source": []
  },
  {
   "cell_type": "code",
   "execution_count": 12,
   "metadata": {},
   "outputs": [],
   "source": [
    "body_nopunct = PreprocessText.remove_punctuation(body1)"
   ]
  },
  {
   "cell_type": "code",
   "execution_count": 13,
   "metadata": {},
   "outputs": [
    {
     "data": {
      "text/plain": [
       "' Piąte ognisko ptasiej grypy potwierdzono w Wielkopolsce w gospodarstwie w Radłowie w powiecie ostrowskim  poinformował wojewódzki lekarz weterynarii w Poznaniu Andrzej Żarnecki Do tej pory   jak poinformował PAP wojewódzki lekarz weterynarii w Poznaniu Andrzej Żarnecki   potwierdzono pięć przypadków ptasiej grypy ptaków w Wielkopolsce Pierwszy przypadek pojawienia się ptasiej grypy   przypomniał Żarnecki   służby weterynaryjne ujawniły 31 grudnia ubr w Topoli Osiedlu w powiecie ostrowskim Wirus H5N8 wystąpił na fermie gdzie hodowano 65 tys kur niosek Drugim razem obecność wirusa potwierdzono 13 stycznia na fermie w miejscowości Zalesie w powiecie kolskim gdzie wybito 6 tys gęsi Trzy dni później 15 stycznia w miejscowości Słaborowice w powiecie ostrowskim w gospodarstwie wybito 21 tys zarażonych kaczek Następnego dnia wirus ptasiej grypy potwierdzono po raz czwarty w Ostrowie Wielkopolskim gdzie wirus zaatakował stado 9 tys kaczek Piąte ognisko występowania wirusa Wojewódzki Lekarz Weterynarii w Poznaniu potwierdził w czwartek Tym razem ptasia grypa zaatakowała stado 140 kur w Radłowie w powiecie ostrowskim Wszystkie potwierdzające występowanie wirusa badania   jak przekazał Żarnecki   przeprowadzono w Państwowym Instytucie Weterynarii w Puławach Zarażone ptaki zutylizowano w zakładzie w Śmiłowie niedaleko Piły Ptasia grypa to choroba wirusowa stwarzająca zagrożenie przede wszystkim dla ptaków   zarówno dzikich wolnożyjących jak i dla drobiu hodowanego przez ludzi Hodowcom drobiu zaleca się zachowanie szczególnej ostrożności i stosowanie odpowiednich środków bioasekuracji minimalizujących ryzyko przeniesienia wirusa grypy ptaków „Chodzi min o zabezpieczenie paszy przed dostępem dzikich zwierząt niekarmienie drobiu na zewnątrz budynków w których zwierzęta są utrzymywane oraz stosowanie odzieży i obuwia ochronnego w gospodarstwie”   poinformował Wojewódzki Lekarz Weterynarii w Poznaniu Żarnecki wyjaśnił że wirusy grypy mutują dlatego ludzi którzy mają kontakt z ptakami obowiązuje szczególna higiena   mycie rąk i zmienianie odzieży Wirus ten   jak dodał   jest wrażliwy na obróbkę termiczną smażenie gotowanie i na środki dezynfekcyjne Hodowcy powinni informować odpowiednie osoby i instytucje lekarza weterynarii prywatnej praktyki urzędowego lekarza weterynarii wójta burmistrza lub prezydenta miasta o wszystkich podejrzeniach wystąpienia choroby zakaźnej drobiu w ich fermach W związku z wykryciem ptasiej grypy służby weterynaryjne prowadzą dochodzenie na obszarach zapowietrzonych i zagrożonych w promieniu 10 km od miejsca zarażenia W powiecie ostrowskim działaniami objęto 31 ferm drobiu '"
      ]
     },
     "execution_count": 13,
     "metadata": {},
     "output_type": "execute_result"
    }
   ],
   "source": [
    "body_nopunct"
   ]
  },
  {
   "cell_type": "code",
   "execution_count": 14,
   "metadata": {},
   "outputs": [
    {
     "name": "stdout",
     "output_type": "stream",
     "text": [
      "1.txt\n",
      "1\n"
     ]
    },
    {
     "data": {
      "text/plain": [
       "'teksty/nasz_dziennik/wirus/1_body_cleaned.txt'"
      ]
     },
     "execution_count": 14,
     "metadata": {},
     "output_type": "execute_result"
    }
   ],
   "source": [
    "filename = PreprocessText.write_body_tofile(dir, file, body_nopunct)\n",
    "filename"
   ]
  },
  {
   "cell_type": "code",
   "execution_count": 15,
   "metadata": {},
   "outputs": [
    {
     "data": {
      "text/plain": [
       "'# newdoc id = teksty/nasz_dziennik/wirus/1_body_cleaned.txt\\n# newpar\\n# sent_id = 1\\n1\\tPiąte\\tPiąty\\tADJ\\tadj:sg:nom:n:pos\\tCase=Nom|Degree=Pos|Gender=Neut|Number=Sing\\t_\\t_\\t_\\t_\\n2\\tognisko\\tognisko\\tNOUN\\tsubst:s'"
      ]
     },
     "execution_count": 15,
     "metadata": {},
     "output_type": "execute_result"
    }
   ],
   "source": [
    "output = PreprocessText.run_udpipe(filename)\n",
    "output[:200]"
   ]
  },
  {
   "cell_type": "code",
   "execution_count": null,
   "metadata": {},
   "outputs": [],
   "source": []
  },
  {
   "cell_type": "code",
   "execution_count": null,
   "metadata": {},
   "outputs": [],
   "source": []
  },
  {
   "cell_type": "code",
   "execution_count": 16,
   "metadata": {},
   "outputs": [
    {
     "data": {
      "text/plain": [
       "['Piąty',\n",
       " 'ognisko',\n",
       " 'ptasi',\n",
       " 'grypa',\n",
       " 'potwierdzony',\n",
       " 'w',\n",
       " 'Wielkopolska',\n",
       " 'w',\n",
       " 'gospodarstwo',\n",
       " 'w']"
      ]
     },
     "execution_count": 16,
     "metadata": {},
     "output_type": "execute_result"
    }
   ],
   "source": [
    "lemmas = PreprocessText.find_lemmas(output)\n",
    "lemmas[:10]"
   ]
  },
  {
   "cell_type": "code",
   "execution_count": 19,
   "metadata": {},
   "outputs": [
    {
     "name": "stdout",
     "output_type": "stream",
     "text": [
      "1.txt\n",
      "1\n"
     ]
    }
   ],
   "source": [
    "process1 = PreprocessText.whole_proces_polish(\"teksty\", file)"
   ]
  },
  {
   "cell_type": "code",
   "execution_count": 20,
   "metadata": {},
   "outputs": [
    {
     "data": {
      "text/plain": [
       "['Piąty',\n",
       " 'ognisko',\n",
       " 'ptasi',\n",
       " 'grypa',\n",
       " 'potwierdzony',\n",
       " 'w',\n",
       " 'Wielkopolska',\n",
       " 'w',\n",
       " 'gospodarstwo',\n",
       " 'w',\n",
       " 'Radłów',\n",
       " 'w',\n",
       " 'powiat',\n",
       " 'ostrowski',\n",
       " 'poinformować',\n",
       " 'wojewódzki',\n",
       " 'lekarz',\n",
       " 'weterynaria',\n",
       " 'w',\n",
       " 'Poznań',\n",
       " 'Andrzej',\n",
       " 'Żarnecki',\n",
       " 'do',\n",
       " 'ten',\n",
       " 'pora',\n",
       " 'jak',\n",
       " 'poinformować',\n",
       " 'PAP',\n",
       " 'wojewódzki',\n",
       " 'lekarz',\n",
       " 'weterynaria',\n",
       " 'w',\n",
       " 'Poznań',\n",
       " 'Andrzej',\n",
       " 'Żarnecki',\n",
       " 'potwierdzony',\n",
       " 'pięć',\n",
       " 'przypadek',\n",
       " 'ptasi',\n",
       " 'grypa',\n",
       " 'ptak',\n",
       " 'w',\n",
       " 'Wielkopolska',\n",
       " 'pierwszy',\n",
       " 'przypadek',\n",
       " 'pojawieniać',\n",
       " 'się',\n",
       " 'ptasi',\n",
       " 'grypa',\n",
       " 'przypomnieć',\n",
       " 'Żarnecki',\n",
       " 'służba',\n",
       " 'weterynaryjny',\n",
       " 'ujawnić',\n",
       " '31',\n",
       " 'grudzień',\n",
       " 'ubr',\n",
       " 'w',\n",
       " 'Topola',\n",
       " 'Osiedl',\n",
       " 'w',\n",
       " 'powiat',\n",
       " 'ostrowski',\n",
       " 'Wirus',\n",
       " 'H5N8',\n",
       " 'wystąpić',\n",
       " 'na',\n",
       " 'ferma',\n",
       " 'gdzie',\n",
       " 'hodowany',\n",
       " '65',\n",
       " 'kura',\n",
       " 'nioska',\n",
       " 'drugi',\n",
       " 'razem',\n",
       " 'obecność',\n",
       " 'wirus',\n",
       " 'potwierdzony',\n",
       " '13',\n",
       " 'styczeń',\n",
       " 'na',\n",
       " 'ferma',\n",
       " 'w',\n",
       " 'miejscowość',\n",
       " 'Zalesa',\n",
       " 'w',\n",
       " 'powiat',\n",
       " 'kolski',\n",
       " 'gdzie',\n",
       " 'wybity',\n",
       " '6',\n",
       " 'gęś',\n",
       " 'trzy',\n",
       " 'dzień',\n",
       " 'późno',\n",
       " '15',\n",
       " 'styczeń',\n",
       " 'w',\n",
       " 'miejscowość',\n",
       " 'Słaborowika',\n",
       " 'w',\n",
       " 'powiat',\n",
       " 'ostrowski',\n",
       " 'w',\n",
       " 'gospodarstwo',\n",
       " 'wybity',\n",
       " '21',\n",
       " 'zarażony',\n",
       " 'kaczek',\n",
       " 'Następny',\n",
       " 'dzień',\n",
       " 'wirus',\n",
       " 'ptasi',\n",
       " 'grypa',\n",
       " 'potwierdzony',\n",
       " 'po',\n",
       " 'raz',\n",
       " 'czwarty',\n",
       " 'w',\n",
       " 'Ostrów',\n",
       " 'Wielkopolski',\n",
       " 'gdzie',\n",
       " 'wirus',\n",
       " 'zaatakować',\n",
       " 'stado',\n",
       " '9',\n",
       " 'kaczek',\n",
       " 'Piąte',\n",
       " 'ognisko',\n",
       " 'występowanie',\n",
       " 'wirus',\n",
       " 'wojewódzki',\n",
       " 'lekarz',\n",
       " 'weterynaria',\n",
       " 'w',\n",
       " 'Poznań',\n",
       " 'potwierdzić',\n",
       " 'w',\n",
       " 'czwartek',\n",
       " 'ten',\n",
       " 'raz',\n",
       " 'ptasie',\n",
       " 'grypa',\n",
       " 'zaatakować',\n",
       " 'stado',\n",
       " '140',\n",
       " 'kura',\n",
       " 'w',\n",
       " 'Radłów',\n",
       " 'w',\n",
       " 'powiat',\n",
       " 'ostrowski',\n",
       " 'wszystek',\n",
       " 'potwierdzający',\n",
       " 'występowanie',\n",
       " 'wirus',\n",
       " 'badanie',\n",
       " 'jak',\n",
       " 'przekazać',\n",
       " 'Żarnecki',\n",
       " 'przeprowadzony',\n",
       " 'w',\n",
       " 'Państwowy',\n",
       " 'Instytucie',\n",
       " 'weterynaria',\n",
       " 'w',\n",
       " 'Puławy',\n",
       " 'Zarażony',\n",
       " 'ptak',\n",
       " 'zutylizowany',\n",
       " 'w',\n",
       " 'zakład',\n",
       " 'w',\n",
       " 'Śmiłów',\n",
       " 'niedaleko',\n",
       " 'pić',\n",
       " 'Ptasia',\n",
       " 'grypa',\n",
       " 'to',\n",
       " 'choroba',\n",
       " 'wirusowy',\n",
       " 'stwarzający',\n",
       " 'zagrożenie',\n",
       " 'przed',\n",
       " 'wszystko',\n",
       " 'dla',\n",
       " 'ptak',\n",
       " 'zarówno',\n",
       " 'dziki',\n",
       " 'wolnożyjący',\n",
       " 'jak',\n",
       " 'i',\n",
       " 'dla',\n",
       " 'drob',\n",
       " 'hodowany',\n",
       " 'przez',\n",
       " 'człowiek',\n",
       " 'Hodowca',\n",
       " 'drob',\n",
       " 'zalecać',\n",
       " 'się',\n",
       " 'zachowanie',\n",
       " 'szczególny',\n",
       " 'ostrożność',\n",
       " 'i',\n",
       " 'stosowanie',\n",
       " 'odpowiedni',\n",
       " 'środek',\n",
       " 'bioasekuracja',\n",
       " 'minimalizujący',\n",
       " 'ryzyko',\n",
       " 'przeniesienie',\n",
       " 'wirus',\n",
       " 'grypa',\n",
       " 'ptak',\n",
       " '„Chódź',\n",
       " 'mina',\n",
       " 'o',\n",
       " 'zabezpieczenie',\n",
       " 'pasza',\n",
       " 'przed',\n",
       " 'dostęp',\n",
       " 'dziki',\n",
       " 'zwierzę',\n",
       " 'niekarmienie',\n",
       " 'drob',\n",
       " 'na',\n",
       " 'zewnątrz',\n",
       " 'budynek',\n",
       " 'w',\n",
       " 'który',\n",
       " 'zwierzę',\n",
       " 'być',\n",
       " 'utrzymywany',\n",
       " 'oraz',\n",
       " 'stosowanie',\n",
       " 'odzież',\n",
       " 'i',\n",
       " 'obuwie',\n",
       " 'ochronny',\n",
       " 'gospodarstwie”',\n",
       " 'poinformować',\n",
       " 'wojewódzki',\n",
       " 'lekarz',\n",
       " 'weterynaria',\n",
       " 'w',\n",
       " 'Poznań',\n",
       " 'Żarnecki',\n",
       " 'wyjaśnić',\n",
       " 'że',\n",
       " 'wirus',\n",
       " 'grypa',\n",
       " 'mutować',\n",
       " 'dlatego',\n",
       " 'człowiek',\n",
       " 'który',\n",
       " 'mieć',\n",
       " 'kontakt',\n",
       " 'z',\n",
       " 'ptak',\n",
       " 'obowiązywać',\n",
       " 'szczególny',\n",
       " 'higiena',\n",
       " 'mycie',\n",
       " 'ręka',\n",
       " 'i',\n",
       " 'zmienianie',\n",
       " 'odzieżeć',\n",
       " 'Wirus',\n",
       " 'ten',\n",
       " 'jak',\n",
       " 'dodeć',\n",
       " 'być',\n",
       " 'wrażliwy',\n",
       " 'na',\n",
       " 'obróbka',\n",
       " 'termiczny',\n",
       " 'smażenie',\n",
       " 'gotowanie',\n",
       " 'i',\n",
       " 'na',\n",
       " 'środek',\n",
       " 'dezynfekcyjny',\n",
       " 'Hodowiec',\n",
       " 'powinien',\n",
       " 'informować',\n",
       " 'odpowiedni',\n",
       " 'osoba',\n",
       " 'i',\n",
       " 'instytucja',\n",
       " 'lekarz',\n",
       " 'weterynaria',\n",
       " 'prywatny',\n",
       " 'praktyka',\n",
       " 'urzędowy',\n",
       " 'lekarz',\n",
       " 'weterynaria',\n",
       " 'wójt',\n",
       " 'burmistrz',\n",
       " 'lub',\n",
       " 'prezydent',\n",
       " 'miasto',\n",
       " 'o',\n",
       " 'wszystek',\n",
       " 'podejrzenie',\n",
       " 'wystąpienie',\n",
       " 'choroba',\n",
       " 'zakaźny',\n",
       " 'drob',\n",
       " 'w',\n",
       " 'on',\n",
       " 'ferm',\n",
       " 'w',\n",
       " 'związek',\n",
       " 'z',\n",
       " 'wykrycie',\n",
       " 'ptasi',\n",
       " 'grypa',\n",
       " 'służba',\n",
       " 'weterynaryjny',\n",
       " 'prowadzić',\n",
       " 'dochodzenie',\n",
       " 'na',\n",
       " 'obszar',\n",
       " 'zapowietrzony',\n",
       " 'i',\n",
       " 'zagrożony',\n",
       " 'w',\n",
       " 'promień',\n",
       " '10',\n",
       " 'od',\n",
       " 'miejsce',\n",
       " 'zarażenie',\n",
       " 'w',\n",
       " 'powiat',\n",
       " 'ostrowski',\n",
       " 'działanie',\n",
       " 'objęty',\n",
       " '31',\n",
       " 'ferma',\n",
       " 'drob']"
      ]
     },
     "execution_count": 20,
     "metadata": {},
     "output_type": "execute_result"
    }
   ],
   "source": [
    "process1"
   ]
  },
  {
   "cell_type": "code",
   "execution_count": null,
   "metadata": {},
   "outputs": [],
   "source": []
  }
 ],
 "metadata": {
  "jupytext": {
   "formats": "ipynb,py:light"
  },
  "kernelspec": {
   "display_name": "Python 3",
   "language": "python",
   "name": "python3"
  },
  "language_info": {
   "codemirror_mode": {
    "name": "ipython",
    "version": 3
   },
   "file_extension": ".py",
   "mimetype": "text/x-python",
   "name": "python",
   "nbconvert_exporter": "python",
   "pygments_lexer": "ipython3",
   "version": "3.8.1"
  }
 },
 "nbformat": 4,
 "nbformat_minor": 4
}
