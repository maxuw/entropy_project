{
 "cells": [
  {
   "cell_type": "code",
   "execution_count": 1,
   "metadata": {},
   "outputs": [],
   "source": [
    "import PreprocessText\n",
    "import EntropyCount"
   ]
  },
  {
   "cell_type": "code",
   "execution_count": 24,
   "metadata": {},
   "outputs": [],
   "source": [
    "import numpy as np\n",
    "from sklearn.linear_model import LinearRegression\n"
   ]
  },
  {
   "cell_type": "code",
   "execution_count": 3,
   "metadata": {},
   "outputs": [],
   "source": [
    "import pandas as pd\n",
    "import matplotlib.pyplot as plt"
   ]
  },
  {
   "cell_type": "code",
   "execution_count": 4,
   "metadata": {},
   "outputs": [],
   "source": [
    "# Preprocesing i liczenie entropi dla naszego dziennika"
   ]
  },
  {
   "cell_type": "code",
   "execution_count": 5,
   "metadata": {
    "lines_to_next_cell": 0
   },
   "outputs": [],
   "source": [
    "# def preprocess_paper(dir_, articles_amount, paper_name):\n",
    "    \n",
    "#     list_articles = []\n",
    "    \n",
    "#     for n in range(articles_amount):\n",
    "#         file = str(n) + \".txt\"\n",
    "\n",
    "#         prep = PreprocessText.whole_proces_polish(dir_, file)\n",
    "#         entropy, amount_tokens = EntropyCount.calculate_entropy_for_all_words(prep)\n",
    "\n",
    "#         list_this = []\n",
    "#         list_this.append(n)\n",
    "#         list_this.append(paper_name)\n",
    "#         list_this.append(prep[:3])\n",
    "#         list_this.append(amount_tokens)\n",
    "#         list_this.append(entropy)\n",
    "        \n",
    "#         list_articles.append(list_this)\n",
    "    \n",
    "#     return list_articles"
   ]
  },
  {
   "cell_type": "code",
   "execution_count": 6,
   "metadata": {
    "lines_to_next_cell": 2
   },
   "outputs": [],
   "source": [
    "def whole_preprocess_entrpy_entrate(dir_, articles_amount, paper_name):\n",
    "    list_articles = []\n",
    "\n",
    "    for n in range(articles_amount):\n",
    "        file = str(n) + \".txt\"\n",
    "\n",
    "        prep = PreprocessText.preprocess_article(dir_, file)\n",
    "        entropy, amount_tokens = EntropyCount.calculate_entropy_for_all_words(prep)\n",
    "        entropy_rate = EntropyCount.entropy_rate_calculate(prep)\n",
    "\n",
    "        list_this = []\n",
    "        list_this.append(n)\n",
    "        list_this.append(paper_name)\n",
    "        list_this.append(prep[:3])\n",
    "        list_this.append(amount_tokens)\n",
    "        list_this.append(entropy)\n",
    "        list_this.append(entropy_rate)\n",
    "\n",
    "        list_articles.append(list_this)\n",
    "        \n",
    "\n",
    "    return list_articles"
   ]
  },
  {
   "cell_type": "code",
   "execution_count": null,
   "metadata": {},
   "outputs": [],
   "source": []
  },
  {
   "cell_type": "code",
   "execution_count": 7,
   "metadata": {
    "lines_to_end_of_cell_marker": 2
   },
   "outputs": [],
   "source": [
    "dir_ = \"teksty/nasz_dziennik/all_articles/\"\n",
    "paper_name = \"Nasz Dziennik\"\n",
    "articles_amount = 52 #52\n",
    "\n",
    "list_nasz = whole_preprocess_entrpy_entrate(dir_, articles_amount, paper_name)"
   ]
  },
  {
   "cell_type": "code",
   "execution_count": 8,
   "metadata": {},
   "outputs": [
    {
     "data": {
      "text/plain": [
       "[[0,\n",
       "  'Nasz Dziennik',\n",
       "  ['od', 'poniedziałek', 'w'],\n",
       "  55,\n",
       "  5.41291130431574,\n",
       "  3.668929159476279],\n",
       " [1,\n",
       "  'Nasz Dziennik',\n",
       "  ['list', 'otwarty', 'do'],\n",
       "  630,\n",
       "  7.889397660544073,\n",
       "  4.300786702420664],\n",
       " [2,\n",
       "  'Nasz Dziennik',\n",
       "  ['obraz', 'Jan', 'Matejka'],\n",
       "  165,\n",
       "  6.728744278027398,\n",
       "  4.418111367495173],\n",
       " [3,\n",
       "  'Nasz Dziennik',\n",
       "  ['osoba', 'chcący', 'wziąć'],\n",
       "  167,\n",
       "  6.711364921590839,\n",
       "  4.329091822968895],\n",
       " [4,\n",
       "  'Nasz Dziennik',\n",
       "  ['Poznański', 'rodzic', 'apelować'],\n",
       "  356,\n",
       "  7.3228881270056965,\n",
       "  4.034793674333611]]"
      ]
     },
     "execution_count": 8,
     "metadata": {},
     "output_type": "execute_result"
    }
   ],
   "source": [
    "list_nasz[:5]"
   ]
  },
  {
   "cell_type": "code",
   "execution_count": 9,
   "metadata": {},
   "outputs": [],
   "source": [
    "df_nasz = pd.DataFrame(list_nasz, columns = [\"Numer artykułu\", \"Nazwa gazety\", \"Pierwsze lematy\", \"Ilość tokenów\", \"Entropia\", \"Wskaźnik entropii\"])"
   ]
  },
  {
   "cell_type": "code",
   "execution_count": 10,
   "metadata": {},
   "outputs": [
    {
     "data": {
      "text/html": [
       "<div>\n",
       "<style scoped>\n",
       "    .dataframe tbody tr th:only-of-type {\n",
       "        vertical-align: middle;\n",
       "    }\n",
       "\n",
       "    .dataframe tbody tr th {\n",
       "        vertical-align: top;\n",
       "    }\n",
       "\n",
       "    .dataframe thead th {\n",
       "        text-align: right;\n",
       "    }\n",
       "</style>\n",
       "<table border=\"1\" class=\"dataframe\">\n",
       "  <thead>\n",
       "    <tr style=\"text-align: right;\">\n",
       "      <th></th>\n",
       "      <th>Numer artykułu</th>\n",
       "      <th>Nazwa gazety</th>\n",
       "      <th>Pierwsze lematy</th>\n",
       "      <th>Ilość tokenów</th>\n",
       "      <th>Entropia</th>\n",
       "      <th>Wskaźnik entropii</th>\n",
       "    </tr>\n",
       "  </thead>\n",
       "  <tbody>\n",
       "    <tr>\n",
       "      <th>0</th>\n",
       "      <td>0</td>\n",
       "      <td>Nasz Dziennik</td>\n",
       "      <td>[od, poniedziałek, w]</td>\n",
       "      <td>55</td>\n",
       "      <td>5.412911</td>\n",
       "      <td>3.668929</td>\n",
       "    </tr>\n",
       "    <tr>\n",
       "      <th>1</th>\n",
       "      <td>1</td>\n",
       "      <td>Nasz Dziennik</td>\n",
       "      <td>[list, otwarty, do]</td>\n",
       "      <td>630</td>\n",
       "      <td>7.889398</td>\n",
       "      <td>4.300787</td>\n",
       "    </tr>\n",
       "    <tr>\n",
       "      <th>2</th>\n",
       "      <td>2</td>\n",
       "      <td>Nasz Dziennik</td>\n",
       "      <td>[obraz, Jan, Matejka]</td>\n",
       "      <td>165</td>\n",
       "      <td>6.728744</td>\n",
       "      <td>4.418111</td>\n",
       "    </tr>\n",
       "    <tr>\n",
       "      <th>3</th>\n",
       "      <td>3</td>\n",
       "      <td>Nasz Dziennik</td>\n",
       "      <td>[osoba, chcący, wziąć]</td>\n",
       "      <td>167</td>\n",
       "      <td>6.711365</td>\n",
       "      <td>4.329092</td>\n",
       "    </tr>\n",
       "    <tr>\n",
       "      <th>4</th>\n",
       "      <td>4</td>\n",
       "      <td>Nasz Dziennik</td>\n",
       "      <td>[Poznański, rodzic, apelować]</td>\n",
       "      <td>356</td>\n",
       "      <td>7.322888</td>\n",
       "      <td>4.034794</td>\n",
       "    </tr>\n",
       "    <tr>\n",
       "      <th>5</th>\n",
       "      <td>5</td>\n",
       "      <td>Nasz Dziennik</td>\n",
       "      <td>[policjant, wspólnie, z]</td>\n",
       "      <td>225</td>\n",
       "      <td>6.662311</td>\n",
       "      <td>3.727243</td>\n",
       "    </tr>\n",
       "    <tr>\n",
       "      <th>6</th>\n",
       "      <td>6</td>\n",
       "      <td>Nasz Dziennik</td>\n",
       "      <td>[Dawid, Kubacki, wygrać]</td>\n",
       "      <td>444</td>\n",
       "      <td>7.516913</td>\n",
       "      <td>3.923543</td>\n",
       "    </tr>\n",
       "    <tr>\n",
       "      <th>7</th>\n",
       "      <td>7</td>\n",
       "      <td>Nasz Dziennik</td>\n",
       "      <td>[od, sobota, pasażer]</td>\n",
       "      <td>353</td>\n",
       "      <td>7.150304</td>\n",
       "      <td>3.982442</td>\n",
       "    </tr>\n",
       "    <tr>\n",
       "      <th>8</th>\n",
       "      <td>8</td>\n",
       "      <td>Nasz Dziennik</td>\n",
       "      <td>[rozmowa, z, Paweł]</td>\n",
       "      <td>1047</td>\n",
       "      <td>8.308044</td>\n",
       "      <td>4.262975</td>\n",
       "    </tr>\n",
       "    <tr>\n",
       "      <th>9</th>\n",
       "      <td>9</td>\n",
       "      <td>Nasz Dziennik</td>\n",
       "      <td>[hołd, powstańca, wielkopolski]</td>\n",
       "      <td>743</td>\n",
       "      <td>8.164494</td>\n",
       "      <td>4.669163</td>\n",
       "    </tr>\n",
       "  </tbody>\n",
       "</table>\n",
       "</div>"
      ],
      "text/plain": [
       "   Numer artykułu   Nazwa gazety                  Pierwsze lematy  \\\n",
       "0               0  Nasz Dziennik            [od, poniedziałek, w]   \n",
       "1               1  Nasz Dziennik              [list, otwarty, do]   \n",
       "2               2  Nasz Dziennik            [obraz, Jan, Matejka]   \n",
       "3               3  Nasz Dziennik           [osoba, chcący, wziąć]   \n",
       "4               4  Nasz Dziennik    [Poznański, rodzic, apelować]   \n",
       "5               5  Nasz Dziennik         [policjant, wspólnie, z]   \n",
       "6               6  Nasz Dziennik         [Dawid, Kubacki, wygrać]   \n",
       "7               7  Nasz Dziennik            [od, sobota, pasażer]   \n",
       "8               8  Nasz Dziennik              [rozmowa, z, Paweł]   \n",
       "9               9  Nasz Dziennik  [hołd, powstańca, wielkopolski]   \n",
       "\n",
       "   Ilość tokenów  Entropia  Wskaźnik entropii  \n",
       "0             55  5.412911           3.668929  \n",
       "1            630  7.889398           4.300787  \n",
       "2            165  6.728744           4.418111  \n",
       "3            167  6.711365           4.329092  \n",
       "4            356  7.322888           4.034794  \n",
       "5            225  6.662311           3.727243  \n",
       "6            444  7.516913           3.923543  \n",
       "7            353  7.150304           3.982442  \n",
       "8           1047  8.308044           4.262975  \n",
       "9            743  8.164494           4.669163  "
      ]
     },
     "execution_count": 10,
     "metadata": {},
     "output_type": "execute_result"
    }
   ],
   "source": [
    "df_nasz[:10]"
   ]
  },
  {
   "cell_type": "code",
   "execution_count": 11,
   "metadata": {
    "lines_to_end_of_cell_marker": 2
   },
   "outputs": [],
   "source": [
    "dir_ = \"teksty/gazeta_wyborcza/all_articles/\"\n",
    "paper_name = \"Gazeta Wyborcza\"\n",
    "articles_amount = 48 #48\n",
    "\n",
    "list_gw = whole_preprocess_entrpy_entrate(dir_, articles_amount, paper_name)"
   ]
  },
  {
   "cell_type": "code",
   "execution_count": 12,
   "metadata": {},
   "outputs": [],
   "source": [
    "df_gw = pd.DataFrame(list_gw, columns = [\"Numer artykułu\", \"Nazwa gazety\", \"Pierwsze lematy\", \"Ilość tokenów\", \"Entropia\", \"Wskaźnik entropii\"])"
   ]
  },
  {
   "cell_type": "code",
   "execution_count": 13,
   "metadata": {},
   "outputs": [
    {
     "data": {
      "text/html": [
       "<div>\n",
       "<style scoped>\n",
       "    .dataframe tbody tr th:only-of-type {\n",
       "        vertical-align: middle;\n",
       "    }\n",
       "\n",
       "    .dataframe tbody tr th {\n",
       "        vertical-align: top;\n",
       "    }\n",
       "\n",
       "    .dataframe thead th {\n",
       "        text-align: right;\n",
       "    }\n",
       "</style>\n",
       "<table border=\"1\" class=\"dataframe\">\n",
       "  <thead>\n",
       "    <tr style=\"text-align: right;\">\n",
       "      <th></th>\n",
       "      <th>Numer artykułu</th>\n",
       "      <th>Nazwa gazety</th>\n",
       "      <th>Pierwsze lematy</th>\n",
       "      <th>Ilość tokenów</th>\n",
       "      <th>Entropia</th>\n",
       "      <th>Wskaźnik entropii</th>\n",
       "    </tr>\n",
       "  </thead>\n",
       "  <tbody>\n",
       "    <tr>\n",
       "      <th>0</th>\n",
       "      <td>0</td>\n",
       "      <td>Gazeta Wyborcza</td>\n",
       "      <td>[z, początek, styczeń]</td>\n",
       "      <td>813</td>\n",
       "      <td>7.908418</td>\n",
       "      <td>3.942110</td>\n",
       "    </tr>\n",
       "    <tr>\n",
       "      <th>1</th>\n",
       "      <td>1</td>\n",
       "      <td>Gazeta Wyborcza</td>\n",
       "      <td>[MEN, zapowiadać, projekt]</td>\n",
       "      <td>992</td>\n",
       "      <td>8.178622</td>\n",
       "      <td>4.155583</td>\n",
       "    </tr>\n",
       "    <tr>\n",
       "      <th>2</th>\n",
       "      <td>2</td>\n",
       "      <td>Gazeta Wyborcza</td>\n",
       "      <td>[Małżeństwo, z, Sulechowo]</td>\n",
       "      <td>108</td>\n",
       "      <td>5.975823</td>\n",
       "      <td>3.476328</td>\n",
       "    </tr>\n",
       "    <tr>\n",
       "      <th>3</th>\n",
       "      <td>3</td>\n",
       "      <td>Gazeta Wyborcza</td>\n",
       "      <td>[4, grudzień, kobieta]</td>\n",
       "      <td>146</td>\n",
       "      <td>6.399236</td>\n",
       "      <td>3.922042</td>\n",
       "    </tr>\n",
       "    <tr>\n",
       "      <th>4</th>\n",
       "      <td>4</td>\n",
       "      <td>Gazeta Wyborcza</td>\n",
       "      <td>[Prawnik, z, urząd]</td>\n",
       "      <td>353</td>\n",
       "      <td>7.206140</td>\n",
       "      <td>3.875482</td>\n",
       "    </tr>\n",
       "    <tr>\n",
       "      <th>5</th>\n",
       "      <td>5</td>\n",
       "      <td>Gazeta Wyborcza</td>\n",
       "      <td>[Kulis, wybór, Marek]</td>\n",
       "      <td>425</td>\n",
       "      <td>7.373707</td>\n",
       "      <td>4.005727</td>\n",
       "    </tr>\n",
       "    <tr>\n",
       "      <th>6</th>\n",
       "      <td>6</td>\n",
       "      <td>Gazeta Wyborcza</td>\n",
       "      <td>[Urzędujący, prezydent, pracowicie]</td>\n",
       "      <td>737</td>\n",
       "      <td>7.898266</td>\n",
       "      <td>4.015601</td>\n",
       "    </tr>\n",
       "    <tr>\n",
       "      <th>7</th>\n",
       "      <td>7</td>\n",
       "      <td>Gazeta Wyborcza</td>\n",
       "      <td>[prezydent, Andrzej, Duda]</td>\n",
       "      <td>337</td>\n",
       "      <td>7.433620</td>\n",
       "      <td>4.359508</td>\n",
       "    </tr>\n",
       "    <tr>\n",
       "      <th>8</th>\n",
       "      <td>8</td>\n",
       "      <td>Gazeta Wyborcza</td>\n",
       "      <td>[Donald, Tusk, nie]</td>\n",
       "      <td>1197</td>\n",
       "      <td>8.574221</td>\n",
       "      <td>4.850723</td>\n",
       "    </tr>\n",
       "    <tr>\n",
       "      <th>9</th>\n",
       "      <td>9</td>\n",
       "      <td>Gazeta Wyborcza</td>\n",
       "      <td>[Martin, Vizcarr, rozpisować]</td>\n",
       "      <td>668</td>\n",
       "      <td>7.994052</td>\n",
       "      <td>4.307458</td>\n",
       "    </tr>\n",
       "  </tbody>\n",
       "</table>\n",
       "</div>"
      ],
      "text/plain": [
       "   Numer artykułu     Nazwa gazety                      Pierwsze lematy  \\\n",
       "0               0  Gazeta Wyborcza               [z, początek, styczeń]   \n",
       "1               1  Gazeta Wyborcza           [MEN, zapowiadać, projekt]   \n",
       "2               2  Gazeta Wyborcza           [Małżeństwo, z, Sulechowo]   \n",
       "3               3  Gazeta Wyborcza               [4, grudzień, kobieta]   \n",
       "4               4  Gazeta Wyborcza                  [Prawnik, z, urząd]   \n",
       "5               5  Gazeta Wyborcza                [Kulis, wybór, Marek]   \n",
       "6               6  Gazeta Wyborcza  [Urzędujący, prezydent, pracowicie]   \n",
       "7               7  Gazeta Wyborcza           [prezydent, Andrzej, Duda]   \n",
       "8               8  Gazeta Wyborcza                  [Donald, Tusk, nie]   \n",
       "9               9  Gazeta Wyborcza        [Martin, Vizcarr, rozpisować]   \n",
       "\n",
       "   Ilość tokenów  Entropia  Wskaźnik entropii  \n",
       "0            813  7.908418           3.942110  \n",
       "1            992  8.178622           4.155583  \n",
       "2            108  5.975823           3.476328  \n",
       "3            146  6.399236           3.922042  \n",
       "4            353  7.206140           3.875482  \n",
       "5            425  7.373707           4.005727  \n",
       "6            737  7.898266           4.015601  \n",
       "7            337  7.433620           4.359508  \n",
       "8           1197  8.574221           4.850723  \n",
       "9            668  7.994052           4.307458  "
      ]
     },
     "execution_count": 13,
     "metadata": {},
     "output_type": "execute_result"
    }
   ],
   "source": [
    "df_gw[:10]"
   ]
  },
  {
   "cell_type": "code",
   "execution_count": 14,
   "metadata": {},
   "outputs": [],
   "source": [
    "# liczenie średniej entropi dla wszystkich artykułów w gazecie"
   ]
  },
  {
   "cell_type": "code",
   "execution_count": 15,
   "metadata": {},
   "outputs": [],
   "source": [
    "enntropy_mean_nd = df_nasz.loc[:,\"Entropia\"].mean()"
   ]
  },
  {
   "cell_type": "code",
   "execution_count": 16,
   "metadata": {},
   "outputs": [],
   "source": [
    "enntropy_mean_gw = df_gw.loc[:,\"Entropia\"].mean()"
   ]
  },
  {
   "cell_type": "code",
   "execution_count": 17,
   "metadata": {},
   "outputs": [],
   "source": [
    "# liczenie średniego wskaźnika entropi dla wszystkich artykułów w gazecie"
   ]
  },
  {
   "cell_type": "code",
   "execution_count": 18,
   "metadata": {},
   "outputs": [],
   "source": [
    "enntropy_rate_mean_nd = df_nasz.loc[:,\"Wskaźnik entropii\"].mean()\n",
    "enntropy_rate_mean_gw = df_gw.loc[:,\"Wskaźnik entropii\"].mean()"
   ]
  },
  {
   "cell_type": "code",
   "execution_count": null,
   "metadata": {},
   "outputs": [],
   "source": []
  },
  {
   "cell_type": "code",
   "execution_count": 19,
   "metadata": {},
   "outputs": [],
   "source": [
    "l_ent_nd = [\"Nasz Dziennik\", enntropy_mean_nd, enntropy_rate_mean_nd]\n",
    "l_ent_gw = [\"Gazeta Wyborcza\", enntropy_mean_gw, enntropy_rate_mean_gw]\n",
    "l_ent_mean = [l_ent_nd, l_ent_gw]"
   ]
  },
  {
   "cell_type": "code",
   "execution_count": 20,
   "metadata": {},
   "outputs": [
    {
     "data": {
      "text/plain": [
       "[['Nasz Dziennik', 7.2240226455326795, 3.9450093860061015],\n",
       " ['Gazeta Wyborcza', 7.310297838902798, 4.149139039107891]]"
      ]
     },
     "execution_count": 20,
     "metadata": {},
     "output_type": "execute_result"
    }
   ],
   "source": [
    "l_ent_mean"
   ]
  },
  {
   "cell_type": "code",
   "execution_count": 21,
   "metadata": {},
   "outputs": [],
   "source": [
    "df_mean = pd.DataFrame(l_ent_mean, columns = [\"Nazwa Gazety\", \"Średnia Entopia\", \"Wskaźnik entropii\"])"
   ]
  },
  {
   "cell_type": "code",
   "execution_count": 22,
   "metadata": {},
   "outputs": [
    {
     "data": {
      "text/html": [
       "<div>\n",
       "<style scoped>\n",
       "    .dataframe tbody tr th:only-of-type {\n",
       "        vertical-align: middle;\n",
       "    }\n",
       "\n",
       "    .dataframe tbody tr th {\n",
       "        vertical-align: top;\n",
       "    }\n",
       "\n",
       "    .dataframe thead th {\n",
       "        text-align: right;\n",
       "    }\n",
       "</style>\n",
       "<table border=\"1\" class=\"dataframe\">\n",
       "  <thead>\n",
       "    <tr style=\"text-align: right;\">\n",
       "      <th></th>\n",
       "      <th>Nazwa Gazety</th>\n",
       "      <th>Średnia Entopia</th>\n",
       "      <th>Wskaźnik entropii</th>\n",
       "    </tr>\n",
       "  </thead>\n",
       "  <tbody>\n",
       "    <tr>\n",
       "      <th>0</th>\n",
       "      <td>Nasz Dziennik</td>\n",
       "      <td>7.224023</td>\n",
       "      <td>3.945009</td>\n",
       "    </tr>\n",
       "    <tr>\n",
       "      <th>1</th>\n",
       "      <td>Gazeta Wyborcza</td>\n",
       "      <td>7.310298</td>\n",
       "      <td>4.149139</td>\n",
       "    </tr>\n",
       "  </tbody>\n",
       "</table>\n",
       "</div>"
      ],
      "text/plain": [
       "      Nazwa Gazety  Średnia Entopia  Wskaźnik entropii\n",
       "0    Nasz Dziennik         7.224023           3.945009\n",
       "1  Gazeta Wyborcza         7.310298           4.149139"
      ]
     },
     "execution_count": 22,
     "metadata": {},
     "output_type": "execute_result"
    }
   ],
   "source": [
    "df_mean"
   ]
  },
  {
   "cell_type": "code",
   "execution_count": 25,
   "metadata": {},
   "outputs": [
    {
     "data": {
      "image/png": "[encoded data removed]",
      "text/plain": [
       "<Figure size 432x288 with 1 Axes>"
      ]
     },
     "metadata": {
      "needs_background": "light"
     },
     "output_type": "display_data"
    }
   ],
   "source": [
    "fig, ax = plt.subplots()\n",
    "\n",
    "# hide axes\n",
    "fig.patch.set_visible(False)\n",
    "ax.axis('off')\n",
    "ax.axis('tight')\n",
    "\n",
    "ax.table(cellText=df_mean.values, colLabels=df_mean.columns, loc='center')\n",
    "\n",
    "fig.tight_layout()\n",
    "plt.savefig('entropy_papers.png')\n",
    "plt.show()"
   ]
  },
  {
   "cell_type": "code",
   "execution_count": 26,
   "metadata": {},
   "outputs": [],
   "source": [
    "# plt.plot(df_nasz.loc[:,\"Ilość tokenów\"], df_nasz.loc[:,\"Entropia\"])"
   ]
  },
  {
   "cell_type": "code",
   "execution_count": 27,
   "metadata": {},
   "outputs": [],
   "source": [
    "# p1, = host.plot(df_nasz.loc[:,\"Ilość tokenów\"], df_nasz.loc[:,\"Entropia\"], \"b-\", label=\"Nasz Dziennik\")\n",
    "# p2, = par1.plot(df_gw.loc[:,\"Ilość tokenów\"], df_gw.loc[:,\"Entropia\"], \"b-\", label=\"Gazeta Wyborcza\")"
   ]
  },
  {
   "cell_type": "code",
   "execution_count": 28,
   "metadata": {},
   "outputs": [],
   "source": [
    "# plt.plot(df_nasz.loc[:,\"Ilość tokenów\"].sort_values(by=['Ilość tokenów'], df_nasz.loc[:,\"Entropia\"], 'r--', df_gw.loc[:,\"Ilość tokenów\"], df_gw.loc[:,\"Entropia\"], 'bs-')\n",
    "# plt.show()"
   ]
  },
  {
   "cell_type": "code",
   "execution_count": 29,
   "metadata": {},
   "outputs": [],
   "source": [
    "# df_nasz.sort_values(by=['Ilość tokenów']).loc[:,\"Ilość tokenów\"]"
   ]
  },
  {
   "cell_type": "code",
   "execution_count": 30,
   "metadata": {},
   "outputs": [],
   "source": [
    "# df_nasz.sort_values(by=['Ilość tokenów']).loc[:,\"Entropia\"]"
   ]
  },
  {
   "cell_type": "code",
   "execution_count": 31,
   "metadata": {},
   "outputs": [],
   "source": [
    "# Sortowanie DF po ilości tokenów"
   ]
  },
  {
   "cell_type": "code",
   "execution_count": 44,
   "metadata": {},
   "outputs": [
    {
     "data": {
      "text/html": [
       "<div>\n",
       "<style scoped>\n",
       "    .dataframe tbody tr th:only-of-type {\n",
       "        vertical-align: middle;\n",
       "    }\n",
       "\n",
       "    .dataframe tbody tr th {\n",
       "        vertical-align: top;\n",
       "    }\n",
       "\n",
       "    .dataframe thead th {\n",
       "        text-align: right;\n",
       "    }\n",
       "</style>\n",
       "<table border=\"1\" class=\"dataframe\">\n",
       "  <thead>\n",
       "    <tr style=\"text-align: right;\">\n",
       "      <th></th>\n",
       "      <th>Numer artykułu</th>\n",
       "      <th>Nazwa gazety</th>\n",
       "      <th>Pierwsze lematy</th>\n",
       "      <th>Ilość tokenów</th>\n",
       "      <th>Entropia</th>\n",
       "      <th>Wskaźnik entropii</th>\n",
       "    </tr>\n",
       "  </thead>\n",
       "  <tbody>\n",
       "    <tr>\n",
       "      <th>16</th>\n",
       "      <td>16</td>\n",
       "      <td>Gazeta Wyborcza</td>\n",
       "      <td>[przed, główny, uroczystość]</td>\n",
       "      <td>60</td>\n",
       "      <td>5.131402</td>\n",
       "      <td>2.945861</td>\n",
       "    </tr>\n",
       "    <tr>\n",
       "      <th>22</th>\n",
       "      <td>22</td>\n",
       "      <td>Gazeta Wyborcza</td>\n",
       "      <td>[w, piątek, Andrzej]</td>\n",
       "      <td>96</td>\n",
       "      <td>5.858145</td>\n",
       "      <td>3.637378</td>\n",
       "    </tr>\n",
       "    <tr>\n",
       "      <th>12</th>\n",
       "      <td>12</td>\n",
       "      <td>Gazeta Wyborcza</td>\n",
       "      <td>[wybory, prezydencki, 2020]</td>\n",
       "      <td>98</td>\n",
       "      <td>6.030177</td>\n",
       "      <td>3.899521</td>\n",
       "    </tr>\n",
       "    <tr>\n",
       "      <th>2</th>\n",
       "      <td>2</td>\n",
       "      <td>Gazeta Wyborcza</td>\n",
       "      <td>[Małżeństwo, z, Sulechowo]</td>\n",
       "      <td>108</td>\n",
       "      <td>5.975823</td>\n",
       "      <td>3.476328</td>\n",
       "    </tr>\n",
       "    <tr>\n",
       "      <th>17</th>\n",
       "      <td>17</td>\n",
       "      <td>Gazeta Wyborcza</td>\n",
       "      <td>[Główny, brama, obóz]</td>\n",
       "      <td>133</td>\n",
       "      <td>5.946381</td>\n",
       "      <td>2.996333</td>\n",
       "    </tr>\n",
       "    <tr>\n",
       "      <th>23</th>\n",
       "      <td>23</td>\n",
       "      <td>Gazeta Wyborcza</td>\n",
       "      <td>[raz, jeszcze, mieszkaniec]</td>\n",
       "      <td>139</td>\n",
       "      <td>6.294708</td>\n",
       "      <td>3.853131</td>\n",
       "    </tr>\n",
       "    <tr>\n",
       "      <th>41</th>\n",
       "      <td>41</td>\n",
       "      <td>Gazeta Wyborcza</td>\n",
       "      <td>[bank, zdjęcie, ilustracyjny]</td>\n",
       "      <td>140</td>\n",
       "      <td>6.485433</td>\n",
       "      <td>4.014450</td>\n",
       "    </tr>\n",
       "    <tr>\n",
       "      <th>3</th>\n",
       "      <td>3</td>\n",
       "      <td>Gazeta Wyborcza</td>\n",
       "      <td>[4, grudzień, kobieta]</td>\n",
       "      <td>146</td>\n",
       "      <td>6.399236</td>\n",
       "      <td>3.922042</td>\n",
       "    </tr>\n",
       "    <tr>\n",
       "      <th>31</th>\n",
       "      <td>31</td>\n",
       "      <td>Gazeta Wyborcza</td>\n",
       "      <td>[Zaćmienie, Księżyc, 2018]</td>\n",
       "      <td>153</td>\n",
       "      <td>6.490067</td>\n",
       "      <td>3.921907</td>\n",
       "    </tr>\n",
       "    <tr>\n",
       "      <th>20</th>\n",
       "      <td>20</td>\n",
       "      <td>Gazeta Wyborcza</td>\n",
       "      <td>[Małgorzata, KidawaBłońska, i]</td>\n",
       "      <td>170</td>\n",
       "      <td>6.667549</td>\n",
       "      <td>4.120199</td>\n",
       "    </tr>\n",
       "  </tbody>\n",
       "</table>\n",
       "</div>"
      ],
      "text/plain": [
       "    Numer artykułu     Nazwa gazety                 Pierwsze lematy  \\\n",
       "16              16  Gazeta Wyborcza    [przed, główny, uroczystość]   \n",
       "22              22  Gazeta Wyborcza            [w, piątek, Andrzej]   \n",
       "12              12  Gazeta Wyborcza     [wybory, prezydencki, 2020]   \n",
       "2                2  Gazeta Wyborcza      [Małżeństwo, z, Sulechowo]   \n",
       "17              17  Gazeta Wyborcza           [Główny, brama, obóz]   \n",
       "23              23  Gazeta Wyborcza     [raz, jeszcze, mieszkaniec]   \n",
       "41              41  Gazeta Wyborcza   [bank, zdjęcie, ilustracyjny]   \n",
       "3                3  Gazeta Wyborcza          [4, grudzień, kobieta]   \n",
       "31              31  Gazeta Wyborcza      [Zaćmienie, Księżyc, 2018]   \n",
       "20              20  Gazeta Wyborcza  [Małgorzata, KidawaBłońska, i]   \n",
       "\n",
       "    Ilość tokenów  Entropia  Wskaźnik entropii  \n",
       "16             60  5.131402           2.945861  \n",
       "22             96  5.858145           3.637378  \n",
       "12             98  6.030177           3.899521  \n",
       "2             108  5.975823           3.476328  \n",
       "17            133  5.946381           2.996333  \n",
       "23            139  6.294708           3.853131  \n",
       "41            140  6.485433           4.014450  \n",
       "3             146  6.399236           3.922042  \n",
       "31            153  6.490067           3.921907  \n",
       "20            170  6.667549           4.120199  "
      ]
     },
     "execution_count": 44,
     "metadata": {},
     "output_type": "execute_result"
    }
   ],
   "source": [
    "df_gw_tokens = df_gw.sort_values(by=['Ilość tokenów'])\n",
    "df_gw_tokens[:10]"
   ]
  },
  {
   "cell_type": "code",
   "execution_count": 33,
   "metadata": {},
   "outputs": [
    {
     "data": {
      "text/html": [
       "<div>\n",
       "<style scoped>\n",
       "    .dataframe tbody tr th:only-of-type {\n",
       "        vertical-align: middle;\n",
       "    }\n",
       "\n",
       "    .dataframe tbody tr th {\n",
       "        vertical-align: top;\n",
       "    }\n",
       "\n",
       "    .dataframe thead th {\n",
       "        text-align: right;\n",
       "    }\n",
       "</style>\n",
       "<table border=\"1\" class=\"dataframe\">\n",
       "  <thead>\n",
       "    <tr style=\"text-align: right;\">\n",
       "      <th></th>\n",
       "      <th>Numer artykułu</th>\n",
       "      <th>Nazwa gazety</th>\n",
       "      <th>Pierwsze lematy</th>\n",
       "      <th>Ilość tokenów</th>\n",
       "      <th>Entropia</th>\n",
       "      <th>Wskaźnik entropii</th>\n",
       "    </tr>\n",
       "  </thead>\n",
       "  <tbody>\n",
       "    <tr>\n",
       "      <th>0</th>\n",
       "      <td>0</td>\n",
       "      <td>Nasz Dziennik</td>\n",
       "      <td>[od, poniedziałek, w]</td>\n",
       "      <td>55</td>\n",
       "      <td>5.412911</td>\n",
       "      <td>3.668929</td>\n",
       "    </tr>\n",
       "    <tr>\n",
       "      <th>13</th>\n",
       "      <td>13</td>\n",
       "      <td>Nasz Dziennik</td>\n",
       "      <td>[prezydent, Andrzej, Duda]</td>\n",
       "      <td>98</td>\n",
       "      <td>5.818392</td>\n",
       "      <td>3.417601</td>\n",
       "    </tr>\n",
       "    <tr>\n",
       "      <th>50</th>\n",
       "      <td>50</td>\n",
       "      <td>Nasz Dziennik</td>\n",
       "      <td>[Czeski, służba, weterynaryjny]</td>\n",
       "      <td>120</td>\n",
       "      <td>6.284632</td>\n",
       "      <td>3.994448</td>\n",
       "    </tr>\n",
       "    <tr>\n",
       "      <th>33</th>\n",
       "      <td>33</td>\n",
       "      <td>Nasz Dziennik</td>\n",
       "      <td>[Izrael, zrobić, wielki]</td>\n",
       "      <td>129</td>\n",
       "      <td>6.259338</td>\n",
       "      <td>3.802523</td>\n",
       "    </tr>\n",
       "    <tr>\n",
       "      <th>11</th>\n",
       "      <td>11</td>\n",
       "      <td>Nasz Dziennik</td>\n",
       "      <td>[prezydent, Andrzej, Duda]</td>\n",
       "      <td>140</td>\n",
       "      <td>6.136471</td>\n",
       "      <td>3.547759</td>\n",
       "    </tr>\n",
       "    <tr>\n",
       "      <th>18</th>\n",
       "      <td>18</td>\n",
       "      <td>Nasz Dziennik</td>\n",
       "      <td>[od, 30, do]</td>\n",
       "      <td>145</td>\n",
       "      <td>6.454678</td>\n",
       "      <td>4.245372</td>\n",
       "    </tr>\n",
       "    <tr>\n",
       "      <th>12</th>\n",
       "      <td>12</td>\n",
       "      <td>Nasz Dziennik</td>\n",
       "      <td>[Syryjski, siła, rządowy]</td>\n",
       "      <td>149</td>\n",
       "      <td>6.233613</td>\n",
       "      <td>3.609379</td>\n",
       "    </tr>\n",
       "    <tr>\n",
       "      <th>2</th>\n",
       "      <td>2</td>\n",
       "      <td>Nasz Dziennik</td>\n",
       "      <td>[obraz, Jan, Matejka]</td>\n",
       "      <td>165</td>\n",
       "      <td>6.728744</td>\n",
       "      <td>4.418111</td>\n",
       "    </tr>\n",
       "    <tr>\n",
       "      <th>3</th>\n",
       "      <td>3</td>\n",
       "      <td>Nasz Dziennik</td>\n",
       "      <td>[osoba, chcący, wziąć]</td>\n",
       "      <td>167</td>\n",
       "      <td>6.711365</td>\n",
       "      <td>4.329092</td>\n",
       "    </tr>\n",
       "    <tr>\n",
       "      <th>49</th>\n",
       "      <td>49</td>\n",
       "      <td>Nasz Dziennik</td>\n",
       "      <td>[Ukraina, zgłosić, pojawienie]</td>\n",
       "      <td>180</td>\n",
       "      <td>6.507228</td>\n",
       "      <td>3.832402</td>\n",
       "    </tr>\n",
       "  </tbody>\n",
       "</table>\n",
       "</div>"
      ],
      "text/plain": [
       "    Numer artykułu   Nazwa gazety                  Pierwsze lematy  \\\n",
       "0                0  Nasz Dziennik            [od, poniedziałek, w]   \n",
       "13              13  Nasz Dziennik       [prezydent, Andrzej, Duda]   \n",
       "50              50  Nasz Dziennik  [Czeski, służba, weterynaryjny]   \n",
       "33              33  Nasz Dziennik         [Izrael, zrobić, wielki]   \n",
       "11              11  Nasz Dziennik       [prezydent, Andrzej, Duda]   \n",
       "18              18  Nasz Dziennik                     [od, 30, do]   \n",
       "12              12  Nasz Dziennik        [Syryjski, siła, rządowy]   \n",
       "2                2  Nasz Dziennik            [obraz, Jan, Matejka]   \n",
       "3                3  Nasz Dziennik           [osoba, chcący, wziąć]   \n",
       "49              49  Nasz Dziennik   [Ukraina, zgłosić, pojawienie]   \n",
       "\n",
       "    Ilość tokenów  Entropia  Wskaźnik entropii  \n",
       "0              55  5.412911           3.668929  \n",
       "13             98  5.818392           3.417601  \n",
       "50            120  6.284632           3.994448  \n",
       "33            129  6.259338           3.802523  \n",
       "11            140  6.136471           3.547759  \n",
       "18            145  6.454678           4.245372  \n",
       "12            149  6.233613           3.609379  \n",
       "2             165  6.728744           4.418111  \n",
       "3             167  6.711365           4.329092  \n",
       "49            180  6.507228           3.832402  "
      ]
     },
     "execution_count": 33,
     "metadata": {},
     "output_type": "execute_result"
    }
   ],
   "source": [
    "df_nd_tokens = df_nasz.sort_values(by=['Ilość tokenów'])\n",
    "df_nd_tokens[:10]"
   ]
  },
  {
   "cell_type": "code",
   "execution_count": 34,
   "metadata": {},
   "outputs": [],
   "source": [
    "# df_gw_tokens[\"Entropia\"]"
   ]
  },
  {
   "cell_type": "code",
   "execution_count": 35,
   "metadata": {},
   "outputs": [],
   "source": [
    "# Wykres, gdzie osią x jest ilość słów a osią y entropia\n",
    "# niebieski to GW\n",
    "# czerwony to ND"
   ]
  },
  {
   "cell_type": "code",
   "execution_count": 55,
   "metadata": {},
   "outputs": [
    {
     "data": {
      "image/png": "[encoded data removed]",
      "text/plain": [
       "<Figure size 432x288 with 1 Axes>"
      ]
     },
     "metadata": {
      "needs_background": "light"
     },
     "output_type": "display_data"
    }
   ],
   "source": [
    "plt.plot(df_nd_tokens.loc[:,\"Ilość tokenów\"], df_nd_tokens.loc[:,\"Entropia\"], 'r-', df_gw_tokens.loc[:,\"Ilość tokenów\"], df_gw_tokens.loc[:,\"Entropia\"], 'b-')\n",
    "plt.title(\"Porównanie entropii(oś y) obu gazet w stosunku do ilości tokenów(oś x)\", fontsize=12)\n",
    "# fig.suptitle('This is a somewhat long figure title', fontsize=16)\n",
    "plt.xlabel('Ilość Tokenów')\n",
    "plt.ylabel('Entropia')\n",
    "plt.savefig('tokens_entropy.png')\n",
    "plt.legend((\"Nasz dziennik\", \"Gazeta wyborcza\"), loc='lower right')\n",
    "plt.show()"
   ]
  },
  {
   "cell_type": "code",
   "execution_count": 58,
   "metadata": {},
   "outputs": [
    {
     "data": {
      "image/png": "[encoded data removed]",
      "text/plain": [
       "<Figure size 432x288 with 1 Axes>"
      ]
     },
     "metadata": {
      "needs_background": "light"
     },
     "output_type": "display_data"
    }
   ],
   "source": [
    "plt.plot(df_nd_tokens.loc[:,\"Ilość tokenów\"], df_nd_tokens.loc[:,\"Wskaźnik entropii\"], 'm-', df_gw_tokens.loc[:,\"Ilość tokenów\"], df_gw_tokens.loc[:,\"Wskaźnik entropii\"], 'g-')\n",
    "plt.title(\"Porównanie wzkaźnika entropii(y) obu gazet w stosunku do ilości tokenów(x)\", fontsize=11)\n",
    "# fig.suptitle('This is a somewhat long figure title', fontsize=16)\n",
    "plt.xlabel('Ilość Tokenów')\n",
    "plt.ylabel('Wskaźnik entropii')\n",
    "plt.savefig('tokens_entropy_rate.png')\n",
    "plt.legend((\"Nasz dziennik\", \"Gazeta wyborcza\"), loc='lower right')\n",
    "plt.show()"
   ]
  },
  {
   "cell_type": "code",
   "execution_count": null,
   "metadata": {},
   "outputs": [],
   "source": []
  },
  {
   "cell_type": "code",
   "execution_count": null,
   "metadata": {},
   "outputs": [],
   "source": []
  },
  {
   "cell_type": "code",
   "execution_count": null,
   "metadata": {},
   "outputs": [],
   "source": []
  },
  {
   "cell_type": "code",
   "execution_count": 63,
   "metadata": {},
   "outputs": [
    {
     "data": {
      "image/png": "[encoded data removed]",
      "text/plain": [
       "<Figure size 432x288 with 1 Axes>"
      ]
     },
     "metadata": {
      "needs_background": "light"
     },
     "output_type": "display_data"
    }
   ],
   "source": [
    "# plt.plot(df_nd_tokens.loc[:,\"Entropia\"], df_nd_tokens.loc[:,\"Wskaźnik entropii\"], 'ro')\n",
    "plt.title(\"Regresja linowa wskaźnika entropii (y) względem entropii(x) dla Naszego Dziennika\", fontsize=10)\n",
    "# fig.suptitle('This is a somewhat long figure title', fontsize=16)\n",
    "plt.xlabel('Entropia')\n",
    "plt.ylabel('Wskaźnik entropii')\n",
    "\n",
    "# plt.legend((\"Entropia\", \"Wskaźnik entropii\"), loc='lower right')\n",
    "# plt.show()\n",
    "\n",
    "X = df_nd_tokens[\"Entropia\"].values.reshape(-1, 1)\n",
    "Y = df_nd_tokens[\"Wskaźnik entropii\"]\n",
    "linear_regressor = LinearRegression()\n",
    "linear_regressor.fit(X, Y)\n",
    "Y_pred = linear_regressor.predict(X)\n",
    "\n",
    "plt.scatter(X, Y)\n",
    "plt.plot(X, Y_pred, color='red')\n",
    "\n",
    "plt.savefig('entropy_entrate_ND.png')\n",
    "plt.show()"
   ]
  },
  {
   "cell_type": "code",
   "execution_count": null,
   "metadata": {},
   "outputs": [],
   "source": []
  },
  {
   "cell_type": "code",
   "execution_count": 64,
   "metadata": {},
   "outputs": [
    {
     "data": {
      "image/png": "[encoded data removed]",
      "text/plain": [
       "<Figure size 432x288 with 1 Axes>"
      ]
     },
     "metadata": {
      "needs_background": "light"
     },
     "output_type": "display_data"
    }
   ],
   "source": [
    "# plt.plot(df_nd_tokens.loc[:,\"Entropia\"], df_nd_tokens.loc[:,\"Wskaźnik entropii\"], 'ro')\n",
    "plt.title(\"Regresja linowa wskaźnika entropii (y) względem entropii(x) dla Gazety Wyborczej\", fontsize=11)\n",
    "# fig.suptitle('This is a somewhat long figure title', fontsize=16)\n",
    "plt.xlabel('Entropia')\n",
    "plt.ylabel('Wskaźnik entropii')\n",
    "\n",
    "# plt.legend((\"Entropia\", \"Wskaźnik entropii\"), loc='lower right')\n",
    "# plt.show()\n",
    "\n",
    "X = df_gw_tokens[\"Entropia\"].values.reshape(-1, 1)\n",
    "Y = df_gw_tokens[\"Wskaźnik entropii\"]\n",
    "linear_regressor = LinearRegression()\n",
    "linear_regressor.fit(X, Y)\n",
    "Y_pred = linear_regressor.predict(X)\n",
    "\n",
    "plt.scatter(X, Y)\n",
    "plt.plot(X, Y_pred, color='red')\n",
    "plt.savefig('entropy_entrate_GW.png')\n",
    "plt.show()"
   ]
  },
  {
   "cell_type": "code",
   "execution_count": null,
   "metadata": {},
   "outputs": [],
   "source": []
  },
  {
   "cell_type": "code",
   "execution_count": null,
   "metadata": {},
   "outputs": [],
   "source": []
  },
  {
   "cell_type": "code",
   "execution_count": null,
   "metadata": {},
   "outputs": [],
   "source": []
  },
  {
   "cell_type": "code",
   "execution_count": null,
   "metadata": {},
   "outputs": [],
   "source": []
  },
  {
   "cell_type": "code",
   "execution_count": null,
   "metadata": {},
   "outputs": [],
   "source": []
  }
 ],
 "metadata": {
  "jupytext": {
   "encoding": "# -*- coding: utf-8 -*-",
   "formats": "ipynb,py:light"
  },
  "kernelspec": {
   "display_name": "Python 3",
   "language": "python",
   "name": "python3"
  },
  "language_info": {
   "codemirror_mode": {
    "name": "ipython",
    "version": 3
   },
   "file_extension": ".py",
   "mimetype": "text/x-python",
   "name": "python",
   "nbconvert_exporter": "python",
   "pygments_lexer": "ipython3",
   "version": "3.8.1"
  }
 },
 "nbformat": 4,
 "nbformat_minor": 4
}
