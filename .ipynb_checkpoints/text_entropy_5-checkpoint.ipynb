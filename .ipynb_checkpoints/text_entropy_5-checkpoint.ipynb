{
 "cells": [
  {
   "cell_type": "code",
   "execution_count": 1,
   "metadata": {},
   "outputs": [],
   "source": [
    "import PreprocessText\n",
    "import EntropyCount"
   ]
  },
  {
   "cell_type": "code",
   "execution_count": 82,
   "metadata": {},
   "outputs": [],
   "source": [
    "from sklearn.linear_model import LinearRegression\n"
   ]
  },
  {
   "cell_type": "code",
   "execution_count": 2,
   "metadata": {},
   "outputs": [],
   "source": [
    "import pandas as pd\n",
    "import matplotlib.pyplot as plt"
   ]
  },
  {
   "cell_type": "code",
   "execution_count": 3,
   "metadata": {},
   "outputs": [],
   "source": [
    "# Preprocesing i liczenie entropi dla naszego dziennika"
   ]
  },
  {
   "cell_type": "code",
   "execution_count": 4,
   "metadata": {
    "lines_to_next_cell": 0
   },
   "outputs": [],
   "source": [
    "# def preprocess_paper(dir_, articles_amount, paper_name):\n",
    "    \n",
    "#     list_articles = []\n",
    "    \n",
    "#     for n in range(articles_amount):\n",
    "#         file = str(n) + \".txt\"\n",
    "\n",
    "#         prep = PreprocessText.whole_proces_polish(dir_, file)\n",
    "#         entropy, amount_tokens = EntropyCount.calculate_entropy_for_all_words(prep)\n",
    "\n",
    "#         list_this = []\n",
    "#         list_this.append(n)\n",
    "#         list_this.append(paper_name)\n",
    "#         list_this.append(prep[:3])\n",
    "#         list_this.append(amount_tokens)\n",
    "#         list_this.append(entropy)\n",
    "        \n",
    "#         list_articles.append(list_this)\n",
    "    \n",
    "#     return list_articles"
   ]
  },
  {
   "cell_type": "code",
   "execution_count": 5,
   "metadata": {
    "lines_to_next_cell": 2
   },
   "outputs": [],
   "source": [
    "def whole_preprocess_entrpy_entrate(dir_, articles_amount, paper_name):\n",
    "    list_articles = []\n",
    "\n",
    "    for n in range(articles_amount):\n",
    "        file = str(n) + \".txt\"\n",
    "\n",
    "        prep = PreprocessText.preprocess_article(dir_, file)\n",
    "        entropy, amount_tokens = EntropyCount.calculate_entropy_for_all_words(prep)\n",
    "        entropy_rate = EntropyCount.entropy_rate_calculate(prep)\n",
    "\n",
    "        list_this = []\n",
    "        list_this.append(n)\n",
    "        list_this.append(paper_name)\n",
    "        list_this.append(prep[:3])\n",
    "        list_this.append(amount_tokens)\n",
    "        list_this.append(entropy)\n",
    "        list_this.append(entropy_rate)\n",
    "\n",
    "        list_articles.append(list_this)\n",
    "        \n",
    "\n",
    "    return list_articles"
   ]
  },
  {
   "cell_type": "code",
   "execution_count": null,
   "metadata": {},
   "outputs": [],
   "source": []
  },
  {
   "cell_type": "code",
   "execution_count": 6,
   "metadata": {
    "lines_to_end_of_cell_marker": 2
   },
   "outputs": [],
   "source": [
    "dir_ = \"teksty/nasz_dziennik/all_articles/\"\n",
    "paper_name = \"Nasz Dziennik\"\n",
    "articles_amount = 5 #52\n",
    "\n",
    "list_nasz = whole_preprocess_entrpy_entrate(dir_, articles_amount, paper_name)"
   ]
  },
  {
   "cell_type": "code",
   "execution_count": 7,
   "metadata": {},
   "outputs": [
    {
     "data": {
      "text/plain": [
       "[[0,\n",
       "  'Nasz Dziennik',\n",
       "  ['od', 'poniedziałek', 'w'],\n",
       "  55,\n",
       "  5.41291130431574,\n",
       "  3.668929159476279],\n",
       " [1,\n",
       "  'Nasz Dziennik',\n",
       "  ['list', 'otwarty', 'do'],\n",
       "  630,\n",
       "  7.889397660544073,\n",
       "  4.300786702420664],\n",
       " [2,\n",
       "  'Nasz Dziennik',\n",
       "  ['obraz', 'Jan', 'Matejka'],\n",
       "  165,\n",
       "  6.728744278027398,\n",
       "  4.418111367495173],\n",
       " [3,\n",
       "  'Nasz Dziennik',\n",
       "  ['osoba', 'chcący', 'wziąć'],\n",
       "  167,\n",
       "  6.711364921590839,\n",
       "  4.329091822968895],\n",
       " [4,\n",
       "  'Nasz Dziennik',\n",
       "  ['Poznański', 'rodzic', 'apelować'],\n",
       "  356,\n",
       "  7.3228881270056965,\n",
       "  4.034793674333611]]"
      ]
     },
     "execution_count": 7,
     "metadata": {},
     "output_type": "execute_result"
    }
   ],
   "source": [
    "list_nasz[:5]"
   ]
  },
  {
   "cell_type": "code",
   "execution_count": 46,
   "metadata": {},
   "outputs": [],
   "source": [
    "df_nasz = pd.DataFrame(list_nasz, columns = [\"Numer artykułu\", \"Nazwa gazety\", \"Pierwsze lematy\", \"Ilość tokenów\", \"Entropia\", \"Wskaźnik entropii\"])"
   ]
  },
  {
   "cell_type": "code",
   "execution_count": 9,
   "metadata": {},
   "outputs": [
    {
     "data": {
      "text/html": [
       "<div>\n",
       "<style scoped>\n",
       "    .dataframe tbody tr th:only-of-type {\n",
       "        vertical-align: middle;\n",
       "    }\n",
       "\n",
       "    .dataframe tbody tr th {\n",
       "        vertical-align: top;\n",
       "    }\n",
       "\n",
       "    .dataframe thead th {\n",
       "        text-align: right;\n",
       "    }\n",
       "</style>\n",
       "<table border=\"1\" class=\"dataframe\">\n",
       "  <thead>\n",
       "    <tr style=\"text-align: right;\">\n",
       "      <th></th>\n",
       "      <th>Numer artykułu</th>\n",
       "      <th>Nazwa gazety</th>\n",
       "      <th>Pierwsze lematy</th>\n",
       "      <th>Ilość tokenów</th>\n",
       "      <th>Entropia</th>\n",
       "      <th>Wskaźnik entropi</th>\n",
       "    </tr>\n",
       "  </thead>\n",
       "  <tbody>\n",
       "    <tr>\n",
       "      <th>0</th>\n",
       "      <td>0</td>\n",
       "      <td>Nasz Dziennik</td>\n",
       "      <td>[od, poniedziałek, w]</td>\n",
       "      <td>55</td>\n",
       "      <td>5.412911</td>\n",
       "      <td>3.668929</td>\n",
       "    </tr>\n",
       "    <tr>\n",
       "      <th>1</th>\n",
       "      <td>1</td>\n",
       "      <td>Nasz Dziennik</td>\n",
       "      <td>[list, otwarty, do]</td>\n",
       "      <td>630</td>\n",
       "      <td>7.889398</td>\n",
       "      <td>4.300787</td>\n",
       "    </tr>\n",
       "    <tr>\n",
       "      <th>2</th>\n",
       "      <td>2</td>\n",
       "      <td>Nasz Dziennik</td>\n",
       "      <td>[obraz, Jan, Matejka]</td>\n",
       "      <td>165</td>\n",
       "      <td>6.728744</td>\n",
       "      <td>4.418111</td>\n",
       "    </tr>\n",
       "    <tr>\n",
       "      <th>3</th>\n",
       "      <td>3</td>\n",
       "      <td>Nasz Dziennik</td>\n",
       "      <td>[osoba, chcący, wziąć]</td>\n",
       "      <td>167</td>\n",
       "      <td>6.711365</td>\n",
       "      <td>4.329092</td>\n",
       "    </tr>\n",
       "    <tr>\n",
       "      <th>4</th>\n",
       "      <td>4</td>\n",
       "      <td>Nasz Dziennik</td>\n",
       "      <td>[Poznański, rodzic, apelować]</td>\n",
       "      <td>356</td>\n",
       "      <td>7.322888</td>\n",
       "      <td>4.034794</td>\n",
       "    </tr>\n",
       "  </tbody>\n",
       "</table>\n",
       "</div>"
      ],
      "text/plain": [
       "   Numer artykułu   Nazwa gazety                Pierwsze lematy  \\\n",
       "0               0  Nasz Dziennik          [od, poniedziałek, w]   \n",
       "1               1  Nasz Dziennik            [list, otwarty, do]   \n",
       "2               2  Nasz Dziennik          [obraz, Jan, Matejka]   \n",
       "3               3  Nasz Dziennik         [osoba, chcący, wziąć]   \n",
       "4               4  Nasz Dziennik  [Poznański, rodzic, apelować]   \n",
       "\n",
       "   Ilość tokenów  Entropia  Wskaźnik entropi  \n",
       "0             55  5.412911          3.668929  \n",
       "1            630  7.889398          4.300787  \n",
       "2            165  6.728744          4.418111  \n",
       "3            167  6.711365          4.329092  \n",
       "4            356  7.322888          4.034794  "
      ]
     },
     "execution_count": 9,
     "metadata": {},
     "output_type": "execute_result"
    }
   ],
   "source": [
    "df_nasz[:10]"
   ]
  },
  {
   "cell_type": "code",
   "execution_count": 10,
   "metadata": {
    "lines_to_end_of_cell_marker": 2
   },
   "outputs": [],
   "source": [
    "dir_ = \"teksty/gazeta_wyborcza/all_articles/\"\n",
    "paper_name = \"Gazeta Wyborcza\"\n",
    "articles_amount = 5 #48\n",
    "\n",
    "list_gw = whole_preprocess_entrpy_entrate(dir_, articles_amount, paper_name)"
   ]
  },
  {
   "cell_type": "code",
   "execution_count": 47,
   "metadata": {},
   "outputs": [],
   "source": [
    "df_gw = pd.DataFrame(list_gw, columns = [\"Numer artykułu\", \"Nazwa gazety\", \"Pierwsze lematy\", \"Ilość tokenów\", \"Entropia\", \"Wskaźnik entropii\"])"
   ]
  },
  {
   "cell_type": "code",
   "execution_count": 48,
   "metadata": {},
   "outputs": [
    {
     "data": {
      "text/html": [
       "<div>\n",
       "<style scoped>\n",
       "    .dataframe tbody tr th:only-of-type {\n",
       "        vertical-align: middle;\n",
       "    }\n",
       "\n",
       "    .dataframe tbody tr th {\n",
       "        vertical-align: top;\n",
       "    }\n",
       "\n",
       "    .dataframe thead th {\n",
       "        text-align: right;\n",
       "    }\n",
       "</style>\n",
       "<table border=\"1\" class=\"dataframe\">\n",
       "  <thead>\n",
       "    <tr style=\"text-align: right;\">\n",
       "      <th></th>\n",
       "      <th>Numer artykułu</th>\n",
       "      <th>Nazwa gazety</th>\n",
       "      <th>Pierwsze lematy</th>\n",
       "      <th>Ilość tokenów</th>\n",
       "      <th>Entropia</th>\n",
       "      <th>Wskaźnik entropii</th>\n",
       "    </tr>\n",
       "  </thead>\n",
       "  <tbody>\n",
       "    <tr>\n",
       "      <th>0</th>\n",
       "      <td>0</td>\n",
       "      <td>Gazeta Wyborcza</td>\n",
       "      <td>[z, początek, styczeń]</td>\n",
       "      <td>813</td>\n",
       "      <td>7.908418</td>\n",
       "      <td>3.942110</td>\n",
       "    </tr>\n",
       "    <tr>\n",
       "      <th>1</th>\n",
       "      <td>1</td>\n",
       "      <td>Gazeta Wyborcza</td>\n",
       "      <td>[MEN, zapowiadać, projekt]</td>\n",
       "      <td>992</td>\n",
       "      <td>8.178622</td>\n",
       "      <td>4.155583</td>\n",
       "    </tr>\n",
       "    <tr>\n",
       "      <th>2</th>\n",
       "      <td>2</td>\n",
       "      <td>Gazeta Wyborcza</td>\n",
       "      <td>[Małżeństwo, z, Sulechowo]</td>\n",
       "      <td>108</td>\n",
       "      <td>5.975823</td>\n",
       "      <td>3.476328</td>\n",
       "    </tr>\n",
       "    <tr>\n",
       "      <th>3</th>\n",
       "      <td>3</td>\n",
       "      <td>Gazeta Wyborcza</td>\n",
       "      <td>[4, grudzień, kobieta]</td>\n",
       "      <td>146</td>\n",
       "      <td>6.399236</td>\n",
       "      <td>3.922042</td>\n",
       "    </tr>\n",
       "    <tr>\n",
       "      <th>4</th>\n",
       "      <td>4</td>\n",
       "      <td>Gazeta Wyborcza</td>\n",
       "      <td>[Prawnik, z, urząd]</td>\n",
       "      <td>353</td>\n",
       "      <td>7.206140</td>\n",
       "      <td>3.875482</td>\n",
       "    </tr>\n",
       "  </tbody>\n",
       "</table>\n",
       "</div>"
      ],
      "text/plain": [
       "   Numer artykułu     Nazwa gazety             Pierwsze lematy  Ilość tokenów  \\\n",
       "0               0  Gazeta Wyborcza      [z, początek, styczeń]            813   \n",
       "1               1  Gazeta Wyborcza  [MEN, zapowiadać, projekt]            992   \n",
       "2               2  Gazeta Wyborcza  [Małżeństwo, z, Sulechowo]            108   \n",
       "3               3  Gazeta Wyborcza      [4, grudzień, kobieta]            146   \n",
       "4               4  Gazeta Wyborcza         [Prawnik, z, urząd]            353   \n",
       "\n",
       "   Entropia  Wskaźnik entropii  \n",
       "0  7.908418           3.942110  \n",
       "1  8.178622           4.155583  \n",
       "2  5.975823           3.476328  \n",
       "3  6.399236           3.922042  \n",
       "4  7.206140           3.875482  "
      ]
     },
     "execution_count": 48,
     "metadata": {},
     "output_type": "execute_result"
    }
   ],
   "source": [
    "df_gw[:10]"
   ]
  },
  {
   "cell_type": "code",
   "execution_count": 49,
   "metadata": {},
   "outputs": [],
   "source": [
    "# liczenie średniej entropi dla wszystkich artykułów w gazecie"
   ]
  },
  {
   "cell_type": "code",
   "execution_count": 50,
   "metadata": {},
   "outputs": [],
   "source": [
    "enntropy_mean_nd = df_nasz.loc[:,\"Entropia\"].mean()"
   ]
  },
  {
   "cell_type": "code",
   "execution_count": 51,
   "metadata": {},
   "outputs": [],
   "source": [
    "enntropy_mean_gw = df_gw.loc[:,\"Entropia\"].mean()"
   ]
  },
  {
   "cell_type": "code",
   "execution_count": 52,
   "metadata": {},
   "outputs": [],
   "source": [
    "# liczenie średniego wskaźnika entropi dla wszystkich artykułów w gazecie"
   ]
  },
  {
   "cell_type": "code",
   "execution_count": 53,
   "metadata": {},
   "outputs": [],
   "source": [
    "enntropy_rate_mean_nd = df_nasz.loc[:,\"Wskaźnik entropii\"].mean()\n",
    "enntropy_rate_mean_gw = df_gw.loc[:,\"Wskaźnik entropii\"].mean()"
   ]
  },
  {
   "cell_type": "code",
   "execution_count": null,
   "metadata": {},
   "outputs": [],
   "source": []
  },
  {
   "cell_type": "code",
   "execution_count": 54,
   "metadata": {},
   "outputs": [],
   "source": [
    "l_ent_nd = [\"Nasz Dziennik\", enntropy_mean_nd, enntropy_rate_mean_nd]\n",
    "l_ent_gw = [\"Gazeta Wyborcza\", enntropy_mean_gw, enntropy_rate_mean_gw]\n",
    "l_ent_mean = [l_ent_nd, l_ent_gw]"
   ]
  },
  {
   "cell_type": "code",
   "execution_count": 55,
   "metadata": {},
   "outputs": [
    {
     "data": {
      "text/plain": [
       "[['Nasz Dziennik', 6.813061258296749, 4.150342545338924],\n",
       " ['Gazeta Wyborcza', 7.13364773797569, 3.8743090492369965]]"
      ]
     },
     "execution_count": 55,
     "metadata": {},
     "output_type": "execute_result"
    }
   ],
   "source": [
    "l_ent_mean"
   ]
  },
  {
   "cell_type": "code",
   "execution_count": 56,
   "metadata": {},
   "outputs": [],
   "source": [
    "df_mean = pd.DataFrame(l_ent_mean, columns = [\"Nazwa Gazety\", \"Średnia Entopia\", \"Wskaźnik entropii\"])"
   ]
  },
  {
   "cell_type": "code",
   "execution_count": 57,
   "metadata": {},
   "outputs": [
    {
     "data": {
      "text/html": [
       "<div>\n",
       "<style scoped>\n",
       "    .dataframe tbody tr th:only-of-type {\n",
       "        vertical-align: middle;\n",
       "    }\n",
       "\n",
       "    .dataframe tbody tr th {\n",
       "        vertical-align: top;\n",
       "    }\n",
       "\n",
       "    .dataframe thead th {\n",
       "        text-align: right;\n",
       "    }\n",
       "</style>\n",
       "<table border=\"1\" class=\"dataframe\">\n",
       "  <thead>\n",
       "    <tr style=\"text-align: right;\">\n",
       "      <th></th>\n",
       "      <th>Nazwa Gazety</th>\n",
       "      <th>Średnia Entopia</th>\n",
       "      <th>Wskaźnik entropii</th>\n",
       "    </tr>\n",
       "  </thead>\n",
       "  <tbody>\n",
       "    <tr>\n",
       "      <th>0</th>\n",
       "      <td>Nasz Dziennik</td>\n",
       "      <td>6.813061</td>\n",
       "      <td>4.150343</td>\n",
       "    </tr>\n",
       "    <tr>\n",
       "      <th>1</th>\n",
       "      <td>Gazeta Wyborcza</td>\n",
       "      <td>7.133648</td>\n",
       "      <td>3.874309</td>\n",
       "    </tr>\n",
       "  </tbody>\n",
       "</table>\n",
       "</div>"
      ],
      "text/plain": [
       "      Nazwa Gazety  Średnia Entopia  Wskaźnik entropii\n",
       "0    Nasz Dziennik         6.813061           4.150343\n",
       "1  Gazeta Wyborcza         7.133648           3.874309"
      ]
     },
     "execution_count": 57,
     "metadata": {},
     "output_type": "execute_result"
    }
   ],
   "source": [
    "df_mean"
   ]
  },
  {
   "cell_type": "code",
   "execution_count": 58,
   "metadata": {},
   "outputs": [
    {
     "data": {
      "image/png": "[encoded data removed]",
      "text/plain": [
       "<Figure size 432x288 with 1 Axes>"
      ]
     },
     "metadata": {
      "needs_background": "light"
     },
     "output_type": "display_data"
    }
   ],
   "source": [
    "fig, ax = plt.subplots()\n",
    "\n",
    "# hide axes\n",
    "fig.patch.set_visible(False)\n",
    "ax.axis('off')\n",
    "ax.axis('tight')\n",
    "\n",
    "df = pd.DataFrame(np.random.randn(10, 4), columns=list('ABCD'))\n",
    "\n",
    "ax.table(cellText=df_mean.values, colLabels=df_mean.columns, loc='center')\n",
    "\n",
    "fig.tight_layout()\n",
    "plt.savefig('entropy_papers.png')\n",
    "plt.show()"
   ]
  },
  {
   "cell_type": "code",
   "execution_count": 22,
   "metadata": {},
   "outputs": [],
   "source": [
    "# plt.plot(df_nasz.loc[:,\"Ilość tokenów\"], df_nasz.loc[:,\"Entropia\"])"
   ]
  },
  {
   "cell_type": "code",
   "execution_count": 24,
   "metadata": {},
   "outputs": [],
   "source": [
    "# p1, = host.plot(df_nasz.loc[:,\"Ilość tokenów\"], df_nasz.loc[:,\"Entropia\"], \"b-\", label=\"Nasz Dziennik\")\n",
    "# p2, = par1.plot(df_gw.loc[:,\"Ilość tokenów\"], df_gw.loc[:,\"Entropia\"], \"b-\", label=\"Gazeta Wyborcza\")"
   ]
  },
  {
   "cell_type": "code",
   "execution_count": 25,
   "metadata": {},
   "outputs": [],
   "source": [
    "# plt.plot(df_nasz.loc[:,\"Ilość tokenów\"].sort_values(by=['Ilość tokenów'], df_nasz.loc[:,\"Entropia\"], 'r--', df_gw.loc[:,\"Ilość tokenów\"], df_gw.loc[:,\"Entropia\"], 'bs-')\n",
    "# plt.show()"
   ]
  },
  {
   "cell_type": "code",
   "execution_count": 26,
   "metadata": {},
   "outputs": [],
   "source": [
    "# df_nasz.sort_values(by=['Ilość tokenów']).loc[:,\"Ilość tokenów\"]"
   ]
  },
  {
   "cell_type": "code",
   "execution_count": 27,
   "metadata": {},
   "outputs": [],
   "source": [
    "# df_nasz.sort_values(by=['Ilość tokenów']).loc[:,\"Entropia\"]"
   ]
  },
  {
   "cell_type": "code",
   "execution_count": 42,
   "metadata": {},
   "outputs": [],
   "source": [
    "# Sortowanie DF po ilości tokenów"
   ]
  },
  {
   "cell_type": "code",
   "execution_count": 61,
   "metadata": {},
   "outputs": [
    {
     "data": {
      "text/html": [
       "<div>\n",
       "<style scoped>\n",
       "    .dataframe tbody tr th:only-of-type {\n",
       "        vertical-align: middle;\n",
       "    }\n",
       "\n",
       "    .dataframe tbody tr th {\n",
       "        vertical-align: top;\n",
       "    }\n",
       "\n",
       "    .dataframe thead th {\n",
       "        text-align: right;\n",
       "    }\n",
       "</style>\n",
       "<table border=\"1\" class=\"dataframe\">\n",
       "  <thead>\n",
       "    <tr style=\"text-align: right;\">\n",
       "      <th></th>\n",
       "      <th>Numer artykułu</th>\n",
       "      <th>Nazwa gazety</th>\n",
       "      <th>Pierwsze lematy</th>\n",
       "      <th>Ilość tokenów</th>\n",
       "      <th>Entropia</th>\n",
       "      <th>Wskaźnik entropii</th>\n",
       "    </tr>\n",
       "  </thead>\n",
       "  <tbody>\n",
       "    <tr>\n",
       "      <th>2</th>\n",
       "      <td>2</td>\n",
       "      <td>Gazeta Wyborcza</td>\n",
       "      <td>[Małżeństwo, z, Sulechowo]</td>\n",
       "      <td>108</td>\n",
       "      <td>5.975823</td>\n",
       "      <td>3.476328</td>\n",
       "    </tr>\n",
       "    <tr>\n",
       "      <th>3</th>\n",
       "      <td>3</td>\n",
       "      <td>Gazeta Wyborcza</td>\n",
       "      <td>[4, grudzień, kobieta]</td>\n",
       "      <td>146</td>\n",
       "      <td>6.399236</td>\n",
       "      <td>3.922042</td>\n",
       "    </tr>\n",
       "    <tr>\n",
       "      <th>4</th>\n",
       "      <td>4</td>\n",
       "      <td>Gazeta Wyborcza</td>\n",
       "      <td>[Prawnik, z, urząd]</td>\n",
       "      <td>353</td>\n",
       "      <td>7.206140</td>\n",
       "      <td>3.875482</td>\n",
       "    </tr>\n",
       "    <tr>\n",
       "      <th>0</th>\n",
       "      <td>0</td>\n",
       "      <td>Gazeta Wyborcza</td>\n",
       "      <td>[z, początek, styczeń]</td>\n",
       "      <td>813</td>\n",
       "      <td>7.908418</td>\n",
       "      <td>3.942110</td>\n",
       "    </tr>\n",
       "    <tr>\n",
       "      <th>1</th>\n",
       "      <td>1</td>\n",
       "      <td>Gazeta Wyborcza</td>\n",
       "      <td>[MEN, zapowiadać, projekt]</td>\n",
       "      <td>992</td>\n",
       "      <td>8.178622</td>\n",
       "      <td>4.155583</td>\n",
       "    </tr>\n",
       "  </tbody>\n",
       "</table>\n",
       "</div>"
      ],
      "text/plain": [
       "   Numer artykułu     Nazwa gazety             Pierwsze lematy  Ilość tokenów  \\\n",
       "2               2  Gazeta Wyborcza  [Małżeństwo, z, Sulechowo]            108   \n",
       "3               3  Gazeta Wyborcza      [4, grudzień, kobieta]            146   \n",
       "4               4  Gazeta Wyborcza         [Prawnik, z, urząd]            353   \n",
       "0               0  Gazeta Wyborcza      [z, początek, styczeń]            813   \n",
       "1               1  Gazeta Wyborcza  [MEN, zapowiadać, projekt]            992   \n",
       "\n",
       "   Entropia  Wskaźnik entropii  \n",
       "2  5.975823           3.476328  \n",
       "3  6.399236           3.922042  \n",
       "4  7.206140           3.875482  \n",
       "0  7.908418           3.942110  \n",
       "1  8.178622           4.155583  "
      ]
     },
     "execution_count": 61,
     "metadata": {},
     "output_type": "execute_result"
    }
   ],
   "source": [
    "df_gw_tokens = df_gw.sort_values(by=['Ilość tokenów'])\n",
    "df_gw_tokens[:10]"
   ]
  },
  {
   "cell_type": "code",
   "execution_count": 60,
   "metadata": {},
   "outputs": [
    {
     "data": {
      "text/html": [
       "<div>\n",
       "<style scoped>\n",
       "    .dataframe tbody tr th:only-of-type {\n",
       "        vertical-align: middle;\n",
       "    }\n",
       "\n",
       "    .dataframe tbody tr th {\n",
       "        vertical-align: top;\n",
       "    }\n",
       "\n",
       "    .dataframe thead th {\n",
       "        text-align: right;\n",
       "    }\n",
       "</style>\n",
       "<table border=\"1\" class=\"dataframe\">\n",
       "  <thead>\n",
       "    <tr style=\"text-align: right;\">\n",
       "      <th></th>\n",
       "      <th>Numer artykułu</th>\n",
       "      <th>Nazwa gazety</th>\n",
       "      <th>Pierwsze lematy</th>\n",
       "      <th>Ilość tokenów</th>\n",
       "      <th>Entropia</th>\n",
       "      <th>Wskaźnik entropii</th>\n",
       "    </tr>\n",
       "  </thead>\n",
       "  <tbody>\n",
       "    <tr>\n",
       "      <th>0</th>\n",
       "      <td>0</td>\n",
       "      <td>Nasz Dziennik</td>\n",
       "      <td>[od, poniedziałek, w]</td>\n",
       "      <td>55</td>\n",
       "      <td>5.412911</td>\n",
       "      <td>3.668929</td>\n",
       "    </tr>\n",
       "    <tr>\n",
       "      <th>2</th>\n",
       "      <td>2</td>\n",
       "      <td>Nasz Dziennik</td>\n",
       "      <td>[obraz, Jan, Matejka]</td>\n",
       "      <td>165</td>\n",
       "      <td>6.728744</td>\n",
       "      <td>4.418111</td>\n",
       "    </tr>\n",
       "    <tr>\n",
       "      <th>3</th>\n",
       "      <td>3</td>\n",
       "      <td>Nasz Dziennik</td>\n",
       "      <td>[osoba, chcący, wziąć]</td>\n",
       "      <td>167</td>\n",
       "      <td>6.711365</td>\n",
       "      <td>4.329092</td>\n",
       "    </tr>\n",
       "    <tr>\n",
       "      <th>4</th>\n",
       "      <td>4</td>\n",
       "      <td>Nasz Dziennik</td>\n",
       "      <td>[Poznański, rodzic, apelować]</td>\n",
       "      <td>356</td>\n",
       "      <td>7.322888</td>\n",
       "      <td>4.034794</td>\n",
       "    </tr>\n",
       "    <tr>\n",
       "      <th>1</th>\n",
       "      <td>1</td>\n",
       "      <td>Nasz Dziennik</td>\n",
       "      <td>[list, otwarty, do]</td>\n",
       "      <td>630</td>\n",
       "      <td>7.889398</td>\n",
       "      <td>4.300787</td>\n",
       "    </tr>\n",
       "  </tbody>\n",
       "</table>\n",
       "</div>"
      ],
      "text/plain": [
       "   Numer artykułu   Nazwa gazety                Pierwsze lematy  \\\n",
       "0               0  Nasz Dziennik          [od, poniedziałek, w]   \n",
       "2               2  Nasz Dziennik          [obraz, Jan, Matejka]   \n",
       "3               3  Nasz Dziennik         [osoba, chcący, wziąć]   \n",
       "4               4  Nasz Dziennik  [Poznański, rodzic, apelować]   \n",
       "1               1  Nasz Dziennik            [list, otwarty, do]   \n",
       "\n",
       "   Ilość tokenów  Entropia  Wskaźnik entropii  \n",
       "0             55  5.412911           3.668929  \n",
       "2            165  6.728744           4.418111  \n",
       "3            167  6.711365           4.329092  \n",
       "4            356  7.322888           4.034794  \n",
       "1            630  7.889398           4.300787  "
      ]
     },
     "execution_count": 60,
     "metadata": {},
     "output_type": "execute_result"
    }
   ],
   "source": [
    "df_nd_tokens = df_nasz.sort_values(by=['Ilość tokenów'])\n",
    "df_nd_tokens[:10]"
   ]
  },
  {
   "cell_type": "code",
   "execution_count": 25,
   "metadata": {},
   "outputs": [],
   "source": [
    "# df_gw_tokens[\"Entropia\"]"
   ]
  },
  {
   "cell_type": "code",
   "execution_count": 27,
   "metadata": {},
   "outputs": [],
   "source": [
    "# Wykres, gdzie osią x jest ilość słów a osią y entropia\n",
    "# niebieski to GW\n",
    "# czerwony to ND"
   ]
  },
  {
   "cell_type": "code",
   "execution_count": 70,
   "metadata": {},
   "outputs": [
    {
     "data": {
      "image/png": "[encoded data removed]",
      "text/plain": [
       "<Figure size 432x288 with 1 Axes>"
      ]
     },
     "metadata": {
      "needs_background": "light"
     },
     "output_type": "display_data"
    }
   ],
   "source": [
    "plt.plot(df_nd_tokens.loc[:,\"Ilość tokenów\"], df_nd_tokens.loc[:,\"Entropia\"], 'r-', df_gw_tokens.loc[:,\"Ilość tokenów\"], df_gw_tokens.loc[:,\"Entropia\"], 'b-')\n",
    "plt.title(\"Porównanie entropii(oś y) obu gazet w stosunku do ilości tokenów(oś x)\", fontsize=16)\n",
    "# fig.suptitle('This is a somewhat long figure title', fontsize=16)\n",
    "plt.xlabel('Ilość Tokenów')\n",
    "plt.ylabel('Entropia')\n",
    "plt.savefig('tokens_entropy.png')\n",
    "plt.legend((\"Nasz dziennik\", \"Gazeta wyborcza\"), loc='lower right')\n",
    "plt.show()"
   ]
  },
  {
   "cell_type": "code",
   "execution_count": 83,
   "metadata": {},
   "outputs": [
    {
     "data": {
      "image/png": "[encoded data removed]",
      "text/plain": [
       "<Figure size 432x288 with 1 Axes>"
      ]
     },
     "metadata": {
      "needs_background": "light"
     },
     "output_type": "display_data"
    }
   ],
   "source": [
    "plt.plot(df_nd_tokens.loc[:,\"Ilość tokenów\"], df_nd_tokens.loc[:,\"Wskaźnik entropii\"], 'm-', df_gw_tokens.loc[:,\"Ilość tokenów\"], df_gw_tokens.loc[:,\"Wskaźnik entropii\"], 'g-')\n",
    "plt.title(\"Porównanie wzkaźnika entropii(oś y) obu gazet w stosunku do ilości tokenów(oś x)\", fontsize=16)\n",
    "# fig.suptitle('This is a somewhat long figure title', fontsize=16)\n",
    "plt.xlabel('Ilość Tokenów')\n",
    "plt.ylabel('Wskaźnik entropii')\n",
    "plt.savefig('tokens_entropy.png')\n",
    "plt.legend((\"Nasz dziennik\", \"Gazeta wyborcza\"), loc='lower right')\n",
    "plt.show()"
   ]
  },
  {
   "cell_type": "code",
   "execution_count": 81,
   "metadata": {},
   "outputs": [],
   "source": []
  },
  {
   "cell_type": "code",
   "execution_count": 94,
   "metadata": {},
   "outputs": [
    {
     "data": {
      "image/png": "[encoded data removed]",
      "text/plain": [
       "<Figure size 432x288 with 1 Axes>"
      ]
     },
     "metadata": {
      "needs_background": "light"
     },
     "output_type": "display_data"
    }
   ],
   "source": [
    "# plt.plot(df_nd_tokens.loc[:,\"Entropia\"], df_nd_tokens.loc[:,\"Wskaźnik entropii\"], 'ro')\n",
    "plt.title(\"Korelacja entropii(oś y) i wskaźnika entropii dla Naszego Dziennika\", fontsize=16)\n",
    "# fig.suptitle('This is a somewhat long figure title', fontsize=16)\n",
    "plt.xlabel('Entropia')\n",
    "plt.ylabel('Wskaźnik entropii')\n",
    "plt.savefig('entropy_entrate_ND.png')\n",
    "# plt.legend((\"Entropia\", \"Wskaźnik entropii\"), loc='lower right')\n",
    "# plt.show()\n",
    "\n",
    "X = df_nd_tokens[\"Entropia\"].values.reshape(-1, 1)\n",
    "Y = df_nd_tokens[\"Wskaźnik entropii\"]\n",
    "linear_regressor = LinearRegression()\n",
    "linear_regressor.fit(X, Y)\n",
    "Y_pred = linear_regressor.predict(X)\n",
    "\n",
    "plt.scatter(X, Y)\n",
    "plt.plot(X, Y_pred, color='red')\n",
    "plt.show()"
   ]
  },
  {
   "cell_type": "code",
   "execution_count": 92,
   "metadata": {},
   "outputs": [],
   "source": []
  },
  {
   "cell_type": "code",
   "execution_count": 96,
   "metadata": {},
   "outputs": [
    {
     "data": {
      "image/png": "[encoded data removed]",
      "text/plain": [
       "<Figure size 432x288 with 1 Axes>"
      ]
     },
     "metadata": {
      "needs_background": "light"
     },
     "output_type": "display_data"
    }
   ],
   "source": [
    "# plt.plot(df_nd_tokens.loc[:,\"Entropia\"], df_nd_tokens.loc[:,\"Wskaźnik entropii\"], 'ro')\n",
    "plt.title(\"Korelacja entropii(oś y) i wskaźnika entropii dla Gazety Wyborczej\", fontsize=16)\n",
    "# fig.suptitle('This is a somewhat long figure title', fontsize=16)\n",
    "plt.xlabel('Entropia')\n",
    "plt.ylabel('Wskaźnik entropii')\n",
    "plt.savefig('entropy_entrate_GW.png')\n",
    "# plt.legend((\"Entropia\", \"Wskaźnik entropii\"), loc='lower right')\n",
    "# plt.show()\n",
    "\n",
    "X = df_gw_tokens[\"Entropia\"].values.reshape(-1, 1)\n",
    "Y = df_gw_tokens[\"Wskaźnik entropii\"]\n",
    "linear_regressor = LinearRegression()\n",
    "linear_regressor.fit(X, Y)\n",
    "Y_pred = linear_regressor.predict(X)\n",
    "\n",
    "plt.scatter(X, Y)\n",
    "plt.plot(X, Y_pred, color='red')\n",
    "plt.show()"
   ]
  },
  {
   "cell_type": "code",
   "execution_count": null,
   "metadata": {},
   "outputs": [],
   "source": []
  },
  {
   "cell_type": "code",
   "execution_count": null,
   "metadata": {},
   "outputs": [],
   "source": []
  },
  {
   "cell_type": "code",
   "execution_count": null,
   "metadata": {},
   "outputs": [],
   "source": []
  },
  {
   "cell_type": "code",
   "execution_count": null,
   "metadata": {},
   "outputs": [],
   "source": []
  },
  {
   "cell_type": "code",
   "execution_count": null,
   "metadata": {},
   "outputs": [],
   "source": []
  }
 ],
 "metadata": {
  "jupytext": {
   "encoding": "# -*- coding: utf-8 -*-",
   "formats": "ipynb,py:light"
  },
  "kernelspec": {
   "display_name": "Python 3",
   "language": "python",
   "name": "python3"
  },
  "language_info": {
   "codemirror_mode": {
    "name": "ipython",
    "version": 3
   },
   "file_extension": ".py",
   "mimetype": "text/x-python",
   "name": "python",
   "nbconvert_exporter": "python",
   "pygments_lexer": "ipython3",
   "version": "3.8.1"
  }
 },
 "nbformat": 4,
 "nbformat_minor": 4
}
