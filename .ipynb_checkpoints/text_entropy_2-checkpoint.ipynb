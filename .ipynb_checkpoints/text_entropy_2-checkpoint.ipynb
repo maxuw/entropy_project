{
 "cells": [
  {
   "cell_type": "code",
   "execution_count": 1,
   "metadata": {},
   "outputs": [],
   "source": [
    "import PreprocessText\n",
    "import EntropyCount"
   ]
  },
  {
   "cell_type": "code",
   "execution_count": 34,
   "metadata": {},
   "outputs": [],
   "source": [
    "import pandas as pd"
   ]
  },
  {
   "cell_type": "code",
   "execution_count": 2,
   "metadata": {},
   "outputs": [],
   "source": [
    "dir = \"teksty/nasz_dziennik/wirus/\""
   ]
  },
  {
   "cell_type": "code",
   "execution_count": 3,
   "metadata": {},
   "outputs": [],
   "source": [
    "file = \"1.txt\""
   ]
  },
  {
   "cell_type": "code",
   "execution_count": 4,
   "metadata": {},
   "outputs": [
    {
     "name": "stdout",
     "output_type": "stream",
     "text": [
      "1.txt\n",
      "1\n"
     ]
    }
   ],
   "source": [
    "process1 = PreprocessText.whole_proces_polish(dir, file)"
   ]
  },
  {
   "cell_type": "code",
   "execution_count": 5,
   "metadata": {},
   "outputs": [
    {
     "data": {
      "text/plain": [
       "['Piąty',\n",
       " 'ognisko',\n",
       " 'ptasi',\n",
       " 'grypa',\n",
       " 'potwierdzony',\n",
       " 'w',\n",
       " 'Wielkopolska',\n",
       " 'w',\n",
       " 'gospodarstwo',\n",
       " 'w',\n",
       " 'Radłów',\n",
       " 'w',\n",
       " 'powiat',\n",
       " 'ostrowski',\n",
       " 'poinformować',\n",
       " 'wojewódzki',\n",
       " 'lekarz',\n",
       " 'weterynaria',\n",
       " 'w',\n",
       " 'Poznań']"
      ]
     },
     "execution_count": 5,
     "metadata": {},
     "output_type": "execute_result"
    }
   ],
   "source": [
    "process1[:20]"
   ]
  },
  {
   "cell_type": "code",
   "execution_count": 6,
   "metadata": {},
   "outputs": [
    {
     "data": {
      "text/plain": [
       "7.070629968236177"
      ]
     },
     "execution_count": 6,
     "metadata": {},
     "output_type": "execute_result"
    }
   ],
   "source": [
    "EntropyCount.calculate_entropy_for_all_words(process1)"
   ]
  },
  {
   "cell_type": "code",
   "execution_count": 30,
   "metadata": {},
   "outputs": [],
   "source": [
    "def preprocess_paper(dir_, range_limit, paper_name):\n",
    "    \n",
    "    list_articles = []\n",
    "    \n",
    "    for n in range(5):\n",
    "        file = str(n+1) + \".txt\"\n",
    "\n",
    "        prep = PreprocessText.whole_proces_polish(dir_, file)\n",
    "        entropy, amount_tokens = EntropyCount.calculate_entropy_for_all_words(prep)\n",
    "\n",
    "        list_this = []\n",
    "        list_this.append(n)\n",
    "        list_this.append(paper_name)\n",
    "        list_this.append(prep[:3])\n",
    "        list_this.append(amount_tokens)\n",
    "        list_this.append(entropy)\n",
    "        \n",
    "        list_articles.append(list_this)\n",
    "    \n",
    "    return list_articles\n",
    "    "
   ]
  },
  {
   "cell_type": "code",
   "execution_count": 31,
   "metadata": {},
   "outputs": [
    {
     "name": "stdout",
     "output_type": "stream",
     "text": [
      "1.txt\n",
      "1\n",
      "2.txt\n",
      "2\n",
      "3.txt\n",
      "3\n",
      "4.txt\n",
      "4\n",
      "5.txt\n",
      "5\n"
     ]
    }
   ],
   "source": [
    "dir_ = \"teksty/nasz_dziennik/wirus/\"\n",
    "paper_name = \"Nasz Dziennik\"\n",
    "articles_amount = 5\n",
    "\n",
    "list_nasz = preprocess_paper(dir_, articles_amount, paper_name)\n",
    "\n"
   ]
  },
  {
   "cell_type": "code",
   "execution_count": 32,
   "metadata": {},
   "outputs": [
    {
     "data": {
      "text/plain": [
       "[[0, 'Nasz Dziennik', ['Piąty', 'ognisko', 'ptasi'], 7.070629968236177],\n",
       " [1, 'Nasz Dziennik', ['mieć', 'dobrze', 'przygotowany'], 7.460492771980687],\n",
       " [2, 'Nasz Dziennik', ['Ukraina', 'zgłosić', 'pojawienie'], 6.507227821789562],\n",
       " [3,\n",
       "  'Nasz Dziennik',\n",
       "  ['Czeski', 'służba', 'weterynaryjny'],\n",
       "  6.284631975083053],\n",
       " [4, 'Nasz Dziennik', ['być', 'podejrzenie', 'ptasi'], 6.726595662956001]]"
      ]
     },
     "execution_count": 32,
     "metadata": {},
     "output_type": "execute_result"
    }
   ],
   "source": [
    "list_nasz"
   ]
  },
  {
   "cell_type": "code",
   "execution_count": 44,
   "metadata": {},
   "outputs": [],
   "source": [
    "df_nasz = pd.DataFrame(list_nasz, columns = [\"Numer artykułu\", \"Nazwa gazety\", \"Pierwsze lematy\", \"Entropia\"])"
   ]
  },
  {
   "cell_type": "code",
   "execution_count": 43,
   "metadata": {},
   "outputs": [
    {
     "data": {
      "text/html": [
       "<div>\n",
       "<style scoped>\n",
       "    .dataframe tbody tr th:only-of-type {\n",
       "        vertical-align: middle;\n",
       "    }\n",
       "\n",
       "    .dataframe tbody tr th {\n",
       "        vertical-align: top;\n",
       "    }\n",
       "\n",
       "    .dataframe thead th {\n",
       "        text-align: right;\n",
       "    }\n",
       "</style>\n",
       "<table border=\"1\" class=\"dataframe\">\n",
       "  <thead>\n",
       "    <tr style=\"text-align: right;\">\n",
       "      <th></th>\n",
       "      <th>Numer artykułu</th>\n",
       "      <th>Nazwa gazety</th>\n",
       "      <th>Pierwsze lematy</th>\n",
       "      <th>Entropia</th>\n",
       "    </tr>\n",
       "  </thead>\n",
       "  <tbody>\n",
       "    <tr>\n",
       "      <th>0</th>\n",
       "      <td>0</td>\n",
       "      <td>Nasz Dziennik</td>\n",
       "      <td>[Piąty, ognisko, ptasi]</td>\n",
       "      <td>7.070630</td>\n",
       "    </tr>\n",
       "    <tr>\n",
       "      <th>1</th>\n",
       "      <td>1</td>\n",
       "      <td>Nasz Dziennik</td>\n",
       "      <td>[mieć, dobrze, przygotowany]</td>\n",
       "      <td>7.460493</td>\n",
       "    </tr>\n",
       "    <tr>\n",
       "      <th>2</th>\n",
       "      <td>2</td>\n",
       "      <td>Nasz Dziennik</td>\n",
       "      <td>[Ukraina, zgłosić, pojawienie]</td>\n",
       "      <td>6.507228</td>\n",
       "    </tr>\n",
       "    <tr>\n",
       "      <th>3</th>\n",
       "      <td>3</td>\n",
       "      <td>Nasz Dziennik</td>\n",
       "      <td>[Czeski, służba, weterynaryjny]</td>\n",
       "      <td>6.284632</td>\n",
       "    </tr>\n",
       "    <tr>\n",
       "      <th>4</th>\n",
       "      <td>4</td>\n",
       "      <td>Nasz Dziennik</td>\n",
       "      <td>[być, podejrzenie, ptasi]</td>\n",
       "      <td>6.726596</td>\n",
       "    </tr>\n",
       "  </tbody>\n",
       "</table>\n",
       "</div>"
      ],
      "text/plain": [
       "   Numer artykułu   Nazwa gazety                  Pierwsze lematy  Entropia\n",
       "0               0  Nasz Dziennik          [Piąty, ognisko, ptasi]  7.070630\n",
       "1               1  Nasz Dziennik     [mieć, dobrze, przygotowany]  7.460493\n",
       "2               2  Nasz Dziennik   [Ukraina, zgłosić, pojawienie]  6.507228\n",
       "3               3  Nasz Dziennik  [Czeski, służba, weterynaryjny]  6.284632\n",
       "4               4  Nasz Dziennik        [być, podejrzenie, ptasi]  6.726596"
      ]
     },
     "execution_count": 43,
     "metadata": {},
     "output_type": "execute_result"
    }
   ],
   "source": [
    "df_nasz"
   ]
  },
  {
   "cell_type": "code",
   "execution_count": 45,
   "metadata": {},
   "outputs": [
    {
     "name": "stdout",
     "output_type": "stream",
     "text": [
      "1.txt\n",
      "1\n",
      "2.txt\n",
      "2\n",
      "3.txt\n",
      "3\n",
      "4.txt\n",
      "4\n",
      "5.txt\n",
      "5\n"
     ]
    }
   ],
   "source": [
    "dir_ = \"teksty/gazeta_wyborcza/wirus/\"\n",
    "paper_name = \"Gazeta Wyborcza\"\n",
    "articles_amount = 5\n",
    "\n",
    "list_gw = preprocess_paper(dir_, articles_amount, paper_name)\n",
    "\n"
   ]
  },
  {
   "cell_type": "code",
   "execution_count": 46,
   "metadata": {},
   "outputs": [],
   "source": [
    "df_gw = pd.DataFrame(list_gw, columns = [\"Numer artykułu\", \"Nazwa gazety\", \"Pierwsze lematy\", \"Entropia\"])"
   ]
  },
  {
   "cell_type": "code",
   "execution_count": 47,
   "metadata": {},
   "outputs": [
    {
     "data": {
      "text/html": [
       "<div>\n",
       "<style scoped>\n",
       "    .dataframe tbody tr th:only-of-type {\n",
       "        vertical-align: middle;\n",
       "    }\n",
       "\n",
       "    .dataframe tbody tr th {\n",
       "        vertical-align: top;\n",
       "    }\n",
       "\n",
       "    .dataframe thead th {\n",
       "        text-align: right;\n",
       "    }\n",
       "</style>\n",
       "<table border=\"1\" class=\"dataframe\">\n",
       "  <thead>\n",
       "    <tr style=\"text-align: right;\">\n",
       "      <th></th>\n",
       "      <th>Numer artykułu</th>\n",
       "      <th>Nazwa gazety</th>\n",
       "      <th>Pierwsze lematy</th>\n",
       "      <th>Entropia</th>\n",
       "    </tr>\n",
       "  </thead>\n",
       "  <tbody>\n",
       "    <tr>\n",
       "      <th>0</th>\n",
       "      <td>0</td>\n",
       "      <td>Gazeta Wyborcza</td>\n",
       "      <td>[Szampański, zabawa, połączony]</td>\n",
       "      <td>7.725872</td>\n",
       "    </tr>\n",
       "    <tr>\n",
       "      <th>1</th>\n",
       "      <td>1</td>\n",
       "      <td>Gazeta Wyborcza</td>\n",
       "      <td>[grypa, dopaść, ja]</td>\n",
       "      <td>7.405729</td>\n",
       "    </tr>\n",
       "    <tr>\n",
       "      <th>2</th>\n",
       "      <td>2</td>\n",
       "      <td>Gazeta Wyborcza</td>\n",
       "      <td>[14, styczeń, 2020]</td>\n",
       "      <td>8.140736</td>\n",
       "    </tr>\n",
       "    <tr>\n",
       "      <th>3</th>\n",
       "      <td>3</td>\n",
       "      <td>Gazeta Wyborcza</td>\n",
       "      <td>[w, chiński, miasto]</td>\n",
       "      <td>7.333134</td>\n",
       "    </tr>\n",
       "    <tr>\n",
       "      <th>4</th>\n",
       "      <td>4</td>\n",
       "      <td>Gazeta Wyborcza</td>\n",
       "      <td>[Spełnie, się, ten]</td>\n",
       "      <td>7.707839</td>\n",
       "    </tr>\n",
       "  </tbody>\n",
       "</table>\n",
       "</div>"
      ],
      "text/plain": [
       "   Numer artykułu     Nazwa gazety                  Pierwsze lematy  Entropia\n",
       "0               0  Gazeta Wyborcza  [Szampański, zabawa, połączony]  7.725872\n",
       "1               1  Gazeta Wyborcza              [grypa, dopaść, ja]  7.405729\n",
       "2               2  Gazeta Wyborcza              [14, styczeń, 2020]  8.140736\n",
       "3               3  Gazeta Wyborcza             [w, chiński, miasto]  7.333134\n",
       "4               4  Gazeta Wyborcza              [Spełnie, się, ten]  7.707839"
      ]
     },
     "execution_count": 47,
     "metadata": {},
     "output_type": "execute_result"
    }
   ],
   "source": [
    "df_gw"
   ]
  },
  {
   "cell_type": "code",
   "execution_count": null,
   "metadata": {},
   "outputs": [],
   "source": []
  }
 ],
 "metadata": {
  "jupytext": {
   "formats": "ipynb,py:light"
  },
  "kernelspec": {
   "display_name": "Python 3",
   "language": "python",
   "name": "python3"
  },
  "language_info": {
   "codemirror_mode": {
    "name": "ipython",
    "version": 3
   },
   "file_extension": ".py",
   "mimetype": "text/x-python",
   "name": "python",
   "nbconvert_exporter": "python",
   "pygments_lexer": "ipython3",
   "version": "3.8.1"
  }
 },
 "nbformat": 4,
 "nbformat_minor": 4
}
