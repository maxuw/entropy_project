{
 "cells": [
  {
   "cell_type": "code",
   "execution_count": 1,
   "metadata": {},
   "outputs": [],
   "source": [
    "import glob"
   ]
  },
  {
   "cell_type": "code",
   "execution_count": 2,
   "metadata": {},
   "outputs": [],
   "source": [
    "def read_files(file_name, dir, verbose=False):\n",
    "    f = open(dir + file_name, \"r\")\n",
    "    text = f.read()\n",
    "\n",
    "    if verbose == True:\n",
    "        print(text[:150])\n",
    "\n",
    "    return text"
   ]
  },
  {
   "cell_type": "code",
   "execution_count": 3,
   "metadata": {},
   "outputs": [],
   "source": [
    "def write_files(string_file, file_name, dir_):\n",
    "\n",
    "    text_file = open(dir_ + file_name, \"w\")\n",
    "    n = text_file.write(string_file)\n",
    "    text_file.close()"
   ]
  },
  {
   "cell_type": "code",
   "execution_count": 10,
   "metadata": {},
   "outputs": [],
   "source": [
    "dirs = [\"galeria\", \"karty\", \"prezydent\", \"więc\", \"sądownictwo\", \"wirus\"]"
   ]
  },
  {
   "cell_type": "code",
   "execution_count": 11,
   "metadata": {},
   "outputs": [
    {
     "name": "stdout",
     "output_type": "stream",
     "text": [
      "/1.txt\n",
      "/2.txt\n",
      "/3.txt\n",
      "/1.txt\n",
      "/2.txt\n",
      "/3.txt\n",
      "/4.txt\n",
      "/5.txt\n",
      "/6.txt\n",
      "/7.txt\n",
      "/1.txt\n",
      "/2.txt\n",
      "/3.txt\n",
      "/4.txt\n",
      "/5.txt\n",
      "/6.txt\n",
      "/7.txt\n",
      "/8.txt\n",
      "/9.txt\n",
      "/10.txt\n",
      "/11.txt\n",
      "/12.txt\n",
      "/13.txt\n",
      "/14.txt\n",
      "/1.txt\n",
      "/2.txt\n",
      "/3.txt\n",
      "/4.txt\n",
      "/5.txt\n",
      "/6.txt\n",
      "/7.txt\n",
      "/8.txt\n",
      "/9.txt\n",
      "/10.txt\n",
      "/11.txt\n",
      "/12.txt\n",
      "/13.txt\n",
      "/14.txt\n",
      "/15.txt\n",
      "/16.txt\n",
      "/17.txt\n",
      "/18.txt\n",
      "/1.txt\n",
      "/2.txt\n",
      "/3.txt\n",
      "/4.txt\n",
      "/5.txt\n",
      "/1.txt\n",
      "/2.txt\n",
      "/3.txt\n",
      "/4.txt\n",
      "/5.txt\n"
     ]
    }
   ],
   "source": [
    "file_count = 0\n",
    "dir_major = \"teksty/nasz_dziennik/\"\n",
    "\n",
    "for d in dirs:\n",
    "    d =  dir_major + d\n",
    "    ls = glob.glob(d + \"/*.txt\")\n",
    "    \n",
    "    for file_name in ls:\n",
    "        file_name = file_name[len(d):]\n",
    "        print(file_name)\n",
    "    \n",
    "        read_file = read_files(file_name, d)\n",
    "#         print(read_file)\n",
    "\n",
    "        file_name_new = str(file_count) + \".txt\"\n",
    "        dir_new = dir_major + \"all_articles/\"\n",
    "\n",
    "        write_files(read_file, file_name_new, dir_new)\n",
    "        file_count += 1\n",
    "    \n",
    "    "
   ]
  },
  {
   "cell_type": "code",
   "execution_count": null,
   "metadata": {},
   "outputs": [],
   "source": [
    "\n"
   ]
  },
  {
   "cell_type": "code",
   "execution_count": 8,
   "metadata": {},
   "outputs": [],
   "source": [
    "dirs = [\"karty\", \"prezydent\", \"więc\", \"wirus\"]"
   ]
  },
  {
   "cell_type": "code",
   "execution_count": 9,
   "metadata": {},
   "outputs": [
    {
     "name": "stdout",
     "output_type": "stream",
     "text": [
      "/1.txt\n",
      "/2.txt\n",
      "/3.txt\n",
      "/4.txt\n",
      "/5.txt\n",
      "/6.txt\n",
      "/5.txt\n",
      "/6.txt\n",
      "/7.txt\n",
      "/8.txt\n",
      "/9.txt\n",
      "/10.txt\n",
      "/11.txt\n",
      "/12.txt\n",
      "/13.txt\n",
      "/14.txt\n",
      "/1.txt\n",
      "/2.txt\n",
      "/3.txt\n",
      "/4.txt\n",
      "/15.txt\n",
      "/16.txt\n",
      "/17.txt\n",
      "/18.txt\n",
      "/19.txt\n",
      "/11.txt\n",
      "/18.txt\n",
      "/17.txt\n",
      "/16.txt\n",
      "/15.txt\n",
      "/14.txt\n",
      "/13.txt\n",
      "/12.txt\n",
      "/10.txt\n",
      "/9.txt\n",
      "/8.txt\n",
      "/7.txt\n",
      "/6.txt\n",
      "/5.txt\n",
      "/4.txt\n",
      "/3.txt\n",
      "/2.txt\n",
      "/1.txt\n",
      "/2.txt\n",
      "/1.txt\n",
      "/3.txt\n",
      "/4.txt\n",
      "/5.txt\n"
     ]
    }
   ],
   "source": [
    "file_count = 0\n",
    "dir_major = \"teksty/gazeta_wyborcza/\"\n",
    "\n",
    "for d in dirs:\n",
    "    d =  dir_major + d\n",
    "    ls = glob.glob(d + \"/*.txt\")\n",
    "    \n",
    "    for file_name in ls:\n",
    "        file_name = file_name[len(d):]\n",
    "        print(file_name)\n",
    "    \n",
    "        read_file = read_files(file_name, d)\n",
    "#         print(read_file)\n",
    "\n",
    "        file_name_new = str(file_count) + \".txt\"\n",
    "        dir_new = dir_major + \"all_articles/\"\n",
    "\n",
    "        write_files(read_file, file_name_new, dir_new)\n",
    "        file_count += 1\n",
    "    \n",
    "    "
   ]
  },
  {
   "cell_type": "code",
   "execution_count": null,
   "metadata": {},
   "outputs": [],
   "source": []
  }
 ],
 "metadata": {
  "kernelspec": {
   "display_name": "Python 3",
   "language": "python",
   "name": "python3"
  },
  "language_info": {
   "codemirror_mode": {
    "name": "ipython",
    "version": 3
   },
   "file_extension": ".py",
   "mimetype": "text/x-python",
   "name": "python",
   "nbconvert_exporter": "python",
   "pygments_lexer": "ipython3",
   "version": "3.8.1"
  }
 },
 "nbformat": 4,
 "nbformat_minor": 4
}
