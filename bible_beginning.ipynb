{
 "cells": [
  {
   "cell_type": "code",
   "execution_count": 1,
   "metadata": {},
   "outputs": [],
   "source": [
    "import numpy as np"
   ]
  },
  {
   "cell_type": "code",
   "execution_count": 2,
   "metadata": {},
   "outputs": [],
   "source": [
    "text = \"in the beginning god created the heavens and the earth and the earth was waste and empty\""
   ]
  },
  {
   "cell_type": "code",
   "execution_count": 3,
   "metadata": {},
   "outputs": [],
   "source": [
    "text_split = text.split()"
   ]
  },
  {
   "cell_type": "code",
   "execution_count": 4,
   "metadata": {},
   "outputs": [
    {
     "data": {
      "text/plain": [
       "['in',\n",
       " 'the',\n",
       " 'beginning',\n",
       " 'god',\n",
       " 'created',\n",
       " 'the',\n",
       " 'heavens',\n",
       " 'and',\n",
       " 'the',\n",
       " 'earth',\n",
       " 'and',\n",
       " 'the',\n",
       " 'earth',\n",
       " 'was',\n",
       " 'waste',\n",
       " 'and',\n",
       " 'empty']"
      ]
     },
     "execution_count": 4,
     "metadata": {},
     "output_type": "execute_result"
    }
   ],
   "source": [
    "text_split"
   ]
  },
  {
   "cell_type": "code",
   "execution_count": 5,
   "metadata": {},
   "outputs": [
    {
     "data": {
      "text/plain": [
       "'the'"
      ]
     },
     "execution_count": 5,
     "metadata": {},
     "output_type": "execute_result"
    }
   ],
   "source": [
    "text_split[1]"
   ]
  },
  {
   "cell_type": "code",
   "execution_count": 6,
   "metadata": {},
   "outputs": [],
   "source": [
    "all_words = len(text_split)"
   ]
  },
  {
   "cell_type": "code",
   "execution_count": 7,
   "metadata": {},
   "outputs": [],
   "source": [
    "def count_specific_word(specific_word):\n",
    "    \n",
    "    specific_word_count = 0\n",
    "    for word in text_split:\n",
    "        if specific_word == word:\n",
    "            specific_word_count += 1\n",
    "\n",
    "    return specific_word_count\n",
    "    "
   ]
  },
  {
   "cell_type": "code",
   "execution_count": 8,
   "metadata": {},
   "outputs": [],
   "source": [
    "def count_probability(specific_word_count, all_words_count):\n",
    "    probability_word = specific_word_count / all_words_count\n",
    "    return probability_word"
   ]
  },
  {
   "cell_type": "code",
   "execution_count": 9,
   "metadata": {},
   "outputs": [
    {
     "data": {
      "text/plain": [
       "0.23529411764705882"
      ]
     },
     "execution_count": 9,
     "metadata": {},
     "output_type": "execute_result"
    }
   ],
   "source": [
    "specific_word_count = count_specific_word(text_split[1])\n",
    "count_probability(specific_word_count, all_words)"
   ]
  },
  {
   "cell_type": "code",
   "execution_count": 10,
   "metadata": {},
   "outputs": [],
   "source": [
    "def measure_entropy_specific_word(probability_specific_word):\n",
    "    return probability_specific_word * np.log2(probability_specific_word)\n",
    "    "
   ]
  },
  {
   "cell_type": "code",
   "execution_count": 11,
   "metadata": {},
   "outputs": [
    {
     "data": {
      "text/plain": [
       "-0.49116772735302106"
      ]
     },
     "execution_count": 11,
     "metadata": {},
     "output_type": "execute_result"
    }
   ],
   "source": [
    "measure_entropy_specific_word(0.23529411764705882)"
   ]
  },
  {
   "cell_type": "code",
   "execution_count": 12,
   "metadata": {},
   "outputs": [],
   "source": [
    "def calculate_entropy_for_all_words(list_words):\n",
    "    words_calculated = []\n",
    "    sum_entropies = 0\n",
    "    for word in list_words:\n",
    "        if word not in words_calculated:\n",
    "            specific_word_count = count_specific_word(word)\n",
    "            probability_word = count_probability(specific_word_count, all_words)\n",
    "            entropy_specific_word = measure_entropy_specific_word(probability_word)\n",
    "            sum_entropies += entropy_specific_word\n",
    "            words_calculated.append(word)\n",
    "    return -sum_entropies"
   ]
  },
  {
   "cell_type": "code",
   "execution_count": 13,
   "metadata": {},
   "outputs": [
    {
     "data": {
      "text/plain": [
       "3.2195282822995477"
      ]
     },
     "execution_count": 13,
     "metadata": {},
     "output_type": "execute_result"
    }
   ],
   "source": [
    "calculate_entropy_for_all_words(text_split)"
   ]
  },
  {
   "cell_type": "code",
   "execution_count": 14,
   "metadata": {},
   "outputs": [
    {
     "data": {
      "text/plain": [
       "-0.4911677273647058"
      ]
     },
     "execution_count": 14,
     "metadata": {},
     "output_type": "execute_result"
    }
   ],
   "source": [
    "-2.0874628413 * 0.23529411764705882"
   ]
  },
  {
   "cell_type": "code",
   "execution_count": 15,
   "metadata": {},
   "outputs": [],
   "source": [
    "# import pyinform"
   ]
  },
  {
   "cell_type": "code",
   "execution_count": 16,
   "metadata": {},
   "outputs": [],
   "source": [
    "# pyinform.entropy_rate([0,0,1,1,1,1,0,0,0], k=2)\n"
   ]
  },
  {
   "cell_type": "code",
   "execution_count": 17,
   "metadata": {},
   "outputs": [],
   "source": [
    "# pyinform.entropy_rate([1,2,3,4,5,2,6,7,2,8,7,2,8,9,10,7,11], k=3)"
   ]
  },
  {
   "cell_type": "code",
   "execution_count": 18,
   "metadata": {},
   "outputs": [],
   "source": [
    "# pyinform.entropy_rate([1,2,3,4,6,2,5,7,2,8,7,2,8,9,10,7,11], k=0)"
   ]
  },
  {
   "cell_type": "code",
   "execution_count": 19,
   "metadata": {},
   "outputs": [],
   "source": [
    "# pyinform.entropy_rate(text_split, k=2)"
   ]
  },
  {
   "cell_type": "code",
   "execution_count": 20,
   "metadata": {},
   "outputs": [],
   "source": [
    "sum_logs = (np.log2(2)/1) + (np.log2(3)/1) + (np.log2(4)/1) + (np.log2(5)/1) + (np.log2(6)/5) + (np.log2(7)/1) + (np.log2(8)/1) + (np.log2(9)/4) + (np.log2(10)/1) + \\\n",
    "    (np.log2(11)/4) + (np.log2(12)/4) + (np.log2(13)/4) + (np.log2(14)/1) + (np.log2(15)/1) + (np.log2(16)/6) + (np.log2(17)/1)"
   ]
  },
  {
   "cell_type": "code",
   "execution_count": 21,
   "metadata": {},
   "outputs": [
    {
     "data": {
      "text/plain": [
       "32.500230848016315"
      ]
     },
     "execution_count": 21,
     "metadata": {},
     "output_type": "execute_result"
    }
   ],
   "source": [
    "sum_logs"
   ]
  },
  {
   "cell_type": "code",
   "execution_count": 22,
   "metadata": {},
   "outputs": [
    {
     "data": {
      "text/plain": [
       "1.9117782851774303"
      ]
     },
     "execution_count": 22,
     "metadata": {},
     "output_type": "execute_result"
    }
   ],
   "source": [
    "(1/17) * sum_logs"
   ]
  },
  {
   "cell_type": "code",
   "execution_count": null,
   "metadata": {},
   "outputs": [],
   "source": []
  },
  {
   "cell_type": "code",
   "execution_count": 23,
   "metadata": {},
   "outputs": [],
   "source": [
    "import EntropyCount"
   ]
  },
  {
   "cell_type": "code",
   "execution_count": 24,
   "metadata": {},
   "outputs": [
    {
     "data": {
      "text/plain": [
       "(3.2195282822995477, 17)"
      ]
     },
     "execution_count": 24,
     "metadata": {},
     "output_type": "execute_result"
    }
   ],
   "source": [
    "EntropyCount.calculate_entropy_for_all_words(text_split)"
   ]
  },
  {
   "cell_type": "code",
   "execution_count": null,
   "metadata": {},
   "outputs": [],
   "source": []
  },
  {
   "cell_type": "code",
   "execution_count": 25,
   "metadata": {},
   "outputs": [
    {
     "data": {
      "text/plain": [
       "[1, 5, 8, 11]"
      ]
     },
     "execution_count": 25,
     "metadata": {},
     "output_type": "execute_result"
    }
   ],
   "source": [
    "[i for i,x in enumerate(text_split) if x==\"the\"]"
   ]
  },
  {
   "cell_type": "code",
   "execution_count": 26,
   "metadata": {},
   "outputs": [],
   "source": [
    "def find_word_in_list(word, text):\n",
    "    return [i for i,x in enumerate(text) if x==word]"
   ]
  },
  {
   "cell_type": "code",
   "execution_count": 27,
   "metadata": {},
   "outputs": [
    {
     "data": {
      "text/plain": [
       "[1, 5, 8, 11]"
      ]
     },
     "execution_count": 27,
     "metadata": {},
     "output_type": "execute_result"
    }
   ],
   "source": [
    "find_word_in_list(\"the\", text_split)"
   ]
  },
  {
   "cell_type": "code",
   "execution_count": 28,
   "metadata": {},
   "outputs": [
    {
     "name": "stdout",
     "output_type": "stream",
     "text": [
      "and\n",
      "[7, 10, 15]\n",
      "<class 'list'>\n",
      "3\n",
      "1\n"
     ]
    }
   ],
   "source": [
    "word_position = 7\n",
    "# word = \"the\"\n",
    "print(text_split[word_position])\n",
    "\n",
    "places_word_in_list = find_word_in_list(text_split[word_position], text_split)\n",
    "print(places_word_in_list)\n",
    "print(type(places_word_in_list))\n",
    "print(len(places_word_in_list))\n",
    "\n",
    "if len(places_word_in_list) < 2:\n",
    "    L = 1\n",
    "\n",
    "elif places_word_in_list[0] == word_position:\n",
    "    L = 1\n",
    "    \n",
    "else:\n",
    "    places_before  = [i for i in places_word_in_list if i < word_position]\n",
    "    \n",
    "    \n",
    "    if len(places_before) < 2:\n",
    "        \n",
    "        print(\"places before list:\")\n",
    "        print(places_before)\n",
    "        \n",
    "        before_word_max = places_before[0]\n",
    "        \n",
    "        \n",
    "    else:\n",
    "        before_word_max = max(places_before)\n",
    "    \n",
    "    print(\"before_word_max: \" + str(before_word_max))\n",
    "    L = word_position - before_word_max\n",
    "          \n",
    "    \n",
    "    \n",
    "print(L)"
   ]
  },
  {
   "cell_type": "code",
   "execution_count": 29,
   "metadata": {},
   "outputs": [
    {
     "data": {
      "text/plain": [
       "1"
      ]
     },
     "execution_count": 29,
     "metadata": {},
     "output_type": "execute_result"
    }
   ],
   "source": [
    "L"
   ]
  },
  {
   "cell_type": "code",
   "execution_count": 30,
   "metadata": {},
   "outputs": [
    {
     "data": {
      "text/plain": [
       "2"
      ]
     },
     "execution_count": 30,
     "metadata": {},
     "output_type": "execute_result"
    }
   ],
   "source": [
    "max([1,2])"
   ]
  },
  {
   "cell_type": "code",
   "execution_count": 31,
   "metadata": {},
   "outputs": [],
   "source": [
    "def find_L_value_for_word(word_position, text):\n",
    "\n",
    "    places_word_in_list = find_word_in_list(text_split[word_position], text_split)\n",
    "#     print(places_word_in_list)\n",
    "#     print(type(places_word_in_list))\n",
    "#     print(len(places_word_in_list))\n",
    "\n",
    "    if len(places_word_in_list) < 2:\n",
    "        L = 1\n",
    "\n",
    "    elif places_word_in_list[0] == word_position:\n",
    "        L = 1\n",
    "\n",
    "    else:\n",
    "        places_before  = [i for i in places_word_in_list if i < word_position]\n",
    "\n",
    "\n",
    "        if len(places_before) < 2:\n",
    "\n",
    "#             print(\"places before list:\")\n",
    "#             print(places_before)\n",
    "\n",
    "            before_word_max = places_before[0]\n",
    "\n",
    "\n",
    "        else:\n",
    "            before_word_max = max(places_before)\n",
    "\n",
    "#         print(\"before_word_max: \" + str(before_word_max))\n",
    "        L = word_position - before_word_max +1\n",
    "        \n",
    "    return L"
   ]
  },
  {
   "cell_type": "code",
   "execution_count": 32,
   "metadata": {},
   "outputs": [
    {
     "data": {
      "text/plain": [
       "5"
      ]
     },
     "execution_count": 32,
     "metadata": {},
     "output_type": "execute_result"
    }
   ],
   "source": [
    "find_L_value_for_word(5, text_split)"
   ]
  },
  {
   "cell_type": "code",
   "execution_count": 33,
   "metadata": {},
   "outputs": [],
   "source": [
    "L_values = []\n",
    "right_side = []\n",
    "for i in range(len(text_split)):\n",
    "    if i == 0:\n",
    "        pass\n",
    "    else:\n",
    "        log2_i = np.log2(i+1)\n",
    "        L = find_L_value_for_word(i, text_split)\n",
    "        L_values.append(L)\n",
    "        right_side.append(log2_i/L)\n",
    "        \n",
    "sum_right_side = sum(right_side)\n",
    "full_equation = sum_right_side/len(text_split)"
   ]
  },
  {
   "cell_type": "code",
   "execution_count": 34,
   "metadata": {},
   "outputs": [
    {
     "data": {
      "text/plain": [
       "[1, 1, 1, 1, 5, 1, 1, 4, 1, 4, 4, 4, 1, 1, 6, 1]"
      ]
     },
     "execution_count": 34,
     "metadata": {},
     "output_type": "execute_result"
    }
   ],
   "source": [
    "L_values"
   ]
  },
  {
   "cell_type": "code",
   "execution_count": 35,
   "metadata": {},
   "outputs": [
    {
     "data": {
      "text/plain": [
       "[1, 1, 1, 1, 5, 1, 1, 4, 1, 4, 4, 4, 1, 1, 6, 1]"
      ]
     },
     "execution_count": 35,
     "metadata": {},
     "output_type": "execute_result"
    }
   ],
   "source": [
    "L_values"
   ]
  },
  {
   "cell_type": "code",
   "execution_count": 36,
   "metadata": {},
   "outputs": [
    {
     "data": {
      "text/plain": [
       "[1.0,\n",
       " 1.584962500721156,\n",
       " 2.0,\n",
       " 2.321928094887362,\n",
       " 0.5169925001442313,\n",
       " 2.807354922057604,\n",
       " 3.0,\n",
       " 0.792481250360578,\n",
       " 3.321928094887362,\n",
       " 0.8648579046593243,\n",
       " 0.896240625180289,\n",
       " 0.925109929535273,\n",
       " 3.807354922057604,\n",
       " 3.9068905956085187,\n",
       " 0.6666666666666666,\n",
       " 4.087462841250339]"
      ]
     },
     "execution_count": 36,
     "metadata": {},
     "output_type": "execute_result"
    }
   ],
   "source": [
    "right_side"
   ]
  },
  {
   "cell_type": "code",
   "execution_count": 37,
   "metadata": {},
   "outputs": [
    {
     "data": {
      "text/plain": [
       "1.9117782851774303"
      ]
     },
     "execution_count": 37,
     "metadata": {},
     "output_type": "execute_result"
    }
   ],
   "source": [
    "full_equation"
   ]
  },
  {
   "cell_type": "code",
   "execution_count": 38,
   "metadata": {},
   "outputs": [],
   "source": [
    "import EntropyCount"
   ]
  },
  {
   "cell_type": "code",
   "execution_count": 39,
   "metadata": {},
   "outputs": [
    {
     "data": {
      "text/plain": [
       "1.9117782851774303"
      ]
     },
     "execution_count": 39,
     "metadata": {},
     "output_type": "execute_result"
    }
   ],
   "source": [
    "EntropyCount.entropy_rate_calculate(text_split)"
   ]
  },
  {
   "cell_type": "code",
   "execution_count": null,
   "metadata": {},
   "outputs": [],
   "source": []
  }
 ],
 "metadata": {
  "kernelspec": {
   "display_name": "Python 3",
   "language": "python",
   "name": "python3"
  },
  "language_info": {
   "codemirror_mode": {
    "name": "ipython",
    "version": 3
   },
   "file_extension": ".py",
   "mimetype": "text/x-python",
   "name": "python",
   "nbconvert_exporter": "python",
   "pygments_lexer": "ipython3",
   "version": "3.8.1"
  }
 },
 "nbformat": 4,
 "nbformat_minor": 4
}
